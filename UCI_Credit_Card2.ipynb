{
 "cells": [
  {
   "cell_type": "markdown",
   "metadata": {},
   "source": [
    "<div class=\"alert alert-block alert-info\">\n",
    "<b><font size=\"6\"> Classification task (Predict defalt credit card)</font></b>\n",
    "</div>\n",
    "\n"
   ]
  },
  {
   "cell_type": "markdown",
   "metadata": {},
   "source": [
    "### Dataset: https://www.kaggle.com/uciml/default-of-credit-card-clients-dataset"
   ]
  },
  {
   "cell_type": "markdown",
   "metadata": {},
   "source": [
    "<div class=\"alert alert-block alert-success\">     \n",
    "   \n",
    "Dataset Variables:\n",
    "\n",
    "There are 25 variables:\n",
    "\n",
    "ID: ID of each client\n",
    "\n",
    "LIMIT_BAL: Amount of given credit in NT dollars (includes individual and family/supplementary credit\n",
    "\n",
    "SEX: Gender (1=male, 2=female)\n",
    "\n",
    "EDUCATION: (1=graduate school, 2=university, 3=high school, 4=others, 5=unknown, 6=unknown)\n",
    "\n",
    "MARRIAGE: Marital status (1=married, 2=single, 3=others)\n",
    "\n",
    "AGE: Age in years\n",
    "\n",
    "PAY_0: Repayment status in September, 2005 (-1=pay duly, 1=payment delay for one month, 2=payment delay for two months, ... 8=payment delay for eight months, 9=payment delay for nine months and above)\n",
    "\n",
    "PAY_2: Repayment status in August, 2005 (scale same as above)\n",
    "\n",
    "PAY_3: Repayment status in July, 2005 (scale same as above)\n",
    "\n",
    "PAY_4: Repayment status in June, 2005 (scale same as above)\n",
    "\n",
    "PAY_5: Repayment status in May, 2005 (scale same as above)\n",
    "\n",
    "PAY_6: Repayment status in April, 2005 (scale same as above)\n",
    "\n",
    "BILL_AMT1: Amount of bill statement in September, 2005 (NT dollar)\n",
    "\n",
    "BILL_AMT2: Amount of bill statement in August, 2005 (NT dollar)\n",
    "\n",
    "BILL_AMT3: Amount of bill statement in July, 2005 (NT dollar)\n",
    "\n",
    "BILL_AMT4: Amount of bill statement in June, 2005 (NT dollar)\n",
    "\n",
    "BILL_AMT5: Amount of bill statement in May, 2005 (NT dollar)\n",
    "\n",
    "BILL_AMT6: Amount of bill statement in April, 2005 (NT dollar)\n",
    "\n",
    "PAY_AMT1: Amount of previous payment in September, 2005 (NT dollar)\n",
    "\n",
    "PAY_AMT2: Amount of previous payment in August, 2005 (NT dollar)\n",
    "\n",
    "PAY_AMT3: Amount of previous payment in July, 2005 (NT dollar)\n",
    "\n",
    "PAY_AMT4: Amount of previous payment in June, 2005 (NT dollar)\n",
    "\n",
    "PAY_AMT5: Amount of previous payment in May, 2005 (NT dollar)\n",
    "\n",
    "PAY_AMT6: Amount of previous payment in April, 2005 (NT dollar)\n",
    "\n",
    "default.payment.next.month: Default payment (1=yes, 0=no)\n",
    "\n",
    "<div>"
   ]
  },
  {
   "cell_type": "code",
   "execution_count": 76,
   "metadata": {},
   "outputs": [
    {
     "data": {
      "text/html": [
       "<style>.container{width:100% !important;}</style>"
      ],
      "text/plain": [
       "<IPython.core.display.HTML object>"
      ]
     },
     "metadata": {},
     "output_type": "display_data"
    }
   ],
   "source": [
    "from IPython.core.interactiveshell import InteractiveShell\n",
    "InteractiveShell.ast_node_interactivity = \"all\"\n",
    "import pandas as pd\n",
    "import matplotlib.pyplot as plt\n",
    "import seaborn as sns\n",
    "import numpy as np\n",
    "%matplotlib inline \n",
    "\n",
    "import warnings\n",
    "warnings.filterwarnings('ignore')\n",
    "\n",
    "from IPython.core.display import display,HTML\n",
    "display(HTML(\"<style>.container{width:100% !important;}</style>\"))\n",
    "\n",
    "\n"
   ]
  },
  {
   "cell_type": "code",
   "execution_count": 2,
   "metadata": {},
   "outputs": [
    {
     "data": {
      "text/html": [
       "<div>\n",
       "<style scoped>\n",
       "    .dataframe tbody tr th:only-of-type {\n",
       "        vertical-align: middle;\n",
       "    }\n",
       "\n",
       "    .dataframe tbody tr th {\n",
       "        vertical-align: top;\n",
       "    }\n",
       "\n",
       "    .dataframe thead th {\n",
       "        text-align: right;\n",
       "    }\n",
       "</style>\n",
       "<table border=\"1\" class=\"dataframe\">\n",
       "  <thead>\n",
       "    <tr style=\"text-align: right;\">\n",
       "      <th></th>\n",
       "      <th>ID</th>\n",
       "      <th>LIMIT_BAL</th>\n",
       "      <th>SEX</th>\n",
       "      <th>EDUCATION</th>\n",
       "      <th>MARRIAGE</th>\n",
       "      <th>AGE</th>\n",
       "      <th>PAY_0</th>\n",
       "      <th>PAY_2</th>\n",
       "      <th>PAY_3</th>\n",
       "      <th>PAY_4</th>\n",
       "      <th>...</th>\n",
       "      <th>BILL_AMT4</th>\n",
       "      <th>BILL_AMT5</th>\n",
       "      <th>BILL_AMT6</th>\n",
       "      <th>PAY_AMT1</th>\n",
       "      <th>PAY_AMT2</th>\n",
       "      <th>PAY_AMT3</th>\n",
       "      <th>PAY_AMT4</th>\n",
       "      <th>PAY_AMT5</th>\n",
       "      <th>PAY_AMT6</th>\n",
       "      <th>default.payment.next.month</th>\n",
       "    </tr>\n",
       "  </thead>\n",
       "  <tbody>\n",
       "    <tr>\n",
       "      <th>0</th>\n",
       "      <td>1</td>\n",
       "      <td>20000.0</td>\n",
       "      <td>2</td>\n",
       "      <td>2</td>\n",
       "      <td>1</td>\n",
       "      <td>24</td>\n",
       "      <td>2</td>\n",
       "      <td>2</td>\n",
       "      <td>-1</td>\n",
       "      <td>-1</td>\n",
       "      <td>...</td>\n",
       "      <td>0.0</td>\n",
       "      <td>0.0</td>\n",
       "      <td>0.0</td>\n",
       "      <td>0.0</td>\n",
       "      <td>689.0</td>\n",
       "      <td>0.0</td>\n",
       "      <td>0.0</td>\n",
       "      <td>0.0</td>\n",
       "      <td>0.0</td>\n",
       "      <td>1</td>\n",
       "    </tr>\n",
       "    <tr>\n",
       "      <th>1</th>\n",
       "      <td>2</td>\n",
       "      <td>120000.0</td>\n",
       "      <td>2</td>\n",
       "      <td>2</td>\n",
       "      <td>2</td>\n",
       "      <td>26</td>\n",
       "      <td>-1</td>\n",
       "      <td>2</td>\n",
       "      <td>0</td>\n",
       "      <td>0</td>\n",
       "      <td>...</td>\n",
       "      <td>3272.0</td>\n",
       "      <td>3455.0</td>\n",
       "      <td>3261.0</td>\n",
       "      <td>0.0</td>\n",
       "      <td>1000.0</td>\n",
       "      <td>1000.0</td>\n",
       "      <td>1000.0</td>\n",
       "      <td>0.0</td>\n",
       "      <td>2000.0</td>\n",
       "      <td>1</td>\n",
       "    </tr>\n",
       "    <tr>\n",
       "      <th>2</th>\n",
       "      <td>3</td>\n",
       "      <td>90000.0</td>\n",
       "      <td>2</td>\n",
       "      <td>2</td>\n",
       "      <td>2</td>\n",
       "      <td>34</td>\n",
       "      <td>0</td>\n",
       "      <td>0</td>\n",
       "      <td>0</td>\n",
       "      <td>0</td>\n",
       "      <td>...</td>\n",
       "      <td>14331.0</td>\n",
       "      <td>14948.0</td>\n",
       "      <td>15549.0</td>\n",
       "      <td>1518.0</td>\n",
       "      <td>1500.0</td>\n",
       "      <td>1000.0</td>\n",
       "      <td>1000.0</td>\n",
       "      <td>1000.0</td>\n",
       "      <td>5000.0</td>\n",
       "      <td>0</td>\n",
       "    </tr>\n",
       "    <tr>\n",
       "      <th>3</th>\n",
       "      <td>4</td>\n",
       "      <td>50000.0</td>\n",
       "      <td>2</td>\n",
       "      <td>2</td>\n",
       "      <td>1</td>\n",
       "      <td>37</td>\n",
       "      <td>0</td>\n",
       "      <td>0</td>\n",
       "      <td>0</td>\n",
       "      <td>0</td>\n",
       "      <td>...</td>\n",
       "      <td>28314.0</td>\n",
       "      <td>28959.0</td>\n",
       "      <td>29547.0</td>\n",
       "      <td>2000.0</td>\n",
       "      <td>2019.0</td>\n",
       "      <td>1200.0</td>\n",
       "      <td>1100.0</td>\n",
       "      <td>1069.0</td>\n",
       "      <td>1000.0</td>\n",
       "      <td>0</td>\n",
       "    </tr>\n",
       "    <tr>\n",
       "      <th>4</th>\n",
       "      <td>5</td>\n",
       "      <td>50000.0</td>\n",
       "      <td>1</td>\n",
       "      <td>2</td>\n",
       "      <td>1</td>\n",
       "      <td>57</td>\n",
       "      <td>-1</td>\n",
       "      <td>0</td>\n",
       "      <td>-1</td>\n",
       "      <td>0</td>\n",
       "      <td>...</td>\n",
       "      <td>20940.0</td>\n",
       "      <td>19146.0</td>\n",
       "      <td>19131.0</td>\n",
       "      <td>2000.0</td>\n",
       "      <td>36681.0</td>\n",
       "      <td>10000.0</td>\n",
       "      <td>9000.0</td>\n",
       "      <td>689.0</td>\n",
       "      <td>679.0</td>\n",
       "      <td>0</td>\n",
       "    </tr>\n",
       "  </tbody>\n",
       "</table>\n",
       "<p>5 rows × 25 columns</p>\n",
       "</div>"
      ],
      "text/plain": [
       "   ID  LIMIT_BAL  SEX  EDUCATION  MARRIAGE  AGE  PAY_0  PAY_2  PAY_3  PAY_4  \\\n",
       "0   1    20000.0    2          2         1   24      2      2     -1     -1   \n",
       "1   2   120000.0    2          2         2   26     -1      2      0      0   \n",
       "2   3    90000.0    2          2         2   34      0      0      0      0   \n",
       "3   4    50000.0    2          2         1   37      0      0      0      0   \n",
       "4   5    50000.0    1          2         1   57     -1      0     -1      0   \n",
       "\n",
       "   ...  BILL_AMT4  BILL_AMT5  BILL_AMT6  PAY_AMT1  PAY_AMT2  PAY_AMT3  \\\n",
       "0  ...        0.0        0.0        0.0       0.0     689.0       0.0   \n",
       "1  ...     3272.0     3455.0     3261.0       0.0    1000.0    1000.0   \n",
       "2  ...    14331.0    14948.0    15549.0    1518.0    1500.0    1000.0   \n",
       "3  ...    28314.0    28959.0    29547.0    2000.0    2019.0    1200.0   \n",
       "4  ...    20940.0    19146.0    19131.0    2000.0   36681.0   10000.0   \n",
       "\n",
       "   PAY_AMT4  PAY_AMT5  PAY_AMT6  default.payment.next.month  \n",
       "0       0.0       0.0       0.0                           1  \n",
       "1    1000.0       0.0    2000.0                           1  \n",
       "2    1000.0    1000.0    5000.0                           0  \n",
       "3    1100.0    1069.0    1000.0                           0  \n",
       "4    9000.0     689.0     679.0                           0  \n",
       "\n",
       "[5 rows x 25 columns]"
      ]
     },
     "execution_count": 2,
     "metadata": {},
     "output_type": "execute_result"
    },
    {
     "name": "stdout",
     "output_type": "stream",
     "text": [
      "<class 'pandas.core.frame.DataFrame'>\n",
      "RangeIndex: 30000 entries, 0 to 29999\n",
      "Data columns (total 25 columns):\n",
      "ID                            30000 non-null int64\n",
      "LIMIT_BAL                     30000 non-null float64\n",
      "SEX                           30000 non-null int64\n",
      "EDUCATION                     30000 non-null int64\n",
      "MARRIAGE                      30000 non-null int64\n",
      "AGE                           30000 non-null int64\n",
      "PAY_0                         30000 non-null int64\n",
      "PAY_2                         30000 non-null int64\n",
      "PAY_3                         30000 non-null int64\n",
      "PAY_4                         30000 non-null int64\n",
      "PAY_5                         30000 non-null int64\n",
      "PAY_6                         30000 non-null int64\n",
      "BILL_AMT1                     30000 non-null float64\n",
      "BILL_AMT2                     30000 non-null float64\n",
      "BILL_AMT3                     30000 non-null float64\n",
      "BILL_AMT4                     30000 non-null float64\n",
      "BILL_AMT5                     30000 non-null float64\n",
      "BILL_AMT6                     30000 non-null float64\n",
      "PAY_AMT1                      30000 non-null float64\n",
      "PAY_AMT2                      30000 non-null float64\n",
      "PAY_AMT3                      30000 non-null float64\n",
      "PAY_AMT4                      30000 non-null float64\n",
      "PAY_AMT5                      30000 non-null float64\n",
      "PAY_AMT6                      30000 non-null float64\n",
      "default.payment.next.month    30000 non-null int64\n",
      "dtypes: float64(13), int64(12)\n",
      "memory usage: 5.7 MB\n"
     ]
    }
   ],
   "source": [
    "df = pd.read_csv('UCI_Credit_Card.csv')\n",
    "df.head()\n",
    "df.info()"
   ]
  },
  {
   "cell_type": "markdown",
   "metadata": {},
   "source": [
    "<div class=\"alert alert-block alert-info\">\n",
    "<b><font size=\"5\">Create and handle missing value</font></b>\n",
    "</div>\n",
    "\n",
    "\n"
   ]
  },
  {
   "cell_type": "code",
   "execution_count": 3,
   "metadata": {},
   "outputs": [
    {
     "name": "stdout",
     "output_type": "stream",
     "text": [
      "<class 'pandas.core.frame.DataFrame'>\n",
      "RangeIndex: 30000 entries, 0 to 29999\n",
      "Data columns (total 25 columns):\n",
      "ID                            28253 non-null float64\n",
      "LIMIT_BAL                     28191 non-null float64\n",
      "SEX                           28202 non-null float64\n",
      "EDUCATION                     28131 non-null float64\n",
      "MARRIAGE                      28216 non-null float64\n",
      "AGE                           28322 non-null float64\n",
      "PAY_0                         28153 non-null float64\n",
      "PAY_2                         28174 non-null float64\n",
      "PAY_3                         28170 non-null float64\n",
      "PAY_4                         28210 non-null float64\n",
      "PAY_5                         28236 non-null float64\n",
      "PAY_6                         28205 non-null float64\n",
      "BILL_AMT1                     28162 non-null float64\n",
      "BILL_AMT2                     28229 non-null float64\n",
      "BILL_AMT3                     28221 non-null float64\n",
      "BILL_AMT4                     28149 non-null float64\n",
      "BILL_AMT5                     28187 non-null float64\n",
      "BILL_AMT6                     28136 non-null float64\n",
      "PAY_AMT1                      28162 non-null float64\n",
      "PAY_AMT2                      28174 non-null float64\n",
      "PAY_AMT3                      28196 non-null float64\n",
      "PAY_AMT4                      28224 non-null float64\n",
      "PAY_AMT5                      28185 non-null float64\n",
      "PAY_AMT6                      28283 non-null float64\n",
      "default.payment.next.month    28190 non-null float64\n",
      "dtypes: float64(25)\n",
      "memory usage: 5.7 MB\n"
     ]
    },
    {
     "data": {
      "text/plain": [
       "ID                            1747\n",
       "LIMIT_BAL                     1809\n",
       "SEX                           1798\n",
       "EDUCATION                     1869\n",
       "MARRIAGE                      1784\n",
       "AGE                           1678\n",
       "PAY_0                         1847\n",
       "PAY_2                         1826\n",
       "PAY_3                         1830\n",
       "PAY_4                         1790\n",
       "PAY_5                         1764\n",
       "PAY_6                         1795\n",
       "BILL_AMT1                     1838\n",
       "BILL_AMT2                     1771\n",
       "BILL_AMT3                     1779\n",
       "BILL_AMT4                     1851\n",
       "BILL_AMT5                     1813\n",
       "BILL_AMT6                     1864\n",
       "PAY_AMT1                      1838\n",
       "PAY_AMT2                      1826\n",
       "PAY_AMT3                      1804\n",
       "PAY_AMT4                      1776\n",
       "PAY_AMT5                      1815\n",
       "PAY_AMT6                      1717\n",
       "default.payment.next.month    1810\n",
       "dtype: int64"
      ]
     },
     "execution_count": 3,
     "metadata": {},
     "output_type": "execute_result"
    }
   ],
   "source": [
    "mask = np.random.choice([True,False],size=df.shape,p=[0.06,.94])\n",
    "df=df.mask(mask)\n",
    "df.info()\n",
    "df.isnull().sum()\n",
    "df =df.drop(['ID'],axis=1)"
   ]
  },
  {
   "cell_type": "code",
   "execution_count": 4,
   "metadata": {},
   "outputs": [
    {
     "data": {
      "text/html": [
       "<div>\n",
       "<style scoped>\n",
       "    .dataframe tbody tr th:only-of-type {\n",
       "        vertical-align: middle;\n",
       "    }\n",
       "\n",
       "    .dataframe tbody tr th {\n",
       "        vertical-align: top;\n",
       "    }\n",
       "\n",
       "    .dataframe thead th {\n",
       "        text-align: right;\n",
       "    }\n",
       "</style>\n",
       "<table border=\"1\" class=\"dataframe\">\n",
       "  <thead>\n",
       "    <tr style=\"text-align: right;\">\n",
       "      <th></th>\n",
       "      <th>LIMIT_BAL</th>\n",
       "      <th>SEX</th>\n",
       "      <th>EDUCATION</th>\n",
       "      <th>MARRIAGE</th>\n",
       "      <th>AGE</th>\n",
       "      <th>PAY_0</th>\n",
       "      <th>PAY_2</th>\n",
       "      <th>PAY_3</th>\n",
       "      <th>PAY_4</th>\n",
       "      <th>PAY_5</th>\n",
       "      <th>...</th>\n",
       "      <th>BILL_AMT4</th>\n",
       "      <th>BILL_AMT5</th>\n",
       "      <th>BILL_AMT6</th>\n",
       "      <th>PAY_AMT1</th>\n",
       "      <th>PAY_AMT2</th>\n",
       "      <th>PAY_AMT3</th>\n",
       "      <th>PAY_AMT4</th>\n",
       "      <th>PAY_AMT5</th>\n",
       "      <th>PAY_AMT6</th>\n",
       "      <th>default.payment.next.month</th>\n",
       "    </tr>\n",
       "  </thead>\n",
       "  <tbody>\n",
       "    <tr>\n",
       "      <th>0</th>\n",
       "      <td>20000.0</td>\n",
       "      <td>2.0</td>\n",
       "      <td>2.0</td>\n",
       "      <td>1.0</td>\n",
       "      <td>24.0</td>\n",
       "      <td>2.0</td>\n",
       "      <td>-2.0</td>\n",
       "      <td>-1.0</td>\n",
       "      <td>-1.0</td>\n",
       "      <td>-2.0</td>\n",
       "      <td>...</td>\n",
       "      <td>0.0</td>\n",
       "      <td>0.0</td>\n",
       "      <td>0.0</td>\n",
       "      <td>0.0</td>\n",
       "      <td>689.0</td>\n",
       "      <td>0.0</td>\n",
       "      <td>0.0</td>\n",
       "      <td>0.0</td>\n",
       "      <td>0.0</td>\n",
       "      <td>1.0</td>\n",
       "    </tr>\n",
       "    <tr>\n",
       "      <th>1</th>\n",
       "      <td>120000.0</td>\n",
       "      <td>2.0</td>\n",
       "      <td>2.0</td>\n",
       "      <td>2.0</td>\n",
       "      <td>26.0</td>\n",
       "      <td>-1.0</td>\n",
       "      <td>2.0</td>\n",
       "      <td>0.0</td>\n",
       "      <td>0.0</td>\n",
       "      <td>0.0</td>\n",
       "      <td>...</td>\n",
       "      <td>3272.0</td>\n",
       "      <td>3455.0</td>\n",
       "      <td>3261.0</td>\n",
       "      <td>0.0</td>\n",
       "      <td>1000.0</td>\n",
       "      <td>0.0</td>\n",
       "      <td>1000.0</td>\n",
       "      <td>0.0</td>\n",
       "      <td>2000.0</td>\n",
       "      <td>1.0</td>\n",
       "    </tr>\n",
       "    <tr>\n",
       "      <th>2</th>\n",
       "      <td>90000.0</td>\n",
       "      <td>2.0</td>\n",
       "      <td>2.0</td>\n",
       "      <td>2.0</td>\n",
       "      <td>34.0</td>\n",
       "      <td>0.0</td>\n",
       "      <td>0.0</td>\n",
       "      <td>0.0</td>\n",
       "      <td>0.0</td>\n",
       "      <td>0.0</td>\n",
       "      <td>...</td>\n",
       "      <td>14331.0</td>\n",
       "      <td>14948.0</td>\n",
       "      <td>15549.0</td>\n",
       "      <td>1518.0</td>\n",
       "      <td>1500.0</td>\n",
       "      <td>1000.0</td>\n",
       "      <td>1000.0</td>\n",
       "      <td>1000.0</td>\n",
       "      <td>5000.0</td>\n",
       "      <td>0.0</td>\n",
       "    </tr>\n",
       "    <tr>\n",
       "      <th>3</th>\n",
       "      <td>50000.0</td>\n",
       "      <td>2.0</td>\n",
       "      <td>2.0</td>\n",
       "      <td>1.0</td>\n",
       "      <td>37.0</td>\n",
       "      <td>0.0</td>\n",
       "      <td>0.0</td>\n",
       "      <td>0.0</td>\n",
       "      <td>0.0</td>\n",
       "      <td>0.0</td>\n",
       "      <td>...</td>\n",
       "      <td>28314.0</td>\n",
       "      <td>28959.0</td>\n",
       "      <td>29547.0</td>\n",
       "      <td>2000.0</td>\n",
       "      <td>2019.0</td>\n",
       "      <td>1200.0</td>\n",
       "      <td>1100.0</td>\n",
       "      <td>1069.0</td>\n",
       "      <td>1000.0</td>\n",
       "      <td>0.0</td>\n",
       "    </tr>\n",
       "    <tr>\n",
       "      <th>4</th>\n",
       "      <td>50000.0</td>\n",
       "      <td>1.0</td>\n",
       "      <td>2.0</td>\n",
       "      <td>1.0</td>\n",
       "      <td>57.0</td>\n",
       "      <td>-1.0</td>\n",
       "      <td>0.0</td>\n",
       "      <td>-1.0</td>\n",
       "      <td>0.0</td>\n",
       "      <td>0.0</td>\n",
       "      <td>...</td>\n",
       "      <td>20940.0</td>\n",
       "      <td>19146.0</td>\n",
       "      <td>19131.0</td>\n",
       "      <td>2000.0</td>\n",
       "      <td>36681.0</td>\n",
       "      <td>10000.0</td>\n",
       "      <td>7420.0</td>\n",
       "      <td>591.0</td>\n",
       "      <td>679.0</td>\n",
       "      <td>0.0</td>\n",
       "    </tr>\n",
       "  </tbody>\n",
       "</table>\n",
       "<p>5 rows × 24 columns</p>\n",
       "</div>"
      ],
      "text/plain": [
       "   LIMIT_BAL  SEX  EDUCATION  MARRIAGE   AGE  PAY_0  PAY_2  PAY_3  PAY_4  \\\n",
       "0    20000.0  2.0        2.0       1.0  24.0    2.0   -2.0   -1.0   -1.0   \n",
       "1   120000.0  2.0        2.0       2.0  26.0   -1.0    2.0    0.0    0.0   \n",
       "2    90000.0  2.0        2.0       2.0  34.0    0.0    0.0    0.0    0.0   \n",
       "3    50000.0  2.0        2.0       1.0  37.0    0.0    0.0    0.0    0.0   \n",
       "4    50000.0  1.0        2.0       1.0  57.0   -1.0    0.0   -1.0    0.0   \n",
       "\n",
       "   PAY_5  ...  BILL_AMT4  BILL_AMT5  BILL_AMT6  PAY_AMT1  PAY_AMT2  PAY_AMT3  \\\n",
       "0   -2.0  ...        0.0        0.0        0.0       0.0     689.0       0.0   \n",
       "1    0.0  ...     3272.0     3455.0     3261.0       0.0    1000.0       0.0   \n",
       "2    0.0  ...    14331.0    14948.0    15549.0    1518.0    1500.0    1000.0   \n",
       "3    0.0  ...    28314.0    28959.0    29547.0    2000.0    2019.0    1200.0   \n",
       "4    0.0  ...    20940.0    19146.0    19131.0    2000.0   36681.0   10000.0   \n",
       "\n",
       "   PAY_AMT4  PAY_AMT5  PAY_AMT6  default.payment.next.month  \n",
       "0       0.0       0.0       0.0                         1.0  \n",
       "1    1000.0       0.0    2000.0                         1.0  \n",
       "2    1000.0    1000.0    5000.0                         0.0  \n",
       "3    1100.0    1069.0    1000.0                         0.0  \n",
       "4    7420.0     591.0     679.0                         0.0  \n",
       "\n",
       "[5 rows x 24 columns]"
      ]
     },
     "execution_count": 4,
     "metadata": {},
     "output_type": "execute_result"
    },
    {
     "data": {
      "text/html": [
       "<div>\n",
       "<style scoped>\n",
       "    .dataframe tbody tr th:only-of-type {\n",
       "        vertical-align: middle;\n",
       "    }\n",
       "\n",
       "    .dataframe tbody tr th {\n",
       "        vertical-align: top;\n",
       "    }\n",
       "\n",
       "    .dataframe thead th {\n",
       "        text-align: right;\n",
       "    }\n",
       "</style>\n",
       "<table border=\"1\" class=\"dataframe\">\n",
       "  <thead>\n",
       "    <tr style=\"text-align: right;\">\n",
       "      <th></th>\n",
       "      <th>LIMIT_BAL</th>\n",
       "      <th>SEX</th>\n",
       "      <th>EDUCATION</th>\n",
       "      <th>MARRIAGE</th>\n",
       "      <th>AGE</th>\n",
       "      <th>PAY_0</th>\n",
       "      <th>PAY_2</th>\n",
       "      <th>PAY_3</th>\n",
       "      <th>PAY_4</th>\n",
       "      <th>PAY_5</th>\n",
       "      <th>...</th>\n",
       "      <th>BILL_AMT4</th>\n",
       "      <th>BILL_AMT5</th>\n",
       "      <th>BILL_AMT6</th>\n",
       "      <th>PAY_AMT1</th>\n",
       "      <th>PAY_AMT2</th>\n",
       "      <th>PAY_AMT3</th>\n",
       "      <th>PAY_AMT4</th>\n",
       "      <th>PAY_AMT5</th>\n",
       "      <th>PAY_AMT6</th>\n",
       "      <th>default.payment.next.month</th>\n",
       "    </tr>\n",
       "  </thead>\n",
       "  <tbody>\n",
       "    <tr>\n",
       "      <th>count</th>\n",
       "      <td>30000.000000</td>\n",
       "      <td>30000.000000</td>\n",
       "      <td>30000.000000</td>\n",
       "      <td>30000.000000</td>\n",
       "      <td>30000.000000</td>\n",
       "      <td>30000.000000</td>\n",
       "      <td>30000.000000</td>\n",
       "      <td>30000.000000</td>\n",
       "      <td>30000.000000</td>\n",
       "      <td>30000.000000</td>\n",
       "      <td>...</td>\n",
       "      <td>30000.000000</td>\n",
       "      <td>30000.000000</td>\n",
       "      <td>30000.000000</td>\n",
       "      <td>30000.000000</td>\n",
       "      <td>3.000000e+04</td>\n",
       "      <td>30000.000000</td>\n",
       "      <td>30000.000000</td>\n",
       "      <td>30000.000000</td>\n",
       "      <td>30000.000000</td>\n",
       "      <td>30000.000000</td>\n",
       "    </tr>\n",
       "    <tr>\n",
       "      <th>mean</th>\n",
       "      <td>166944.489333</td>\n",
       "      <td>1.617000</td>\n",
       "      <td>1.856300</td>\n",
       "      <td>1.567900</td>\n",
       "      <td>35.510967</td>\n",
       "      <td>-0.016067</td>\n",
       "      <td>-0.137733</td>\n",
       "      <td>-0.172867</td>\n",
       "      <td>-0.224867</td>\n",
       "      <td>-0.268833</td>\n",
       "      <td>...</td>\n",
       "      <td>43152.561400</td>\n",
       "      <td>40286.370767</td>\n",
       "      <td>38878.380833</td>\n",
       "      <td>5560.573467</td>\n",
       "      <td>5.824577e+03</td>\n",
       "      <td>5147.738700</td>\n",
       "      <td>4721.895400</td>\n",
       "      <td>4678.099767</td>\n",
       "      <td>5113.852867</td>\n",
       "      <td>0.212500</td>\n",
       "    </tr>\n",
       "    <tr>\n",
       "      <th>std</th>\n",
       "      <td>128330.128216</td>\n",
       "      <td>0.486126</td>\n",
       "      <td>0.775244</td>\n",
       "      <td>0.519165</td>\n",
       "      <td>9.118767</td>\n",
       "      <td>1.115699</td>\n",
       "      <td>1.194520</td>\n",
       "      <td>1.187728</td>\n",
       "      <td>1.163621</td>\n",
       "      <td>1.129368</td>\n",
       "      <td>...</td>\n",
       "      <td>64221.903002</td>\n",
       "      <td>60788.831264</td>\n",
       "      <td>59485.835713</td>\n",
       "      <td>16381.456675</td>\n",
       "      <td>2.285910e+04</td>\n",
       "      <td>17485.437686</td>\n",
       "      <td>15414.569545</td>\n",
       "      <td>14884.709381</td>\n",
       "      <td>17449.829636</td>\n",
       "      <td>0.409084</td>\n",
       "    </tr>\n",
       "    <tr>\n",
       "      <th>min</th>\n",
       "      <td>10000.000000</td>\n",
       "      <td>1.000000</td>\n",
       "      <td>0.000000</td>\n",
       "      <td>0.000000</td>\n",
       "      <td>21.000000</td>\n",
       "      <td>-2.000000</td>\n",
       "      <td>-2.000000</td>\n",
       "      <td>-2.000000</td>\n",
       "      <td>-2.000000</td>\n",
       "      <td>-2.000000</td>\n",
       "      <td>...</td>\n",
       "      <td>-170000.000000</td>\n",
       "      <td>-81334.000000</td>\n",
       "      <td>-339603.000000</td>\n",
       "      <td>0.000000</td>\n",
       "      <td>0.000000e+00</td>\n",
       "      <td>0.000000</td>\n",
       "      <td>0.000000</td>\n",
       "      <td>0.000000</td>\n",
       "      <td>0.000000</td>\n",
       "      <td>0.000000</td>\n",
       "    </tr>\n",
       "    <tr>\n",
       "      <th>25%</th>\n",
       "      <td>50000.000000</td>\n",
       "      <td>1.000000</td>\n",
       "      <td>1.000000</td>\n",
       "      <td>1.000000</td>\n",
       "      <td>28.000000</td>\n",
       "      <td>-1.000000</td>\n",
       "      <td>-1.000000</td>\n",
       "      <td>-1.000000</td>\n",
       "      <td>-1.000000</td>\n",
       "      <td>-1.000000</td>\n",
       "      <td>...</td>\n",
       "      <td>2315.000000</td>\n",
       "      <td>1761.750000</td>\n",
       "      <td>1270.750000</td>\n",
       "      <td>1000.000000</td>\n",
       "      <td>8.225000e+02</td>\n",
       "      <td>400.000000</td>\n",
       "      <td>304.750000</td>\n",
       "      <td>300.000000</td>\n",
       "      <td>182.000000</td>\n",
       "      <td>0.000000</td>\n",
       "    </tr>\n",
       "    <tr>\n",
       "      <th>50%</th>\n",
       "      <td>140000.000000</td>\n",
       "      <td>2.000000</td>\n",
       "      <td>2.000000</td>\n",
       "      <td>2.000000</td>\n",
       "      <td>34.000000</td>\n",
       "      <td>0.000000</td>\n",
       "      <td>0.000000</td>\n",
       "      <td>0.000000</td>\n",
       "      <td>0.000000</td>\n",
       "      <td>0.000000</td>\n",
       "      <td>...</td>\n",
       "      <td>19029.000000</td>\n",
       "      <td>18087.000000</td>\n",
       "      <td>17091.500000</td>\n",
       "      <td>2100.000000</td>\n",
       "      <td>2.003000e+03</td>\n",
       "      <td>1800.000000</td>\n",
       "      <td>1500.000000</td>\n",
       "      <td>1500.000000</td>\n",
       "      <td>1500.000000</td>\n",
       "      <td>0.000000</td>\n",
       "    </tr>\n",
       "    <tr>\n",
       "      <th>75%</th>\n",
       "      <td>240000.000000</td>\n",
       "      <td>2.000000</td>\n",
       "      <td>2.000000</td>\n",
       "      <td>2.000000</td>\n",
       "      <td>41.000000</td>\n",
       "      <td>0.000000</td>\n",
       "      <td>0.000000</td>\n",
       "      <td>0.000000</td>\n",
       "      <td>0.000000</td>\n",
       "      <td>0.000000</td>\n",
       "      <td>...</td>\n",
       "      <td>54506.000000</td>\n",
       "      <td>50126.500000</td>\n",
       "      <td>49177.250000</td>\n",
       "      <td>5000.000000</td>\n",
       "      <td>5.000000e+03</td>\n",
       "      <td>4467.000000</td>\n",
       "      <td>4000.000000</td>\n",
       "      <td>4000.000000</td>\n",
       "      <td>4000.000000</td>\n",
       "      <td>0.000000</td>\n",
       "    </tr>\n",
       "    <tr>\n",
       "      <th>max</th>\n",
       "      <td>1000000.000000</td>\n",
       "      <td>2.000000</td>\n",
       "      <td>6.000000</td>\n",
       "      <td>3.000000</td>\n",
       "      <td>79.000000</td>\n",
       "      <td>8.000000</td>\n",
       "      <td>8.000000</td>\n",
       "      <td>8.000000</td>\n",
       "      <td>8.000000</td>\n",
       "      <td>8.000000</td>\n",
       "      <td>...</td>\n",
       "      <td>891586.000000</td>\n",
       "      <td>927171.000000</td>\n",
       "      <td>961664.000000</td>\n",
       "      <td>873552.000000</td>\n",
       "      <td>1.684259e+06</td>\n",
       "      <td>896040.000000</td>\n",
       "      <td>621000.000000</td>\n",
       "      <td>426529.000000</td>\n",
       "      <td>528666.000000</td>\n",
       "      <td>1.000000</td>\n",
       "    </tr>\n",
       "  </tbody>\n",
       "</table>\n",
       "<p>8 rows × 24 columns</p>\n",
       "</div>"
      ],
      "text/plain": [
       "            LIMIT_BAL           SEX     EDUCATION      MARRIAGE           AGE  \\\n",
       "count    30000.000000  30000.000000  30000.000000  30000.000000  30000.000000   \n",
       "mean    166944.489333      1.617000      1.856300      1.567900     35.510967   \n",
       "std     128330.128216      0.486126      0.775244      0.519165      9.118767   \n",
       "min      10000.000000      1.000000      0.000000      0.000000     21.000000   \n",
       "25%      50000.000000      1.000000      1.000000      1.000000     28.000000   \n",
       "50%     140000.000000      2.000000      2.000000      2.000000     34.000000   \n",
       "75%     240000.000000      2.000000      2.000000      2.000000     41.000000   \n",
       "max    1000000.000000      2.000000      6.000000      3.000000     79.000000   \n",
       "\n",
       "              PAY_0         PAY_2         PAY_3         PAY_4         PAY_5  \\\n",
       "count  30000.000000  30000.000000  30000.000000  30000.000000  30000.000000   \n",
       "mean      -0.016067     -0.137733     -0.172867     -0.224867     -0.268833   \n",
       "std        1.115699      1.194520      1.187728      1.163621      1.129368   \n",
       "min       -2.000000     -2.000000     -2.000000     -2.000000     -2.000000   \n",
       "25%       -1.000000     -1.000000     -1.000000     -1.000000     -1.000000   \n",
       "50%        0.000000      0.000000      0.000000      0.000000      0.000000   \n",
       "75%        0.000000      0.000000      0.000000      0.000000      0.000000   \n",
       "max        8.000000      8.000000      8.000000      8.000000      8.000000   \n",
       "\n",
       "       ...      BILL_AMT4      BILL_AMT5      BILL_AMT6       PAY_AMT1  \\\n",
       "count  ...   30000.000000   30000.000000   30000.000000   30000.000000   \n",
       "mean   ...   43152.561400   40286.370767   38878.380833    5560.573467   \n",
       "std    ...   64221.903002   60788.831264   59485.835713   16381.456675   \n",
       "min    ... -170000.000000  -81334.000000 -339603.000000       0.000000   \n",
       "25%    ...    2315.000000    1761.750000    1270.750000    1000.000000   \n",
       "50%    ...   19029.000000   18087.000000   17091.500000    2100.000000   \n",
       "75%    ...   54506.000000   50126.500000   49177.250000    5000.000000   \n",
       "max    ...  891586.000000  927171.000000  961664.000000  873552.000000   \n",
       "\n",
       "           PAY_AMT2       PAY_AMT3       PAY_AMT4       PAY_AMT5  \\\n",
       "count  3.000000e+04   30000.000000   30000.000000   30000.000000   \n",
       "mean   5.824577e+03    5147.738700    4721.895400    4678.099767   \n",
       "std    2.285910e+04   17485.437686   15414.569545   14884.709381   \n",
       "min    0.000000e+00       0.000000       0.000000       0.000000   \n",
       "25%    8.225000e+02     400.000000     304.750000     300.000000   \n",
       "50%    2.003000e+03    1800.000000    1500.000000    1500.000000   \n",
       "75%    5.000000e+03    4467.000000    4000.000000    4000.000000   \n",
       "max    1.684259e+06  896040.000000  621000.000000  426529.000000   \n",
       "\n",
       "            PAY_AMT6  default.payment.next.month  \n",
       "count   30000.000000                30000.000000  \n",
       "mean     5113.852867                    0.212500  \n",
       "std     17449.829636                    0.409084  \n",
       "min         0.000000                    0.000000  \n",
       "25%       182.000000                    0.000000  \n",
       "50%      1500.000000                    0.000000  \n",
       "75%      4000.000000                    0.000000  \n",
       "max    528666.000000                    1.000000  \n",
       "\n",
       "[8 rows x 24 columns]"
      ]
     },
     "execution_count": 4,
     "metadata": {},
     "output_type": "execute_result"
    }
   ],
   "source": [
    "from sklearn.impute import KNNImputer\n",
    "imputer = KNNImputer(n_neighbors=2)\n",
    "df_impute = pd.DataFrame(np.round(imputer.fit_transform(df)),columns = df.columns)\n",
    "df_impute.head()\n",
    "#after imputation\n",
    "df_impute.describe()"
   ]
  },
  {
   "cell_type": "markdown",
   "metadata": {},
   "source": [
    " <div class=\"alert alert-block alert-warning\">\n",
    "    \n",
    "KNNImputer is computationally least expensive way of Imputing Missing Value. It is more efficient than using mean / median / mode. we will also be dropping the features `id` as they won't be quite useful for our analysis.\n",
    "<div>"
   ]
  },
  {
   "cell_type": "code",
   "execution_count": 5,
   "metadata": {},
   "outputs": [],
   "source": [
    "df_impute = df_impute.rename(columns={'default.payment.next.month': 'def_pay', \n",
    "                        'PAY_0': 'PAY_1'})"
   ]
  },
  {
   "cell_type": "markdown",
   "metadata": {},
   "source": [
    "<div class=\"alert alert-block alert-warning\">\n",
    "EDUCATION has category 5 and 6 that are unlabelled, moreover the category 0 is undocumented.\n",
    "MARRIAGE has a label 0 that is undocumented                                                                                      \n",
    "\n",
    "\n",
    "<div>\n"
   ]
  },
  {
   "cell_type": "code",
   "execution_count": 6,
   "metadata": {},
   "outputs": [],
   "source": [
    "df_impute['EDUCATION']=np.where(df_impute['EDUCATION'] == 5, 4, df_impute['EDUCATION'])\n",
    "df_impute['EDUCATION']=np.where(df_impute['EDUCATION'] == 6, 4, df_impute['EDUCATION'])\n",
    "df_impute['EDUCATION']=np.where(df_impute['EDUCATION'] == 0, 4, df_impute['EDUCATION'])\n",
    "df_impute['MARRIAGE']=np.where(df_impute['MARRIAGE'] == 0, 3, df_impute['MARRIAGE'])"
   ]
  },
  {
   "cell_type": "markdown",
   "metadata": {},
   "source": [
    "<div class=\"alert alert-block alert-warning\">\n",
    "They all present an undocumented label -2. If 1,2,3, etc are the months of delay, 0 should be labeled 'pay duly' and every negative value should be seen as a 0\n",
    "   <div>"
   ]
  },
  {
   "cell_type": "code",
   "execution_count": 7,
   "metadata": {},
   "outputs": [],
   "source": [
    "fil = (df_impute.PAY_1 == -2) | (df_impute.PAY_1 == -1) | (df_impute.PAY_1  == 0)\n",
    "df_impute.loc[fil, 'PAY_1'] = 0\n",
    "fil = (df_impute.PAY_2 == -2) | (df_impute.PAY_2 == -1) | (df_impute.PAY_2 == 0)\n",
    "df_impute.loc[fil, 'PAY_2'] = 0\n",
    "fil = (df_impute.PAY_3 == -2) | (df_impute.PAY_3 == -1) | (df_impute.PAY_3 == 0)\n",
    "df_impute.loc[fil, 'PAY_3'] = 0\n",
    "fil = (df_impute.PAY_4 == -2) | (df_impute.PAY_4 == -1) | (df_impute.PAY_4 == 0)\n",
    "df_impute.loc[fil, 'PAY_4'] = 0\n",
    "fil = (df_impute.PAY_5 == -2) | (df_impute.PAY_5 == -1) | (df_impute.PAY_5 == 0)\n",
    "df_impute.loc[fil, 'PAY_5'] = 0\n",
    "fil = (df_impute.PAY_6 == -2) | (df_impute.PAY_6 == -1) | (df_impute.PAY_6 == 0)\n",
    "df_impute.loc[fil, 'PAY_6'] = 0\n"
   ]
  },
  {
   "cell_type": "code",
   "execution_count": 8,
   "metadata": {},
   "outputs": [
    {
     "name": "stdout",
     "output_type": "stream",
     "text": [
      "<class 'pandas.core.frame.DataFrame'>\n",
      "RangeIndex: 30000 entries, 0 to 29999\n",
      "Data columns (total 24 columns):\n",
      "LIMIT_BAL    30000 non-null float64\n",
      "SEX          30000 non-null int64\n",
      "EDUCATION    30000 non-null int64\n",
      "MARRIAGE     30000 non-null int64\n",
      "AGE          30000 non-null float64\n",
      "PAY_1        30000 non-null int64\n",
      "PAY_2        30000 non-null int64\n",
      "PAY_3        30000 non-null int64\n",
      "PAY_4        30000 non-null int64\n",
      "PAY_5        30000 non-null int64\n",
      "PAY_6        30000 non-null int64\n",
      "BILL_AMT1    30000 non-null float64\n",
      "BILL_AMT2    30000 non-null float64\n",
      "BILL_AMT3    30000 non-null float64\n",
      "BILL_AMT4    30000 non-null float64\n",
      "BILL_AMT5    30000 non-null float64\n",
      "BILL_AMT6    30000 non-null float64\n",
      "PAY_AMT1     30000 non-null float64\n",
      "PAY_AMT2     30000 non-null float64\n",
      "PAY_AMT3     30000 non-null float64\n",
      "PAY_AMT4     30000 non-null float64\n",
      "PAY_AMT5     30000 non-null float64\n",
      "PAY_AMT6     30000 non-null float64\n",
      "def_pay      30000 non-null int64\n",
      "dtypes: float64(14), int64(10)\n",
      "memory usage: 5.5 MB\n"
     ]
    },
    {
     "data": {
      "text/plain": [
       "0"
      ]
     },
     "execution_count": 8,
     "metadata": {},
     "output_type": "execute_result"
    }
   ],
   "source": [
    "df_impute['def_pay'] = df_impute['def_pay'].astype('int64')\n",
    "df_impute['SEX'] = df_impute['SEX'].astype('int64')\n",
    "df_impute['EDUCATION'] = df_impute['EDUCATION'].astype('int64')\n",
    "df_impute['MARRIAGE'] = df_impute['MARRIAGE'].astype('int64')\n",
    "df_impute['PAY_1'] = df_impute['PAY_1'].astype('int64')\n",
    "df_impute['PAY_2'] = df_impute['PAY_2'].astype('int64')\n",
    "df_impute['PAY_3'] = df_impute['PAY_3'].astype('int64')\n",
    "df_impute['PAY_4'] = df_impute['PAY_4'].astype('int64')\n",
    "df_impute['PAY_5'] = df_impute['PAY_5'].astype('int64')\n",
    "df_impute['PAY_6'] = df_impute['PAY_6'].astype('int64')\n",
    "df_impute.info()\n",
    "df_impute.isnull().sum().sum()"
   ]
  },
  {
   "cell_type": "markdown",
   "metadata": {},
   "source": [
    "<div class=\"alert alert-block alert-warning\">\n",
    "                                                                                    \n",
    "\n",
    "Check and  make sure the dataset is ready to build different models.\n",
    "\n",
    "<div>\n",
    "\n",
    "\n"
   ]
  },
  {
   "cell_type": "code",
   "execution_count": 9,
   "metadata": {},
   "outputs": [
    {
     "data": {
      "text/html": [
       "<div>\n",
       "<style scoped>\n",
       "    .dataframe tbody tr th:only-of-type {\n",
       "        vertical-align: middle;\n",
       "    }\n",
       "\n",
       "    .dataframe tbody tr th {\n",
       "        vertical-align: top;\n",
       "    }\n",
       "\n",
       "    .dataframe thead th {\n",
       "        text-align: right;\n",
       "    }\n",
       "</style>\n",
       "<table border=\"1\" class=\"dataframe\">\n",
       "  <thead>\n",
       "    <tr style=\"text-align: right;\">\n",
       "      <th></th>\n",
       "      <th>LIMIT_BAL</th>\n",
       "      <th>SEX</th>\n",
       "      <th>EDUCATION</th>\n",
       "      <th>MARRIAGE</th>\n",
       "      <th>AGE</th>\n",
       "      <th>PAY_1</th>\n",
       "      <th>PAY_2</th>\n",
       "      <th>PAY_3</th>\n",
       "      <th>PAY_4</th>\n",
       "      <th>PAY_5</th>\n",
       "      <th>...</th>\n",
       "      <th>BILL_AMT4</th>\n",
       "      <th>BILL_AMT5</th>\n",
       "      <th>BILL_AMT6</th>\n",
       "      <th>PAY_AMT1</th>\n",
       "      <th>PAY_AMT2</th>\n",
       "      <th>PAY_AMT3</th>\n",
       "      <th>PAY_AMT4</th>\n",
       "      <th>PAY_AMT5</th>\n",
       "      <th>PAY_AMT6</th>\n",
       "      <th>def_pay</th>\n",
       "    </tr>\n",
       "  </thead>\n",
       "  <tbody>\n",
       "    <tr>\n",
       "      <th>0</th>\n",
       "      <td>20000.0</td>\n",
       "      <td>2</td>\n",
       "      <td>2</td>\n",
       "      <td>1</td>\n",
       "      <td>24.0</td>\n",
       "      <td>2</td>\n",
       "      <td>0</td>\n",
       "      <td>0</td>\n",
       "      <td>0</td>\n",
       "      <td>0</td>\n",
       "      <td>...</td>\n",
       "      <td>0.0</td>\n",
       "      <td>0.0</td>\n",
       "      <td>0.0</td>\n",
       "      <td>0.0</td>\n",
       "      <td>689.0</td>\n",
       "      <td>0.0</td>\n",
       "      <td>0.0</td>\n",
       "      <td>0.0</td>\n",
       "      <td>0.0</td>\n",
       "      <td>1</td>\n",
       "    </tr>\n",
       "    <tr>\n",
       "      <th>1</th>\n",
       "      <td>120000.0</td>\n",
       "      <td>2</td>\n",
       "      <td>2</td>\n",
       "      <td>2</td>\n",
       "      <td>26.0</td>\n",
       "      <td>0</td>\n",
       "      <td>2</td>\n",
       "      <td>0</td>\n",
       "      <td>0</td>\n",
       "      <td>0</td>\n",
       "      <td>...</td>\n",
       "      <td>3272.0</td>\n",
       "      <td>3455.0</td>\n",
       "      <td>3261.0</td>\n",
       "      <td>0.0</td>\n",
       "      <td>1000.0</td>\n",
       "      <td>0.0</td>\n",
       "      <td>1000.0</td>\n",
       "      <td>0.0</td>\n",
       "      <td>2000.0</td>\n",
       "      <td>1</td>\n",
       "    </tr>\n",
       "    <tr>\n",
       "      <th>2</th>\n",
       "      <td>90000.0</td>\n",
       "      <td>2</td>\n",
       "      <td>2</td>\n",
       "      <td>2</td>\n",
       "      <td>34.0</td>\n",
       "      <td>0</td>\n",
       "      <td>0</td>\n",
       "      <td>0</td>\n",
       "      <td>0</td>\n",
       "      <td>0</td>\n",
       "      <td>...</td>\n",
       "      <td>14331.0</td>\n",
       "      <td>14948.0</td>\n",
       "      <td>15549.0</td>\n",
       "      <td>1518.0</td>\n",
       "      <td>1500.0</td>\n",
       "      <td>1000.0</td>\n",
       "      <td>1000.0</td>\n",
       "      <td>1000.0</td>\n",
       "      <td>5000.0</td>\n",
       "      <td>0</td>\n",
       "    </tr>\n",
       "    <tr>\n",
       "      <th>3</th>\n",
       "      <td>50000.0</td>\n",
       "      <td>2</td>\n",
       "      <td>2</td>\n",
       "      <td>1</td>\n",
       "      <td>37.0</td>\n",
       "      <td>0</td>\n",
       "      <td>0</td>\n",
       "      <td>0</td>\n",
       "      <td>0</td>\n",
       "      <td>0</td>\n",
       "      <td>...</td>\n",
       "      <td>28314.0</td>\n",
       "      <td>28959.0</td>\n",
       "      <td>29547.0</td>\n",
       "      <td>2000.0</td>\n",
       "      <td>2019.0</td>\n",
       "      <td>1200.0</td>\n",
       "      <td>1100.0</td>\n",
       "      <td>1069.0</td>\n",
       "      <td>1000.0</td>\n",
       "      <td>0</td>\n",
       "    </tr>\n",
       "    <tr>\n",
       "      <th>4</th>\n",
       "      <td>50000.0</td>\n",
       "      <td>1</td>\n",
       "      <td>2</td>\n",
       "      <td>1</td>\n",
       "      <td>57.0</td>\n",
       "      <td>0</td>\n",
       "      <td>0</td>\n",
       "      <td>0</td>\n",
       "      <td>0</td>\n",
       "      <td>0</td>\n",
       "      <td>...</td>\n",
       "      <td>20940.0</td>\n",
       "      <td>19146.0</td>\n",
       "      <td>19131.0</td>\n",
       "      <td>2000.0</td>\n",
       "      <td>36681.0</td>\n",
       "      <td>10000.0</td>\n",
       "      <td>7420.0</td>\n",
       "      <td>591.0</td>\n",
       "      <td>679.0</td>\n",
       "      <td>0</td>\n",
       "    </tr>\n",
       "  </tbody>\n",
       "</table>\n",
       "<p>5 rows × 24 columns</p>\n",
       "</div>"
      ],
      "text/plain": [
       "   LIMIT_BAL  SEX  EDUCATION  MARRIAGE   AGE  PAY_1  PAY_2  PAY_3  PAY_4  \\\n",
       "0    20000.0    2          2         1  24.0      2      0      0      0   \n",
       "1   120000.0    2          2         2  26.0      0      2      0      0   \n",
       "2    90000.0    2          2         2  34.0      0      0      0      0   \n",
       "3    50000.0    2          2         1  37.0      0      0      0      0   \n",
       "4    50000.0    1          2         1  57.0      0      0      0      0   \n",
       "\n",
       "   PAY_5  ...  BILL_AMT4  BILL_AMT5  BILL_AMT6  PAY_AMT1  PAY_AMT2  PAY_AMT3  \\\n",
       "0      0  ...        0.0        0.0        0.0       0.0     689.0       0.0   \n",
       "1      0  ...     3272.0     3455.0     3261.0       0.0    1000.0       0.0   \n",
       "2      0  ...    14331.0    14948.0    15549.0    1518.0    1500.0    1000.0   \n",
       "3      0  ...    28314.0    28959.0    29547.0    2000.0    2019.0    1200.0   \n",
       "4      0  ...    20940.0    19146.0    19131.0    2000.0   36681.0   10000.0   \n",
       "\n",
       "   PAY_AMT4  PAY_AMT5  PAY_AMT6  def_pay  \n",
       "0       0.0       0.0       0.0        1  \n",
       "1    1000.0       0.0    2000.0        1  \n",
       "2    1000.0    1000.0    5000.0        0  \n",
       "3    1100.0    1069.0    1000.0        0  \n",
       "4    7420.0     591.0     679.0        0  \n",
       "\n",
       "[5 rows x 24 columns]"
      ]
     },
     "execution_count": 9,
     "metadata": {},
     "output_type": "execute_result"
    },
    {
     "data": {
      "text/html": [
       "<div>\n",
       "<style scoped>\n",
       "    .dataframe tbody tr th:only-of-type {\n",
       "        vertical-align: middle;\n",
       "    }\n",
       "\n",
       "    .dataframe tbody tr th {\n",
       "        vertical-align: top;\n",
       "    }\n",
       "\n",
       "    .dataframe thead th {\n",
       "        text-align: right;\n",
       "    }\n",
       "</style>\n",
       "<table border=\"1\" class=\"dataframe\">\n",
       "  <thead>\n",
       "    <tr style=\"text-align: right;\">\n",
       "      <th></th>\n",
       "      <th>LIMIT_BAL</th>\n",
       "      <th>SEX</th>\n",
       "      <th>EDUCATION</th>\n",
       "      <th>MARRIAGE</th>\n",
       "      <th>AGE</th>\n",
       "      <th>PAY_1</th>\n",
       "      <th>PAY_2</th>\n",
       "      <th>PAY_3</th>\n",
       "      <th>PAY_4</th>\n",
       "      <th>PAY_5</th>\n",
       "      <th>...</th>\n",
       "      <th>BILL_AMT4</th>\n",
       "      <th>BILL_AMT5</th>\n",
       "      <th>BILL_AMT6</th>\n",
       "      <th>PAY_AMT1</th>\n",
       "      <th>PAY_AMT2</th>\n",
       "      <th>PAY_AMT3</th>\n",
       "      <th>PAY_AMT4</th>\n",
       "      <th>PAY_AMT5</th>\n",
       "      <th>PAY_AMT6</th>\n",
       "      <th>def_pay</th>\n",
       "    </tr>\n",
       "  </thead>\n",
       "  <tbody>\n",
       "    <tr>\n",
       "      <th>count</th>\n",
       "      <td>30000.000000</td>\n",
       "      <td>30000.000000</td>\n",
       "      <td>30000.000000</td>\n",
       "      <td>30000.000000</td>\n",
       "      <td>30000.000000</td>\n",
       "      <td>30000.000000</td>\n",
       "      <td>30000.000000</td>\n",
       "      <td>30000.000000</td>\n",
       "      <td>30000.000000</td>\n",
       "      <td>30000.000000</td>\n",
       "      <td>...</td>\n",
       "      <td>30000.000000</td>\n",
       "      <td>30000.000000</td>\n",
       "      <td>30000.000000</td>\n",
       "      <td>30000.000000</td>\n",
       "      <td>3.000000e+04</td>\n",
       "      <td>30000.000000</td>\n",
       "      <td>30000.000000</td>\n",
       "      <td>30000.000000</td>\n",
       "      <td>30000.000000</td>\n",
       "      <td>30000.000000</td>\n",
       "    </tr>\n",
       "    <tr>\n",
       "      <th>mean</th>\n",
       "      <td>166944.489333</td>\n",
       "      <td>1.617000</td>\n",
       "      <td>1.845900</td>\n",
       "      <td>1.573200</td>\n",
       "      <td>35.510967</td>\n",
       "      <td>0.352633</td>\n",
       "      <td>0.317667</td>\n",
       "      <td>0.298200</td>\n",
       "      <td>0.255633</td>\n",
       "      <td>0.219800</td>\n",
       "      <td>...</td>\n",
       "      <td>43152.561400</td>\n",
       "      <td>40286.370767</td>\n",
       "      <td>38878.380833</td>\n",
       "      <td>5560.573467</td>\n",
       "      <td>5.824577e+03</td>\n",
       "      <td>5147.738700</td>\n",
       "      <td>4721.895400</td>\n",
       "      <td>4678.099767</td>\n",
       "      <td>5113.852867</td>\n",
       "      <td>0.212500</td>\n",
       "    </tr>\n",
       "    <tr>\n",
       "      <th>std</th>\n",
       "      <td>128330.128216</td>\n",
       "      <td>0.486126</td>\n",
       "      <td>0.731189</td>\n",
       "      <td>0.518444</td>\n",
       "      <td>9.118767</td>\n",
       "      <td>0.753283</td>\n",
       "      <td>0.793962</td>\n",
       "      <td>0.776851</td>\n",
       "      <td>0.750802</td>\n",
       "      <td>0.708641</td>\n",
       "      <td>...</td>\n",
       "      <td>64221.903002</td>\n",
       "      <td>60788.831264</td>\n",
       "      <td>59485.835713</td>\n",
       "      <td>16381.456675</td>\n",
       "      <td>2.285910e+04</td>\n",
       "      <td>17485.437686</td>\n",
       "      <td>15414.569545</td>\n",
       "      <td>14884.709381</td>\n",
       "      <td>17449.829636</td>\n",
       "      <td>0.409084</td>\n",
       "    </tr>\n",
       "    <tr>\n",
       "      <th>min</th>\n",
       "      <td>10000.000000</td>\n",
       "      <td>1.000000</td>\n",
       "      <td>1.000000</td>\n",
       "      <td>1.000000</td>\n",
       "      <td>21.000000</td>\n",
       "      <td>0.000000</td>\n",
       "      <td>0.000000</td>\n",
       "      <td>0.000000</td>\n",
       "      <td>0.000000</td>\n",
       "      <td>0.000000</td>\n",
       "      <td>...</td>\n",
       "      <td>-170000.000000</td>\n",
       "      <td>-81334.000000</td>\n",
       "      <td>-339603.000000</td>\n",
       "      <td>0.000000</td>\n",
       "      <td>0.000000e+00</td>\n",
       "      <td>0.000000</td>\n",
       "      <td>0.000000</td>\n",
       "      <td>0.000000</td>\n",
       "      <td>0.000000</td>\n",
       "      <td>0.000000</td>\n",
       "    </tr>\n",
       "    <tr>\n",
       "      <th>25%</th>\n",
       "      <td>50000.000000</td>\n",
       "      <td>1.000000</td>\n",
       "      <td>1.000000</td>\n",
       "      <td>1.000000</td>\n",
       "      <td>28.000000</td>\n",
       "      <td>0.000000</td>\n",
       "      <td>0.000000</td>\n",
       "      <td>0.000000</td>\n",
       "      <td>0.000000</td>\n",
       "      <td>0.000000</td>\n",
       "      <td>...</td>\n",
       "      <td>2315.000000</td>\n",
       "      <td>1761.750000</td>\n",
       "      <td>1270.750000</td>\n",
       "      <td>1000.000000</td>\n",
       "      <td>8.225000e+02</td>\n",
       "      <td>400.000000</td>\n",
       "      <td>304.750000</td>\n",
       "      <td>300.000000</td>\n",
       "      <td>182.000000</td>\n",
       "      <td>0.000000</td>\n",
       "    </tr>\n",
       "    <tr>\n",
       "      <th>50%</th>\n",
       "      <td>140000.000000</td>\n",
       "      <td>2.000000</td>\n",
       "      <td>2.000000</td>\n",
       "      <td>2.000000</td>\n",
       "      <td>34.000000</td>\n",
       "      <td>0.000000</td>\n",
       "      <td>0.000000</td>\n",
       "      <td>0.000000</td>\n",
       "      <td>0.000000</td>\n",
       "      <td>0.000000</td>\n",
       "      <td>...</td>\n",
       "      <td>19029.000000</td>\n",
       "      <td>18087.000000</td>\n",
       "      <td>17091.500000</td>\n",
       "      <td>2100.000000</td>\n",
       "      <td>2.003000e+03</td>\n",
       "      <td>1800.000000</td>\n",
       "      <td>1500.000000</td>\n",
       "      <td>1500.000000</td>\n",
       "      <td>1500.000000</td>\n",
       "      <td>0.000000</td>\n",
       "    </tr>\n",
       "    <tr>\n",
       "      <th>75%</th>\n",
       "      <td>240000.000000</td>\n",
       "      <td>2.000000</td>\n",
       "      <td>2.000000</td>\n",
       "      <td>2.000000</td>\n",
       "      <td>41.000000</td>\n",
       "      <td>0.000000</td>\n",
       "      <td>0.000000</td>\n",
       "      <td>0.000000</td>\n",
       "      <td>0.000000</td>\n",
       "      <td>0.000000</td>\n",
       "      <td>...</td>\n",
       "      <td>54506.000000</td>\n",
       "      <td>50126.500000</td>\n",
       "      <td>49177.250000</td>\n",
       "      <td>5000.000000</td>\n",
       "      <td>5.000000e+03</td>\n",
       "      <td>4467.000000</td>\n",
       "      <td>4000.000000</td>\n",
       "      <td>4000.000000</td>\n",
       "      <td>4000.000000</td>\n",
       "      <td>0.000000</td>\n",
       "    </tr>\n",
       "    <tr>\n",
       "      <th>max</th>\n",
       "      <td>1000000.000000</td>\n",
       "      <td>2.000000</td>\n",
       "      <td>4.000000</td>\n",
       "      <td>3.000000</td>\n",
       "      <td>79.000000</td>\n",
       "      <td>8.000000</td>\n",
       "      <td>8.000000</td>\n",
       "      <td>8.000000</td>\n",
       "      <td>8.000000</td>\n",
       "      <td>8.000000</td>\n",
       "      <td>...</td>\n",
       "      <td>891586.000000</td>\n",
       "      <td>927171.000000</td>\n",
       "      <td>961664.000000</td>\n",
       "      <td>873552.000000</td>\n",
       "      <td>1.684259e+06</td>\n",
       "      <td>896040.000000</td>\n",
       "      <td>621000.000000</td>\n",
       "      <td>426529.000000</td>\n",
       "      <td>528666.000000</td>\n",
       "      <td>1.000000</td>\n",
       "    </tr>\n",
       "  </tbody>\n",
       "</table>\n",
       "<p>8 rows × 24 columns</p>\n",
       "</div>"
      ],
      "text/plain": [
       "            LIMIT_BAL           SEX     EDUCATION      MARRIAGE           AGE  \\\n",
       "count    30000.000000  30000.000000  30000.000000  30000.000000  30000.000000   \n",
       "mean    166944.489333      1.617000      1.845900      1.573200     35.510967   \n",
       "std     128330.128216      0.486126      0.731189      0.518444      9.118767   \n",
       "min      10000.000000      1.000000      1.000000      1.000000     21.000000   \n",
       "25%      50000.000000      1.000000      1.000000      1.000000     28.000000   \n",
       "50%     140000.000000      2.000000      2.000000      2.000000     34.000000   \n",
       "75%     240000.000000      2.000000      2.000000      2.000000     41.000000   \n",
       "max    1000000.000000      2.000000      4.000000      3.000000     79.000000   \n",
       "\n",
       "              PAY_1         PAY_2         PAY_3         PAY_4         PAY_5  \\\n",
       "count  30000.000000  30000.000000  30000.000000  30000.000000  30000.000000   \n",
       "mean       0.352633      0.317667      0.298200      0.255633      0.219800   \n",
       "std        0.753283      0.793962      0.776851      0.750802      0.708641   \n",
       "min        0.000000      0.000000      0.000000      0.000000      0.000000   \n",
       "25%        0.000000      0.000000      0.000000      0.000000      0.000000   \n",
       "50%        0.000000      0.000000      0.000000      0.000000      0.000000   \n",
       "75%        0.000000      0.000000      0.000000      0.000000      0.000000   \n",
       "max        8.000000      8.000000      8.000000      8.000000      8.000000   \n",
       "\n",
       "       ...      BILL_AMT4      BILL_AMT5      BILL_AMT6       PAY_AMT1  \\\n",
       "count  ...   30000.000000   30000.000000   30000.000000   30000.000000   \n",
       "mean   ...   43152.561400   40286.370767   38878.380833    5560.573467   \n",
       "std    ...   64221.903002   60788.831264   59485.835713   16381.456675   \n",
       "min    ... -170000.000000  -81334.000000 -339603.000000       0.000000   \n",
       "25%    ...    2315.000000    1761.750000    1270.750000    1000.000000   \n",
       "50%    ...   19029.000000   18087.000000   17091.500000    2100.000000   \n",
       "75%    ...   54506.000000   50126.500000   49177.250000    5000.000000   \n",
       "max    ...  891586.000000  927171.000000  961664.000000  873552.000000   \n",
       "\n",
       "           PAY_AMT2       PAY_AMT3       PAY_AMT4       PAY_AMT5  \\\n",
       "count  3.000000e+04   30000.000000   30000.000000   30000.000000   \n",
       "mean   5.824577e+03    5147.738700    4721.895400    4678.099767   \n",
       "std    2.285910e+04   17485.437686   15414.569545   14884.709381   \n",
       "min    0.000000e+00       0.000000       0.000000       0.000000   \n",
       "25%    8.225000e+02     400.000000     304.750000     300.000000   \n",
       "50%    2.003000e+03    1800.000000    1500.000000    1500.000000   \n",
       "75%    5.000000e+03    4467.000000    4000.000000    4000.000000   \n",
       "max    1.684259e+06  896040.000000  621000.000000  426529.000000   \n",
       "\n",
       "            PAY_AMT6       def_pay  \n",
       "count   30000.000000  30000.000000  \n",
       "mean     5113.852867      0.212500  \n",
       "std     17449.829636      0.409084  \n",
       "min         0.000000      0.000000  \n",
       "25%       182.000000      0.000000  \n",
       "50%      1500.000000      0.000000  \n",
       "75%      4000.000000      0.000000  \n",
       "max    528666.000000      1.000000  \n",
       "\n",
       "[8 rows x 24 columns]"
      ]
     },
     "execution_count": 9,
     "metadata": {},
     "output_type": "execute_result"
    },
    {
     "data": {
      "text/plain": [
       "Index(['LIMIT_BAL', 'SEX', 'EDUCATION', 'MARRIAGE', 'AGE', 'PAY_1', 'PAY_2',\n",
       "       'PAY_3', 'PAY_4', 'PAY_5', 'PAY_6', 'BILL_AMT1', 'BILL_AMT2',\n",
       "       'BILL_AMT3', 'BILL_AMT4', 'BILL_AMT5', 'BILL_AMT6', 'PAY_AMT1',\n",
       "       'PAY_AMT2', 'PAY_AMT3', 'PAY_AMT4', 'PAY_AMT5', 'PAY_AMT6', 'def_pay'],\n",
       "      dtype='object')"
      ]
     },
     "execution_count": 9,
     "metadata": {},
     "output_type": "execute_result"
    }
   ],
   "source": [
    "df_impute.head()\n",
    "df_impute.describe()\n",
    "df_impute.columns"
   ]
  },
  {
   "cell_type": "markdown",
   "metadata": {},
   "source": [
    "<div class=\"alert alert-block alert-info\">\n",
    "<b><font size=\"5\">Preparing dataset for ML</font></b>\n",
    "</div>\n",
    "\n"
   ]
  },
  {
   "cell_type": "code",
   "execution_count": 10,
   "metadata": {},
   "outputs": [],
   "source": [
    "from sklearn.model_selection import train_test_split\n",
    "from sklearn.preprocessing import MinMaxScaler"
   ]
  },
  {
   "cell_type": "code",
   "execution_count": 11,
   "metadata": {},
   "outputs": [],
   "source": [
    "X= df_impute.drop(['def_pay'],axis=1)\n",
    "y=df_impute['def_pay']"
   ]
  },
  {
   "cell_type": "code",
   "execution_count": 12,
   "metadata": {},
   "outputs": [
    {
     "data": {
      "text/html": [
       "<div>\n",
       "<style scoped>\n",
       "    .dataframe tbody tr th:only-of-type {\n",
       "        vertical-align: middle;\n",
       "    }\n",
       "\n",
       "    .dataframe tbody tr th {\n",
       "        vertical-align: top;\n",
       "    }\n",
       "\n",
       "    .dataframe thead th {\n",
       "        text-align: right;\n",
       "    }\n",
       "</style>\n",
       "<table border=\"1\" class=\"dataframe\">\n",
       "  <thead>\n",
       "    <tr style=\"text-align: right;\">\n",
       "      <th></th>\n",
       "      <th>LIMIT_BAL</th>\n",
       "      <th>SEX</th>\n",
       "      <th>EDUCATION</th>\n",
       "      <th>MARRIAGE</th>\n",
       "      <th>AGE</th>\n",
       "      <th>PAY_1</th>\n",
       "      <th>PAY_2</th>\n",
       "      <th>PAY_3</th>\n",
       "      <th>PAY_4</th>\n",
       "      <th>PAY_5</th>\n",
       "      <th>...</th>\n",
       "      <th>BILL_AMT3</th>\n",
       "      <th>BILL_AMT4</th>\n",
       "      <th>BILL_AMT5</th>\n",
       "      <th>BILL_AMT6</th>\n",
       "      <th>PAY_AMT1</th>\n",
       "      <th>PAY_AMT2</th>\n",
       "      <th>PAY_AMT3</th>\n",
       "      <th>PAY_AMT4</th>\n",
       "      <th>PAY_AMT5</th>\n",
       "      <th>PAY_AMT6</th>\n",
       "    </tr>\n",
       "  </thead>\n",
       "  <tbody>\n",
       "    <tr>\n",
       "      <th>12880</th>\n",
       "      <td>130000.0</td>\n",
       "      <td>2</td>\n",
       "      <td>1</td>\n",
       "      <td>2</td>\n",
       "      <td>27.0</td>\n",
       "      <td>0</td>\n",
       "      <td>0</td>\n",
       "      <td>0</td>\n",
       "      <td>0</td>\n",
       "      <td>0</td>\n",
       "      <td>...</td>\n",
       "      <td>23706.0</td>\n",
       "      <td>34310.0</td>\n",
       "      <td>21900.0</td>\n",
       "      <td>780.0</td>\n",
       "      <td>2000.0</td>\n",
       "      <td>2000.0</td>\n",
       "      <td>5000.0</td>\n",
       "      <td>880.0</td>\n",
       "      <td>780.0</td>\n",
       "      <td>0.0</td>\n",
       "    </tr>\n",
       "    <tr>\n",
       "      <th>14868</th>\n",
       "      <td>130000.0</td>\n",
       "      <td>2</td>\n",
       "      <td>3</td>\n",
       "      <td>1</td>\n",
       "      <td>53.0</td>\n",
       "      <td>0</td>\n",
       "      <td>0</td>\n",
       "      <td>0</td>\n",
       "      <td>2</td>\n",
       "      <td>0</td>\n",
       "      <td>...</td>\n",
       "      <td>22386.0</td>\n",
       "      <td>24296.0</td>\n",
       "      <td>25436.0</td>\n",
       "      <td>27451.0</td>\n",
       "      <td>2343.0</td>\n",
       "      <td>2386.0</td>\n",
       "      <td>2296.0</td>\n",
       "      <td>1500.0</td>\n",
       "      <td>2451.0</td>\n",
       "      <td>2659.0</td>\n",
       "    </tr>\n",
       "    <tr>\n",
       "      <th>14280</th>\n",
       "      <td>140000.0</td>\n",
       "      <td>1</td>\n",
       "      <td>3</td>\n",
       "      <td>1</td>\n",
       "      <td>38.0</td>\n",
       "      <td>2</td>\n",
       "      <td>2</td>\n",
       "      <td>2</td>\n",
       "      <td>2</td>\n",
       "      <td>2</td>\n",
       "      <td>...</td>\n",
       "      <td>127701.0</td>\n",
       "      <td>130490.0</td>\n",
       "      <td>135859.0</td>\n",
       "      <td>134687.0</td>\n",
       "      <td>22500.0</td>\n",
       "      <td>0.0</td>\n",
       "      <td>10000.0</td>\n",
       "      <td>4278.0</td>\n",
       "      <td>2300.0</td>\n",
       "      <td>5300.0</td>\n",
       "    </tr>\n",
       "    <tr>\n",
       "      <th>5318</th>\n",
       "      <td>270000.0</td>\n",
       "      <td>2</td>\n",
       "      <td>2</td>\n",
       "      <td>1</td>\n",
       "      <td>33.0</td>\n",
       "      <td>0</td>\n",
       "      <td>0</td>\n",
       "      <td>0</td>\n",
       "      <td>0</td>\n",
       "      <td>0</td>\n",
       "      <td>...</td>\n",
       "      <td>3567.0</td>\n",
       "      <td>1556.0</td>\n",
       "      <td>7952.0</td>\n",
       "      <td>10794.0</td>\n",
       "      <td>8874.0</td>\n",
       "      <td>3567.0</td>\n",
       "      <td>1556.0</td>\n",
       "      <td>7952.0</td>\n",
       "      <td>4000.0</td>\n",
       "      <td>2000.0</td>\n",
       "    </tr>\n",
       "    <tr>\n",
       "      <th>15421</th>\n",
       "      <td>320000.0</td>\n",
       "      <td>2</td>\n",
       "      <td>2</td>\n",
       "      <td>1</td>\n",
       "      <td>53.0</td>\n",
       "      <td>2</td>\n",
       "      <td>0</td>\n",
       "      <td>0</td>\n",
       "      <td>0</td>\n",
       "      <td>0</td>\n",
       "      <td>...</td>\n",
       "      <td>223193.0</td>\n",
       "      <td>211582.0</td>\n",
       "      <td>210884.0</td>\n",
       "      <td>210479.0</td>\n",
       "      <td>8490.0</td>\n",
       "      <td>8100.0</td>\n",
       "      <td>8000.0</td>\n",
       "      <td>7804.0</td>\n",
       "      <td>8254.0</td>\n",
       "      <td>6640.0</td>\n",
       "    </tr>\n",
       "  </tbody>\n",
       "</table>\n",
       "<p>5 rows × 23 columns</p>\n",
       "</div>"
      ],
      "text/plain": [
       "       LIMIT_BAL  SEX  EDUCATION  MARRIAGE   AGE  PAY_1  PAY_2  PAY_3  PAY_4  \\\n",
       "12880   130000.0    2          1         2  27.0      0      0      0      0   \n",
       "14868   130000.0    2          3         1  53.0      0      0      0      2   \n",
       "14280   140000.0    1          3         1  38.0      2      2      2      2   \n",
       "5318    270000.0    2          2         1  33.0      0      0      0      0   \n",
       "15421   320000.0    2          2         1  53.0      2      0      0      0   \n",
       "\n",
       "       PAY_5  ...  BILL_AMT3  BILL_AMT4  BILL_AMT5  BILL_AMT6  PAY_AMT1  \\\n",
       "12880      0  ...    23706.0    34310.0    21900.0      780.0    2000.0   \n",
       "14868      0  ...    22386.0    24296.0    25436.0    27451.0    2343.0   \n",
       "14280      2  ...   127701.0   130490.0   135859.0   134687.0   22500.0   \n",
       "5318       0  ...     3567.0     1556.0     7952.0    10794.0    8874.0   \n",
       "15421      0  ...   223193.0   211582.0   210884.0   210479.0    8490.0   \n",
       "\n",
       "       PAY_AMT2  PAY_AMT3  PAY_AMT4  PAY_AMT5  PAY_AMT6  \n",
       "12880    2000.0    5000.0     880.0     780.0       0.0  \n",
       "14868    2386.0    2296.0    1500.0    2451.0    2659.0  \n",
       "14280       0.0   10000.0    4278.0    2300.0    5300.0  \n",
       "5318     3567.0    1556.0    7952.0    4000.0    2000.0  \n",
       "15421    8100.0    8000.0    7804.0    8254.0    6640.0  \n",
       "\n",
       "[5 rows x 23 columns]"
      ]
     },
     "execution_count": 12,
     "metadata": {},
     "output_type": "execute_result"
    }
   ],
   "source": [
    "X_train_org, X_test_org, y_train, y_test = train_test_split(X, y, random_state = 0)\n",
    "X_train_org.head()"
   ]
  },
  {
   "cell_type": "code",
   "execution_count": 13,
   "metadata": {},
   "outputs": [
    {
     "data": {
      "text/plain": [
       "MinMaxScaler(copy=True, feature_range=(0, 1))"
      ]
     },
     "execution_count": 13,
     "metadata": {},
     "output_type": "execute_result"
    },
    {
     "data": {
      "text/html": [
       "<div>\n",
       "<style scoped>\n",
       "    .dataframe tbody tr th:only-of-type {\n",
       "        vertical-align: middle;\n",
       "    }\n",
       "\n",
       "    .dataframe tbody tr th {\n",
       "        vertical-align: top;\n",
       "    }\n",
       "\n",
       "    .dataframe thead th {\n",
       "        text-align: right;\n",
       "    }\n",
       "</style>\n",
       "<table border=\"1\" class=\"dataframe\">\n",
       "  <thead>\n",
       "    <tr style=\"text-align: right;\">\n",
       "      <th></th>\n",
       "      <th>LIMIT_BAL</th>\n",
       "      <th>SEX</th>\n",
       "      <th>EDUCATION</th>\n",
       "      <th>MARRIAGE</th>\n",
       "      <th>AGE</th>\n",
       "      <th>PAY_1</th>\n",
       "      <th>PAY_2</th>\n",
       "      <th>PAY_3</th>\n",
       "      <th>PAY_4</th>\n",
       "      <th>PAY_5</th>\n",
       "      <th>...</th>\n",
       "      <th>BILL_AMT3</th>\n",
       "      <th>BILL_AMT4</th>\n",
       "      <th>BILL_AMT5</th>\n",
       "      <th>BILL_AMT6</th>\n",
       "      <th>PAY_AMT1</th>\n",
       "      <th>PAY_AMT2</th>\n",
       "      <th>PAY_AMT3</th>\n",
       "      <th>PAY_AMT4</th>\n",
       "      <th>PAY_AMT5</th>\n",
       "      <th>PAY_AMT6</th>\n",
       "    </tr>\n",
       "  </thead>\n",
       "  <tbody>\n",
       "    <tr>\n",
       "      <th>0</th>\n",
       "      <td>0.151899</td>\n",
       "      <td>1.0</td>\n",
       "      <td>0.000000</td>\n",
       "      <td>0.5</td>\n",
       "      <td>0.111111</td>\n",
       "      <td>0.00</td>\n",
       "      <td>0.000000</td>\n",
       "      <td>0.00</td>\n",
       "      <td>0.00</td>\n",
       "      <td>0.00</td>\n",
       "      <td>...</td>\n",
       "      <td>0.099360</td>\n",
       "      <td>0.233001</td>\n",
       "      <td>0.128419</td>\n",
       "      <td>0.327434</td>\n",
       "      <td>0.002290</td>\n",
       "      <td>0.001187</td>\n",
       "      <td>0.005624</td>\n",
       "      <td>0.001417</td>\n",
       "      <td>0.002010</td>\n",
       "      <td>0.000000</td>\n",
       "    </tr>\n",
       "    <tr>\n",
       "      <th>1</th>\n",
       "      <td>0.151899</td>\n",
       "      <td>1.0</td>\n",
       "      <td>0.666667</td>\n",
       "      <td>0.0</td>\n",
       "      <td>0.592593</td>\n",
       "      <td>0.00</td>\n",
       "      <td>0.000000</td>\n",
       "      <td>0.00</td>\n",
       "      <td>0.25</td>\n",
       "      <td>0.00</td>\n",
       "      <td>...</td>\n",
       "      <td>0.098635</td>\n",
       "      <td>0.221581</td>\n",
       "      <td>0.133872</td>\n",
       "      <td>0.353090</td>\n",
       "      <td>0.002682</td>\n",
       "      <td>0.001417</td>\n",
       "      <td>0.002583</td>\n",
       "      <td>0.002415</td>\n",
       "      <td>0.006316</td>\n",
       "      <td>0.005044</td>\n",
       "    </tr>\n",
       "    <tr>\n",
       "      <th>2</th>\n",
       "      <td>0.164557</td>\n",
       "      <td>0.0</td>\n",
       "      <td>0.666667</td>\n",
       "      <td>0.0</td>\n",
       "      <td>0.314815</td>\n",
       "      <td>0.25</td>\n",
       "      <td>0.285714</td>\n",
       "      <td>0.25</td>\n",
       "      <td>0.25</td>\n",
       "      <td>0.25</td>\n",
       "      <td>...</td>\n",
       "      <td>0.156458</td>\n",
       "      <td>0.342687</td>\n",
       "      <td>0.304163</td>\n",
       "      <td>0.456247</td>\n",
       "      <td>0.025757</td>\n",
       "      <td>0.000000</td>\n",
       "      <td>0.011248</td>\n",
       "      <td>0.006889</td>\n",
       "      <td>0.005927</td>\n",
       "      <td>0.010054</td>\n",
       "    </tr>\n",
       "    <tr>\n",
       "      <th>3</th>\n",
       "      <td>0.329114</td>\n",
       "      <td>1.0</td>\n",
       "      <td>0.333333</td>\n",
       "      <td>0.0</td>\n",
       "      <td>0.222222</td>\n",
       "      <td>0.00</td>\n",
       "      <td>0.000000</td>\n",
       "      <td>0.00</td>\n",
       "      <td>0.00</td>\n",
       "      <td>0.00</td>\n",
       "      <td>...</td>\n",
       "      <td>0.088303</td>\n",
       "      <td>0.195647</td>\n",
       "      <td>0.106909</td>\n",
       "      <td>0.337067</td>\n",
       "      <td>0.010159</td>\n",
       "      <td>0.002118</td>\n",
       "      <td>0.001750</td>\n",
       "      <td>0.012805</td>\n",
       "      <td>0.010307</td>\n",
       "      <td>0.003794</td>\n",
       "    </tr>\n",
       "    <tr>\n",
       "      <th>4</th>\n",
       "      <td>0.392405</td>\n",
       "      <td>1.0</td>\n",
       "      <td>0.333333</td>\n",
       "      <td>0.0</td>\n",
       "      <td>0.592593</td>\n",
       "      <td>0.25</td>\n",
       "      <td>0.000000</td>\n",
       "      <td>0.00</td>\n",
       "      <td>0.00</td>\n",
       "      <td>0.00</td>\n",
       "      <td>...</td>\n",
       "      <td>0.208887</td>\n",
       "      <td>0.435167</td>\n",
       "      <td>0.419864</td>\n",
       "      <td>0.529155</td>\n",
       "      <td>0.009719</td>\n",
       "      <td>0.004809</td>\n",
       "      <td>0.008998</td>\n",
       "      <td>0.012567</td>\n",
       "      <td>0.021269</td>\n",
       "      <td>0.012596</td>\n",
       "    </tr>\n",
       "  </tbody>\n",
       "</table>\n",
       "<p>5 rows × 23 columns</p>\n",
       "</div>"
      ],
      "text/plain": [
       "   LIMIT_BAL  SEX  EDUCATION  MARRIAGE       AGE  PAY_1     PAY_2  PAY_3  \\\n",
       "0   0.151899  1.0   0.000000       0.5  0.111111   0.00  0.000000   0.00   \n",
       "1   0.151899  1.0   0.666667       0.0  0.592593   0.00  0.000000   0.00   \n",
       "2   0.164557  0.0   0.666667       0.0  0.314815   0.25  0.285714   0.25   \n",
       "3   0.329114  1.0   0.333333       0.0  0.222222   0.00  0.000000   0.00   \n",
       "4   0.392405  1.0   0.333333       0.0  0.592593   0.25  0.000000   0.00   \n",
       "\n",
       "   PAY_4  PAY_5  ...  BILL_AMT3  BILL_AMT4  BILL_AMT5  BILL_AMT6  PAY_AMT1  \\\n",
       "0   0.00   0.00  ...   0.099360   0.233001   0.128419   0.327434  0.002290   \n",
       "1   0.25   0.00  ...   0.098635   0.221581   0.133872   0.353090  0.002682   \n",
       "2   0.25   0.25  ...   0.156458   0.342687   0.304163   0.456247  0.025757   \n",
       "3   0.00   0.00  ...   0.088303   0.195647   0.106909   0.337067  0.010159   \n",
       "4   0.00   0.00  ...   0.208887   0.435167   0.419864   0.529155  0.009719   \n",
       "\n",
       "   PAY_AMT2  PAY_AMT3  PAY_AMT4  PAY_AMT5  PAY_AMT6  \n",
       "0  0.001187  0.005624  0.001417  0.002010  0.000000  \n",
       "1  0.001417  0.002583  0.002415  0.006316  0.005044  \n",
       "2  0.000000  0.011248  0.006889  0.005927  0.010054  \n",
       "3  0.002118  0.001750  0.012805  0.010307  0.003794  \n",
       "4  0.004809  0.008998  0.012567  0.021269  0.012596  \n",
       "\n",
       "[5 rows x 23 columns]"
      ]
     },
     "execution_count": 13,
     "metadata": {},
     "output_type": "execute_result"
    }
   ],
   "source": [
    "scaler = MinMaxScaler()\n",
    "scaler.fit(X_train_org)\n",
    "X_train = scaler.transform(X_train_org)\n",
    "X_test = scaler.transform(X_test_org)\n",
    "X_train_df = pd.DataFrame(X_train, columns= X.columns)\n",
    "X_test_df = pd.DataFrame(X_test, columns= X.columns)\n",
    "X_train_df.head()"
   ]
  },
  {
   "cell_type": "code",
   "execution_count": 14,
   "metadata": {},
   "outputs": [
    {
     "data": {
      "text/html": [
       "<div>\n",
       "<style scoped>\n",
       "    .dataframe tbody tr th:only-of-type {\n",
       "        vertical-align: middle;\n",
       "    }\n",
       "\n",
       "    .dataframe tbody tr th {\n",
       "        vertical-align: top;\n",
       "    }\n",
       "\n",
       "    .dataframe thead th {\n",
       "        text-align: right;\n",
       "    }\n",
       "</style>\n",
       "<table border=\"1\" class=\"dataframe\">\n",
       "  <thead>\n",
       "    <tr style=\"text-align: right;\">\n",
       "      <th></th>\n",
       "      <th>LIMIT_BAL</th>\n",
       "      <th>SEX</th>\n",
       "      <th>EDUCATION</th>\n",
       "      <th>MARRIAGE</th>\n",
       "      <th>AGE</th>\n",
       "      <th>PAY_1</th>\n",
       "      <th>PAY_2</th>\n",
       "      <th>PAY_3</th>\n",
       "      <th>PAY_4</th>\n",
       "      <th>PAY_5</th>\n",
       "      <th>...</th>\n",
       "      <th>BILL_AMT3</th>\n",
       "      <th>BILL_AMT4</th>\n",
       "      <th>BILL_AMT5</th>\n",
       "      <th>BILL_AMT6</th>\n",
       "      <th>PAY_AMT1</th>\n",
       "      <th>PAY_AMT2</th>\n",
       "      <th>PAY_AMT3</th>\n",
       "      <th>PAY_AMT4</th>\n",
       "      <th>PAY_AMT5</th>\n",
       "      <th>PAY_AMT6</th>\n",
       "    </tr>\n",
       "  </thead>\n",
       "  <tbody>\n",
       "    <tr>\n",
       "      <th>count</th>\n",
       "      <td>7500.000000</td>\n",
       "      <td>7500.000000</td>\n",
       "      <td>7500.000000</td>\n",
       "      <td>7500.000000</td>\n",
       "      <td>7500.000000</td>\n",
       "      <td>7500.000000</td>\n",
       "      <td>7500.000000</td>\n",
       "      <td>7500.00000</td>\n",
       "      <td>7500.000000</td>\n",
       "      <td>7500.000000</td>\n",
       "      <td>...</td>\n",
       "      <td>7500.000000</td>\n",
       "      <td>7500.000000</td>\n",
       "      <td>7500.000000</td>\n",
       "      <td>7500.000000</td>\n",
       "      <td>7500.000000</td>\n",
       "      <td>7500.000000</td>\n",
       "      <td>7500.000000</td>\n",
       "      <td>7500.000000</td>\n",
       "      <td>7500.000000</td>\n",
       "      <td>7500.000000</td>\n",
       "    </tr>\n",
       "    <tr>\n",
       "      <th>mean</th>\n",
       "      <td>0.199270</td>\n",
       "      <td>0.631200</td>\n",
       "      <td>0.282978</td>\n",
       "      <td>0.284133</td>\n",
       "      <td>0.269785</td>\n",
       "      <td>0.042917</td>\n",
       "      <td>0.042743</td>\n",
       "      <td>0.03485</td>\n",
       "      <td>0.030100</td>\n",
       "      <td>0.026467</td>\n",
       "      <td>...</td>\n",
       "      <td>0.112023</td>\n",
       "      <td>0.243601</td>\n",
       "      <td>0.157242</td>\n",
       "      <td>0.364333</td>\n",
       "      <td>0.006404</td>\n",
       "      <td>0.003443</td>\n",
       "      <td>0.005987</td>\n",
       "      <td>0.007405</td>\n",
       "      <td>0.012287</td>\n",
       "      <td>0.009843</td>\n",
       "    </tr>\n",
       "    <tr>\n",
       "      <th>std</th>\n",
       "      <td>0.164006</td>\n",
       "      <td>0.482512</td>\n",
       "      <td>0.244294</td>\n",
       "      <td>0.260277</td>\n",
       "      <td>0.170626</td>\n",
       "      <td>0.090593</td>\n",
       "      <td>0.108836</td>\n",
       "      <td>0.09290</td>\n",
       "      <td>0.091329</td>\n",
       "      <td>0.086870</td>\n",
       "      <td>...</td>\n",
       "      <td>0.038094</td>\n",
       "      <td>0.074959</td>\n",
       "      <td>0.096499</td>\n",
       "      <td>0.058281</td>\n",
       "      <td>0.018463</td>\n",
       "      <td>0.012133</td>\n",
       "      <td>0.021787</td>\n",
       "      <td>0.024138</td>\n",
       "      <td>0.041007</td>\n",
       "      <td>0.034998</td>\n",
       "    </tr>\n",
       "    <tr>\n",
       "      <th>min</th>\n",
       "      <td>0.000000</td>\n",
       "      <td>0.000000</td>\n",
       "      <td>0.000000</td>\n",
       "      <td>0.000000</td>\n",
       "      <td>0.000000</td>\n",
       "      <td>0.000000</td>\n",
       "      <td>0.000000</td>\n",
       "      <td>0.00000</td>\n",
       "      <td>0.000000</td>\n",
       "      <td>0.000000</td>\n",
       "      <td>...</td>\n",
       "      <td>0.052575</td>\n",
       "      <td>0.119554</td>\n",
       "      <td>-0.030785</td>\n",
       "      <td>0.181473</td>\n",
       "      <td>0.000000</td>\n",
       "      <td>0.000000</td>\n",
       "      <td>0.000000</td>\n",
       "      <td>0.000000</td>\n",
       "      <td>0.000000</td>\n",
       "      <td>0.000000</td>\n",
       "    </tr>\n",
       "    <tr>\n",
       "      <th>25%</th>\n",
       "      <td>0.050633</td>\n",
       "      <td>0.000000</td>\n",
       "      <td>0.000000</td>\n",
       "      <td>0.000000</td>\n",
       "      <td>0.129630</td>\n",
       "      <td>0.000000</td>\n",
       "      <td>0.000000</td>\n",
       "      <td>0.00000</td>\n",
       "      <td>0.000000</td>\n",
       "      <td>0.000000</td>\n",
       "      <td>...</td>\n",
       "      <td>0.087739</td>\n",
       "      <td>0.196562</td>\n",
       "      <td>0.097130</td>\n",
       "      <td>0.327895</td>\n",
       "      <td>0.001145</td>\n",
       "      <td>0.000529</td>\n",
       "      <td>0.000493</td>\n",
       "      <td>0.000464</td>\n",
       "      <td>0.000773</td>\n",
       "      <td>0.000366</td>\n",
       "    </tr>\n",
       "    <tr>\n",
       "      <th>50%</th>\n",
       "      <td>0.164557</td>\n",
       "      <td>1.000000</td>\n",
       "      <td>0.333333</td>\n",
       "      <td>0.500000</td>\n",
       "      <td>0.240741</td>\n",
       "      <td>0.000000</td>\n",
       "      <td>0.000000</td>\n",
       "      <td>0.00000</td>\n",
       "      <td>0.000000</td>\n",
       "      <td>0.000000</td>\n",
       "      <td>...</td>\n",
       "      <td>0.097360</td>\n",
       "      <td>0.215722</td>\n",
       "      <td>0.122577</td>\n",
       "      <td>0.343153</td>\n",
       "      <td>0.002418</td>\n",
       "      <td>0.001195</td>\n",
       "      <td>0.002103</td>\n",
       "      <td>0.002415</td>\n",
       "      <td>0.003865</td>\n",
       "      <td>0.002846</td>\n",
       "    </tr>\n",
       "    <tr>\n",
       "      <th>75%</th>\n",
       "      <td>0.291139</td>\n",
       "      <td>1.000000</td>\n",
       "      <td>0.333333</td>\n",
       "      <td>0.500000</td>\n",
       "      <td>0.388889</td>\n",
       "      <td>0.000000</td>\n",
       "      <td>0.000000</td>\n",
       "      <td>0.00000</td>\n",
       "      <td>0.000000</td>\n",
       "      <td>0.000000</td>\n",
       "      <td>...</td>\n",
       "      <td>0.119028</td>\n",
       "      <td>0.257050</td>\n",
       "      <td>0.172764</td>\n",
       "      <td>0.374276</td>\n",
       "      <td>0.005724</td>\n",
       "      <td>0.002969</td>\n",
       "      <td>0.005084</td>\n",
       "      <td>0.006441</td>\n",
       "      <td>0.010307</td>\n",
       "      <td>0.007661</td>\n",
       "    </tr>\n",
       "    <tr>\n",
       "      <th>max</th>\n",
       "      <td>1.253165</td>\n",
       "      <td>1.000000</td>\n",
       "      <td>1.000000</td>\n",
       "      <td>1.000000</td>\n",
       "      <td>1.074074</td>\n",
       "      <td>1.000000</td>\n",
       "      <td>1.142857</td>\n",
       "      <td>1.00000</td>\n",
       "      <td>0.875000</td>\n",
       "      <td>0.875000</td>\n",
       "      <td>...</td>\n",
       "      <td>0.555823</td>\n",
       "      <td>1.210662</td>\n",
       "      <td>1.524497</td>\n",
       "      <td>1.251764</td>\n",
       "      <td>0.463643</td>\n",
       "      <td>0.608289</td>\n",
       "      <td>1.007870</td>\n",
       "      <td>0.851686</td>\n",
       "      <td>1.099100</td>\n",
       "      <td>1.002889</td>\n",
       "    </tr>\n",
       "  </tbody>\n",
       "</table>\n",
       "<p>8 rows × 23 columns</p>\n",
       "</div>"
      ],
      "text/plain": [
       "         LIMIT_BAL          SEX    EDUCATION     MARRIAGE          AGE  \\\n",
       "count  7500.000000  7500.000000  7500.000000  7500.000000  7500.000000   \n",
       "mean      0.199270     0.631200     0.282978     0.284133     0.269785   \n",
       "std       0.164006     0.482512     0.244294     0.260277     0.170626   \n",
       "min       0.000000     0.000000     0.000000     0.000000     0.000000   \n",
       "25%       0.050633     0.000000     0.000000     0.000000     0.129630   \n",
       "50%       0.164557     1.000000     0.333333     0.500000     0.240741   \n",
       "75%       0.291139     1.000000     0.333333     0.500000     0.388889   \n",
       "max       1.253165     1.000000     1.000000     1.000000     1.074074   \n",
       "\n",
       "             PAY_1        PAY_2       PAY_3        PAY_4        PAY_5  ...  \\\n",
       "count  7500.000000  7500.000000  7500.00000  7500.000000  7500.000000  ...   \n",
       "mean      0.042917     0.042743     0.03485     0.030100     0.026467  ...   \n",
       "std       0.090593     0.108836     0.09290     0.091329     0.086870  ...   \n",
       "min       0.000000     0.000000     0.00000     0.000000     0.000000  ...   \n",
       "25%       0.000000     0.000000     0.00000     0.000000     0.000000  ...   \n",
       "50%       0.000000     0.000000     0.00000     0.000000     0.000000  ...   \n",
       "75%       0.000000     0.000000     0.00000     0.000000     0.000000  ...   \n",
       "max       1.000000     1.142857     1.00000     0.875000     0.875000  ...   \n",
       "\n",
       "         BILL_AMT3    BILL_AMT4    BILL_AMT5    BILL_AMT6     PAY_AMT1  \\\n",
       "count  7500.000000  7500.000000  7500.000000  7500.000000  7500.000000   \n",
       "mean      0.112023     0.243601     0.157242     0.364333     0.006404   \n",
       "std       0.038094     0.074959     0.096499     0.058281     0.018463   \n",
       "min       0.052575     0.119554    -0.030785     0.181473     0.000000   \n",
       "25%       0.087739     0.196562     0.097130     0.327895     0.001145   \n",
       "50%       0.097360     0.215722     0.122577     0.343153     0.002418   \n",
       "75%       0.119028     0.257050     0.172764     0.374276     0.005724   \n",
       "max       0.555823     1.210662     1.524497     1.251764     0.463643   \n",
       "\n",
       "          PAY_AMT2     PAY_AMT3     PAY_AMT4     PAY_AMT5     PAY_AMT6  \n",
       "count  7500.000000  7500.000000  7500.000000  7500.000000  7500.000000  \n",
       "mean      0.003443     0.005987     0.007405     0.012287     0.009843  \n",
       "std       0.012133     0.021787     0.024138     0.041007     0.034998  \n",
       "min       0.000000     0.000000     0.000000     0.000000     0.000000  \n",
       "25%       0.000529     0.000493     0.000464     0.000773     0.000366  \n",
       "50%       0.001195     0.002103     0.002415     0.003865     0.002846  \n",
       "75%       0.002969     0.005084     0.006441     0.010307     0.007661  \n",
       "max       0.608289     1.007870     0.851686     1.099100     1.002889  \n",
       "\n",
       "[8 rows x 23 columns]"
      ]
     },
     "execution_count": 14,
     "metadata": {},
     "output_type": "execute_result"
    }
   ],
   "source": [
    "X_test_df.describe()"
   ]
  },
  {
   "cell_type": "markdown",
   "metadata": {},
   "source": [
    "<div class=\"alert alert-block alert-info\">\n",
    "<b><font size=\"4\">KNN Classification</font></b>\n",
    "</div>\n",
    "\n"
   ]
  },
  {
   "cell_type": "code",
   "execution_count": 15,
   "metadata": {},
   "outputs": [],
   "source": [
    "from sklearn.neighbors import KNeighborsClassifier\n",
    "from sklearn.model_selection import KFold # for cross validation\n",
    "from sklearn.model_selection import GridSearchCV # for tuning parameter\n",
    "from sklearn.metrics import classification_report"
   ]
  },
  {
   "cell_type": "code",
   "execution_count": 16,
   "metadata": {},
   "outputs": [
    {
     "data": {
      "text/plain": [
       "GridSearchCV(cv=5, error_score=nan,\n",
       "             estimator=KNeighborsClassifier(algorithm='auto', leaf_size=30,\n",
       "                                            metric='minkowski',\n",
       "                                            metric_params=None, n_jobs=None,\n",
       "                                            n_neighbors=5, p=2,\n",
       "                                            weights='uniform'),\n",
       "             iid='deprecated', n_jobs=None,\n",
       "             param_grid={'n_neighbors': array([ 1,  2,  3,  4,  5,  6,  7,  8,  9, 10, 11, 12, 13, 14, 15, 16, 17,\n",
       "       18, 19, 20, 21, 22, 23, 24])},\n",
       "             pre_dispatch='2*n_jobs', refit=True, return_train_score=False,\n",
       "             scoring=None, verbose=0)"
      ]
     },
     "execution_count": 16,
     "metadata": {},
     "output_type": "execute_result"
    },
    {
     "data": {
      "text/plain": [
       "{'n_neighbors': 23}"
      ]
     },
     "execution_count": 16,
     "metadata": {},
     "output_type": "execute_result"
    },
    {
     "data": {
      "text/plain": [
       "0.8101777777777779"
      ]
     },
     "execution_count": 16,
     "metadata": {},
     "output_type": "execute_result"
    }
   ],
   "source": [
    "#create new a knn model\n",
    "knn = KNeighborsClassifier()\n",
    "#create a dictionary of all values we want to test for n_neighbors\n",
    "param_grid = {'n_neighbors': np.arange(1, 25)}\n",
    "#use gridsearch to test all values for n_neighbors\n",
    "knn_gscv = GridSearchCV(knn, param_grid, cv=5)\n",
    "#fit model to data\n",
    "knn_gscv.fit(X_train, y_train)\n",
    "#check top performing n_neighbors value\n",
    "knn_gscv.best_params_\n",
    "#check mean score for the top performing value of n_neighbors\n",
    "knn_gscv.best_score_\n",
    "y_pred = knn_gscv.fit(X_train, y_train).predict(X_test)"
   ]
  },
  {
   "cell_type": "markdown",
   "metadata": {},
   "source": [
    "<div class=\"alert alert-block alert-info\">\n",
    "<b><font size=\"4\">Decision tree classification</font></b>\n",
    "</div>\n",
    " "
   ]
  },
  {
   "cell_type": "code",
   "execution_count": 17,
   "metadata": {},
   "outputs": [],
   "source": [
    "from sklearn.tree import DecisionTreeClassifier\n",
    "from sklearn.pipeline import make_pipeline"
   ]
  },
  {
   "cell_type": "code",
   "execution_count": 18,
   "metadata": {},
   "outputs": [
    {
     "data": {
      "text/plain": [
       "GridSearchCV(cv=5, error_score=nan,\n",
       "             estimator=DecisionTreeClassifier(ccp_alpha=0.0, class_weight=None,\n",
       "                                              criterion='gini', max_depth=None,\n",
       "                                              max_features=None,\n",
       "                                              max_leaf_nodes=None,\n",
       "                                              min_impurity_decrease=0.0,\n",
       "                                              min_impurity_split=None,\n",
       "                                              min_samples_leaf=1,\n",
       "                                              min_samples_split=2,\n",
       "                                              min_weight_fraction_leaf=0.0,\n",
       "                                              presort='deprecated',\n",
       "                                              random_state=None,\n",
       "                                              splitter='best'),\n",
       "             iid='deprecated', n_jobs=None,\n",
       "             param_grid={'criterion': ['gini', 'entropy'],\n",
       "                         'max_depth': array([ 1,  2,  3,  4,  5,  6,  7,  8,  9, 10, 11, 12, 13, 14])},\n",
       "             pre_dispatch='2*n_jobs', refit=True, return_train_score=False,\n",
       "             scoring=None, verbose=0)"
      ]
     },
     "execution_count": 18,
     "metadata": {},
     "output_type": "execute_result"
    },
    {
     "data": {
      "text/plain": [
       "{'criterion': 'gini', 'max_depth': 3}"
      ]
     },
     "execution_count": 18,
     "metadata": {},
     "output_type": "execute_result"
    },
    {
     "data": {
      "text/plain": [
       "0.8176"
      ]
     },
     "execution_count": 18,
     "metadata": {},
     "output_type": "execute_result"
    }
   ],
   "source": [
    " #create a dictionary of all values we want to test\n",
    "param_grid = { 'criterion':['gini','entropy'],'max_depth': np.arange(1, 15)}\n",
    "# decision tree model\n",
    "dtree_model=DecisionTreeClassifier()\n",
    "#use gridsearch to test all values\n",
    "dtree_gscv = GridSearchCV(dtree_model, param_grid, cv=5)\n",
    "#fit model to data\n",
    "dtree_gscv.fit(X_train, y_train)\n",
    "\n",
    "dtree_gscv.best_params_\n",
    "\n",
    "dtree_gscv.best_score_\n"
   ]
  },
  {
   "cell_type": "markdown",
   "metadata": {},
   "source": [
    "<div class=\"alert alert-block alert-info\">\n",
    "<b><font size=\"4\">Logistic Regression</font></b>\n",
    "</div>\n"
   ]
  },
  {
   "cell_type": "code",
   "execution_count": 19,
   "metadata": {
    "scrolled": true
   },
   "outputs": [
    {
     "data": {
      "text/plain": [
       "GridSearchCV(cv=5, error_score=nan,\n",
       "             estimator=LogisticRegression(C=1.0, class_weight=None, dual=False,\n",
       "                                          fit_intercept=True,\n",
       "                                          intercept_scaling=1, l1_ratio=None,\n",
       "                                          max_iter=100, multi_class='auto',\n",
       "                                          n_jobs=None, penalty='l2',\n",
       "                                          random_state=None, solver='lbfgs',\n",
       "                                          tol=0.0001, verbose=0,\n",
       "                                          warm_start=False),\n",
       "             iid='deprecated', n_jobs=None,\n",
       "             param_grid={'C': [0.001, 0.01, 0.1, 1, 10]},\n",
       "             pre_dispatch='2*n_jobs', refit=True, return_train_score=False,\n",
       "             scoring=None, verbose=0)"
      ]
     },
     "execution_count": 19,
     "metadata": {},
     "output_type": "execute_result"
    },
    {
     "data": {
      "text/plain": [
       "{'C': 10}"
      ]
     },
     "execution_count": 19,
     "metadata": {},
     "output_type": "execute_result"
    },
    {
     "data": {
      "text/plain": [
       "0.8123111111111111"
      ]
     },
     "execution_count": 19,
     "metadata": {},
     "output_type": "execute_result"
    }
   ],
   "source": [
    "from sklearn import linear_model\n",
    "# Create logistic regression\n",
    "logistic = linear_model.LogisticRegression()\n",
    "\n",
    "# Create regularization hyperparameter space\n",
    "C = [0.001, 0.01, 0.1, 1, 10]\n",
    "\n",
    "# Create hyperparameter options\n",
    "hyperparameters = {'C': C}\n",
    "# Create grid search using 5-fold cross validation\n",
    "log_clf = GridSearchCV(logistic, hyperparameters, cv=5, verbose=0)\n",
    "#fit model to data\n",
    "log_clf.fit(X_train, y_train)\n",
    "\n",
    "log_clf.best_params_\n",
    "\n",
    "log_clf.best_score_"
   ]
  },
  {
   "cell_type": "markdown",
   "metadata": {},
   "source": [
    " <div class=\"alert alert-block alert-info\">\n",
    "<b><font size=\"4\">Linear Support Vector Machine</font></b>\n",
    "</div>\n",
    "\n"
   ]
  },
  {
   "cell_type": "code",
   "execution_count": 20,
   "metadata": {},
   "outputs": [
    {
     "data": {
      "text/plain": [
       "GridSearchCV(cv=5, error_score=nan,\n",
       "             estimator=LinearSVC(C=1.0, class_weight=None, dual=True,\n",
       "                                 fit_intercept=True, intercept_scaling=1,\n",
       "                                 loss='squared_hinge', max_iter=1000,\n",
       "                                 multi_class='ovr', penalty='l2',\n",
       "                                 random_state=0, tol=0.0001, verbose=0),\n",
       "             iid='deprecated', n_jobs=None,\n",
       "             param_grid={'C': [0.001, 0.01, 0.1, 1, 10],\n",
       "                         'loss': ['hinge', 'squared_hinge']},\n",
       "             pre_dispatch='2*n_jobs', refit=True, return_train_score=False,\n",
       "             scoring=None, verbose=0)"
      ]
     },
     "execution_count": 20,
     "metadata": {},
     "output_type": "execute_result"
    },
    {
     "data": {
      "text/plain": [
       "{'C': 1, 'loss': 'squared_hinge'}"
      ]
     },
     "execution_count": 20,
     "metadata": {},
     "output_type": "execute_result"
    },
    {
     "data": {
      "text/plain": [
       "0.8104888888888888"
      ]
     },
     "execution_count": 20,
     "metadata": {},
     "output_type": "execute_result"
    }
   ],
   "source": [
    "from sklearn.svm import LinearSVC\n",
    "Cs = [0.001, 0.01, 0.1, 1, 10]\n",
    "Ps = ['hinge','squared_hinge']\n",
    "param_grid = {'C': Cs, 'loss' : Ps}\n",
    "LSVC=LinearSVC(random_state=0)\n",
    "# Create grid search using 5-fold cross validation\n",
    "LSVC_gscv = GridSearchCV(LSVC, param_grid, cv=5)\n",
    "#fit model to data\n",
    "LSVC_gscv.fit(X_train, y_train)\n",
    "\n",
    "LSVC_gscv.best_params_\n",
    "\n",
    "LSVC_gscv.best_score_"
   ]
  },
  {
   "cell_type": "markdown",
   "metadata": {},
   "source": [
    " <div class=\"alert alert-block alert-info\">\n",
    "<b><font size=\"5\"> Hard voting classifier</font></b>\n",
    "</div>\n",
    "\n"
   ]
  },
  {
   "cell_type": "markdown",
   "metadata": {},
   "source": [
    "We will use those four models which we done in the upper part to do the follow models."
   ]
  },
  {
   "cell_type": "code",
   "execution_count": 21,
   "metadata": {},
   "outputs": [
    {
     "name": "stdout",
     "output_type": "stream",
     "text": [
      "hard voting classifier train score 0.8175555555555556\n",
      "hard voting classifier test score 0.8177333333333333\n"
     ]
    }
   ],
   "source": [
    "from sklearn.ensemble import VotingClassifier\n",
    "voting_clf = VotingClassifier(estimators=[('knn', knn_gscv), ('dt', dtree_gscv), ('lr', log_clf)], voting='hard')\n",
    "vt_hd=voting_clf.fit(X_train, y_train)\n",
    "print('hard voting classifier train score',vt_hd.score(X_train, y_train))\n",
    "print('hard voting classifier test score',vt_hd.score(X_test, y_test))\n"
   ]
  },
  {
   "cell_type": "markdown",
   "metadata": {},
   "source": [
    " <div class=\"alert alert-block alert-info\">\n",
    "<b><font size=\"5\"> Soft voting classifier</font></b>\n",
    "</div>\n"
   ]
  },
  {
   "cell_type": "code",
   "execution_count": 22,
   "metadata": {},
   "outputs": [
    {
     "name": "stdout",
     "output_type": "stream",
     "text": [
      "soft voting classifier train score 0.8188888888888889\n",
      "soft voting classifier test score 0.8182666666666667\n"
     ]
    }
   ],
   "source": [
    "voting_clf = VotingClassifier(estimators=[('knn', knn_gscv), ('dt', dtree_gscv), ('lr', log_clf)], voting='soft')\n",
    "vt_st=voting_clf.fit(X_train, y_train)\n",
    "print('soft voting classifier train score',vt_st.score(X_train, y_train))\n",
    "print('soft voting classifier test score',vt_st.score(X_test, y_test))\n"
   ]
  },
  {
   "cell_type": "markdown",
   "metadata": {},
   "source": [
    "<div class=\"alert alert-block alert-warning\">\n",
    "                                                                                    \n",
    "\n",
    "After ruuning both hard and soft classifier with same estimators, we found the results are very similiar for both voting classifiers.\n",
    "\n",
    "<div>\n"
   ]
  },
  {
   "cell_type": "markdown",
   "metadata": {},
   "source": [
    "<div class=\"alert alert-block alert-info\">\n",
    "<b><font size=\"5\"> Two models with bagging</font></b>\n",
    "</div>\n"
   ]
  },
  {
   "cell_type": "code",
   "execution_count": 23,
   "metadata": {},
   "outputs": [
    {
     "data": {
      "text/plain": [
       "GridSearchCV(cv=5, error_score=nan,\n",
       "             estimator=BaggingClassifier(base_estimator=GridSearchCV(cv=5,\n",
       "                                                                     error_score=nan,\n",
       "                                                                     estimator=DecisionTreeClassifier(ccp_alpha=0.0,\n",
       "                                                                                                      class_weight=None,\n",
       "                                                                                                      criterion='gini',\n",
       "                                                                                                      max_depth=None,\n",
       "                                                                                                      max_features=None,\n",
       "                                                                                                      max_leaf_nodes=None,\n",
       "                                                                                                      min_impurity_decrease=0.0,\n",
       "                                                                                                      min_impurity_split=None,\n",
       "                                                                                                      min_samples_leaf=1,\n",
       "                                                                                                      min_samples_split=2,\n",
       "                                                                                                      min_weight_frac...\n",
       "                                                                     return_train_score=False,\n",
       "                                                                     scoring=None,\n",
       "                                                                     verbose=0),\n",
       "                                         bootstrap=True,\n",
       "                                         bootstrap_features=False,\n",
       "                                         max_features=1.0, max_samples=1.0,\n",
       "                                         n_estimators=10, n_jobs=None,\n",
       "                                         oob_score=False, random_state=0,\n",
       "                                         verbose=0, warm_start=False),\n",
       "             iid=False, n_jobs=None,\n",
       "             param_grid={'max_samples': [0.1, 0.3, 0.8]},\n",
       "             pre_dispatch='2*n_jobs', refit=True, return_train_score=False,\n",
       "             scoring=None, verbose=0)"
      ]
     },
     "execution_count": 23,
     "metadata": {},
     "output_type": "execute_result"
    },
    {
     "name": "stdout",
     "output_type": "stream",
     "text": [
      "{'max_samples': 0.1}\n",
      "0.8170222222222222\n"
     ]
    }
   ],
   "source": [
    "from sklearn.ensemble import BaggingClassifier\n",
    "bag_clf1 = BaggingClassifier(dtree_gscv,random_state=0)\n",
    "\n",
    "param_grid = {'max_samples':[0.1,0.3,0.8]}\n",
    "\n",
    "grid1 = GridSearchCV(bag_clf1, param_grid, cv =5 , iid = False)\n",
    "grid1.fit(X_train, y_train)\n",
    "print(grid1.best_params_)\n",
    "print(grid1.best_score_)"
   ]
  },
  {
   "cell_type": "code",
   "execution_count": 24,
   "metadata": {},
   "outputs": [
    {
     "data": {
      "text/plain": [
       "GridSearchCV(cv=5, error_score=nan,\n",
       "             estimator=BaggingClassifier(base_estimator=GridSearchCV(cv=5,\n",
       "                                                                     error_score=nan,\n",
       "                                                                     estimator=LogisticRegression(C=1.0,\n",
       "                                                                                                  class_weight=None,\n",
       "                                                                                                  dual=False,\n",
       "                                                                                                  fit_intercept=True,\n",
       "                                                                                                  intercept_scaling=1,\n",
       "                                                                                                  l1_ratio=None,\n",
       "                                                                                                  max_iter=100,\n",
       "                                                                                                  multi_class='auto',\n",
       "                                                                                                  n_jobs=None,\n",
       "                                                                                                  penalty='l2',\n",
       "                                                                                                  random_state=None,\n",
       "                                                                                                  solver='lbfgs',\n",
       "                                                                                                  tol=0.0001,\n",
       "                                                                                                  verbose=0,\n",
       "                                                                                                  warm_start=...\n",
       "                                                                     return_train_score=False,\n",
       "                                                                     scoring=None,\n",
       "                                                                     verbose=0),\n",
       "                                         bootstrap=True,\n",
       "                                         bootstrap_features=False,\n",
       "                                         max_features=1.0, max_samples=1.0,\n",
       "                                         n_estimators=10, n_jobs=None,\n",
       "                                         oob_score=False, random_state=0,\n",
       "                                         verbose=0, warm_start=False),\n",
       "             iid=False, n_jobs=None,\n",
       "             param_grid={'max_samples': [0.1, 0.3, 0.8]},\n",
       "             pre_dispatch='2*n_jobs', refit=True, return_train_score=False,\n",
       "             scoring=None, verbose=0)"
      ]
     },
     "execution_count": 24,
     "metadata": {},
     "output_type": "execute_result"
    },
    {
     "name": "stdout",
     "output_type": "stream",
     "text": [
      "{'max_samples': 0.8}\n",
      "0.8118666666666666\n"
     ]
    }
   ],
   "source": [
    "bag_clf2 = BaggingClassifier(log_clf,random_state=0)\n",
    "\n",
    "param_grid = {'max_samples':[0.1,0.3,0.8]}\n",
    "\n",
    "grid2 = GridSearchCV(bag_clf2, param_grid, cv =5 , iid = False)\n",
    "grid2.fit(X_train, y_train)\n",
    "print(grid2.best_params_)\n",
    "print(grid2.best_score_)\n"
   ]
  },
  {
   "cell_type": "markdown",
   "metadata": {},
   "source": [
    "<div class=\"alert alert-block alert-warning\">\n",
    "                                                                                    \n",
    "We firstly tried running the models with bagging using GridSearchCV with different parameters`n_estimators`,`max_features` , but it took more than 10 hours but still had no results.Hence,we made the decision\n",
    "that just kept the `max_samples`. We used two different estimators  as the base estimator, one is the `decision tree` and another one is `logistic regression`.And we found that their best training score are similiar around `0.81`.\n",
    "\n",
    "<div>\n"
   ]
  },
  {
   "cell_type": "markdown",
   "metadata": {},
   "source": [
    " <div class=\"alert alert-block alert-info\">\n",
    "<b><font size=\"5\"> Two models with pasting</font></b>\n",
    "</div>"
   ]
  },
  {
   "cell_type": "code",
   "execution_count": 25,
   "metadata": {},
   "outputs": [
    {
     "data": {
      "text/plain": [
       "GridSearchCV(cv=5, error_score=nan,\n",
       "             estimator=BaggingClassifier(base_estimator=GridSearchCV(cv=5,\n",
       "                                                                     error_score=nan,\n",
       "                                                                     estimator=KNeighborsClassifier(algorithm='auto',\n",
       "                                                                                                    leaf_size=30,\n",
       "                                                                                                    metric='minkowski',\n",
       "                                                                                                    metric_params=None,\n",
       "                                                                                                    n_jobs=None,\n",
       "                                                                                                    n_neighbors=5,\n",
       "                                                                                                    p=2,\n",
       "                                                                                                    weights='uniform'),\n",
       "                                                                     iid='deprecated',\n",
       "                                                                     n_jobs=None,\n",
       "                                                                     param_grid={'n_neighbors': array([ 1,  2,  3,  4,  5,  6,  7,  8,  9, 10, 11, 12, 13...\n",
       "                                                                     return_train_score=False,\n",
       "                                                                     scoring=None,\n",
       "                                                                     verbose=0),\n",
       "                                         bootstrap=False,\n",
       "                                         bootstrap_features=False,\n",
       "                                         max_features=1.0, max_samples=1.0,\n",
       "                                         n_estimators=10, n_jobs=None,\n",
       "                                         oob_score=False, random_state=0,\n",
       "                                         verbose=0, warm_start=False),\n",
       "             iid=False, n_jobs=None,\n",
       "             param_grid={'max_samples': [0.1, 0.3, 0.5, 1]},\n",
       "             pre_dispatch='2*n_jobs', refit=True, return_train_score=False,\n",
       "             scoring=None, verbose=0)"
      ]
     },
     "execution_count": 25,
     "metadata": {},
     "output_type": "execute_result"
    },
    {
     "name": "stdout",
     "output_type": "stream",
     "text": [
      "{'max_samples': 0.5}\n",
      "0.8079555555555554\n"
     ]
    }
   ],
   "source": [
    "past_clf1 = BaggingClassifier(knn_gscv,bootstrap=False,random_state=0)\n",
    "\n",
    "param_grid = {'max_samples':[0.1,0.3,0.5,1]}\n",
    "\n",
    "grid3 = GridSearchCV(past_clf1, param_grid, cv =5 , iid = False)\n",
    "grid3.fit(X_train, y_train)\n",
    "print(grid3.best_params_)\n",
    "print(grid3.best_score_)"
   ]
  },
  {
   "cell_type": "code",
   "execution_count": 26,
   "metadata": {},
   "outputs": [
    {
     "data": {
      "text/plain": [
       "GridSearchCV(cv=5, error_score=nan,\n",
       "             estimator=BaggingClassifier(base_estimator=GridSearchCV(cv=5,\n",
       "                                                                     error_score=nan,\n",
       "                                                                     estimator=LinearSVC(C=1.0,\n",
       "                                                                                         class_weight=None,\n",
       "                                                                                         dual=True,\n",
       "                                                                                         fit_intercept=True,\n",
       "                                                                                         intercept_scaling=1,\n",
       "                                                                                         loss='squared_hinge',\n",
       "                                                                                         max_iter=1000,\n",
       "                                                                                         multi_class='ovr',\n",
       "                                                                                         penalty='l2',\n",
       "                                                                                         random_state=0,\n",
       "                                                                                         tol=0.0001,\n",
       "                                                                                         verbose=0),\n",
       "                                                                     iid='deprecated',\n",
       "                                                                     n_jobs=None,\n",
       "                                                                     param_grid={'C...\n",
       "                                                                     return_train_score=False,\n",
       "                                                                     scoring=None,\n",
       "                                                                     verbose=0),\n",
       "                                         bootstrap=False,\n",
       "                                         bootstrap_features=False,\n",
       "                                         max_features=1.0, max_samples=1.0,\n",
       "                                         n_estimators=10, n_jobs=None,\n",
       "                                         oob_score=False, random_state=0,\n",
       "                                         verbose=0, warm_start=False),\n",
       "             iid=False, n_jobs=None,\n",
       "             param_grid={'max_samples': [0.1, 0.3, 0.5, 1]},\n",
       "             pre_dispatch='2*n_jobs', refit=True, return_train_score=False,\n",
       "             scoring=None, verbose=0)"
      ]
     },
     "execution_count": 26,
     "metadata": {},
     "output_type": "execute_result"
    },
    {
     "name": "stdout",
     "output_type": "stream",
     "text": [
      "{'max_samples': 0.3}\n",
      "0.8103999999999999\n"
     ]
    }
   ],
   "source": [
    "past_clf2 = BaggingClassifier(LSVC_gscv,bootstrap=False,random_state=0)\n",
    "\n",
    "param_grid = {'max_samples':[0.1,0.3,0.5,1]}\n",
    "\n",
    "grid4 = GridSearchCV(past_clf2, param_grid, cv =5 , iid = False)\n",
    "grid4.fit(X_train, y_train)\n",
    "print(grid4.best_params_)\n",
    "print(grid4.best_score_)"
   ]
  },
  {
   "cell_type": "markdown",
   "metadata": {},
   "source": [
    " <div class=\"alert alert-block alert-info\">\n",
    "<b><font size=\"5\"> Two models with Adaboost boosting </font></b>\n",
    "</div>"
   ]
  },
  {
   "cell_type": "code",
   "execution_count": 27,
   "metadata": {},
   "outputs": [
    {
     "data": {
      "text/plain": [
       "AdaBoostClassifier(algorithm='SAMME.R',\n",
       "                   base_estimator=DecisionTreeClassifier(ccp_alpha=0.0,\n",
       "                                                         class_weight=None,\n",
       "                                                         criterion='gini',\n",
       "                                                         max_depth=1,\n",
       "                                                         max_features=None,\n",
       "                                                         max_leaf_nodes=None,\n",
       "                                                         min_impurity_decrease=0.0,\n",
       "                                                         min_impurity_split=None,\n",
       "                                                         min_samples_leaf=1,\n",
       "                                                         min_samples_split=2,\n",
       "                                                         min_weight_fraction_leaf=0.0,\n",
       "                                                         presort='deprecated',\n",
       "                                                         random_state=None,\n",
       "                                                         splitter='best'),\n",
       "                   learning_rate=0.5, n_estimators=60, random_state=0)"
      ]
     },
     "execution_count": 27,
     "metadata": {},
     "output_type": "execute_result"
    },
    {
     "name": "stdout",
     "output_type": "stream",
     "text": [
      "\n",
      " The train score of ada_clf1 is  0.814\n",
      "\n",
      " The test score of ada_clf1 is  0.8184\n",
      "\n",
      " The Accuracy Score of ada_clf1 is : 0.8184\n",
      "----------------------------------------------------------------------------\n"
     ]
    }
   ],
   "source": [
    "from sklearn.ensemble import AdaBoostClassifier\n",
    "from sklearn.metrics import accuracy_score\n",
    "\n",
    "\n",
    "\n",
    "ada_clf1 = AdaBoostClassifier(base_estimator=DecisionTreeClassifier(max_depth=1), n_estimators=60, learning_rate=0.5, random_state=0)\n",
    "ada_clf1.fit(X_train, y_train)\n",
    "\n",
    "\n",
    "print('\\n The train score of ada_clf1 is ',ada_clf1.score(X_train, y_train))\n",
    "print('\\n The test score of ada_clf1 is ',ada_clf1.score(X_test, y_test))\n",
    "\n",
    "y_pred = ada_clf1.fit(X_train, y_train).predict(X_test)\n",
    "print('\\n The Accuracy Score of ada_clf1 is :',accuracy_score(y_test,y_pred))\n",
    "\n",
    "print('----------------------------------------------------------------------------')\n"
   ]
  },
  {
   "cell_type": "code",
   "execution_count": 28,
   "metadata": {},
   "outputs": [
    {
     "data": {
      "text/plain": [
       "AdaBoostClassifier(algorithm='SAMME.R',\n",
       "                   base_estimator=LogisticRegression(C=10, class_weight=None,\n",
       "                                                     dual=False,\n",
       "                                                     fit_intercept=True,\n",
       "                                                     intercept_scaling=1,\n",
       "                                                     l1_ratio=None,\n",
       "                                                     max_iter=100,\n",
       "                                                     multi_class='auto',\n",
       "                                                     n_jobs=None, penalty='l2',\n",
       "                                                     random_state=None,\n",
       "                                                     solver='lbfgs', tol=0.0001,\n",
       "                                                     verbose=0,\n",
       "                                                     warm_start=False),\n",
       "                   learning_rate=0.5, n_estimators=100, random_state=0)"
      ]
     },
     "execution_count": 28,
     "metadata": {},
     "output_type": "execute_result"
    },
    {
     "name": "stdout",
     "output_type": "stream",
     "text": [
      "\n",
      " The train score of ada_clf2 is  0.8062222222222222\n",
      "\n",
      " The test score of ada_clf2 is  0.8101333333333334\n",
      "\n",
      " The Accuracy Score of ada_clf2 is : 0.8101333333333334\n",
      "----------------------------------------------------------------------------\n"
     ]
    }
   ],
   "source": [
    "ada_clf2 =AdaBoostClassifier(n_estimators=100, base_estimator=linear_model.LogisticRegression(C=10),learning_rate=0.5,random_state=0)\n",
    "\n",
    "ada_clf2.fit(X_train, y_train)\n",
    "\n",
    "\n",
    "print('\\n The train score of ada_clf2 is ',ada_clf2.score(X_train, y_train))\n",
    "print('\\n The test score of ada_clf2 is ',ada_clf2.score(X_test, y_test))\n",
    "\n",
    "y_pred = ada_clf2.fit(X_train, y_train).predict(X_test)\n",
    "print('\\n The Accuracy Score of ada_clf2 is :',accuracy_score(y_test,y_pred))\n",
    "\n",
    "print('----------------------------------------------------------------------------')\n"
   ]
  },
  {
   "cell_type": "markdown",
   "metadata": {},
   "source": [
    "<div class=\"alert alert-block alert-warning\">\n",
    "                                                                                    \n",
    "We use `Logistic Regression` and `Decision Tree` as base estimators to run with `Adaboost boosting`.And comparing the results show above, we can conclude that using `Decision Tree Classifier`\n",
    "as the base estimator here performs better.\n",
    "\n",
    "<div>\n"
   ]
  },
  {
   "cell_type": "markdown",
   "metadata": {},
   "source": [
    " <div class=\"alert alert-block alert-info\">\n",
    "<b><font size=\"5\"> One model with Gradient boosting </font></b>\n",
    "</div>\n"
   ]
  },
  {
   "cell_type": "code",
   "execution_count": 29,
   "metadata": {},
   "outputs": [
    {
     "data": {
      "text/plain": [
       "GridSearchCV(cv=5, error_score=nan,\n",
       "             estimator=GradientBoostingClassifier(ccp_alpha=0.0,\n",
       "                                                  criterion='friedman_mse',\n",
       "                                                  init=None, learning_rate=0.1,\n",
       "                                                  loss='deviance', max_depth=3,\n",
       "                                                  max_features=None,\n",
       "                                                  max_leaf_nodes=None,\n",
       "                                                  min_impurity_decrease=0.0,\n",
       "                                                  min_impurity_split=None,\n",
       "                                                  min_samples_leaf=1,\n",
       "                                                  min_samples_split=2,\n",
       "                                                  min_weight_fraction_leaf=0.0,\n",
       "                                                  n_estimators=100,\n",
       "                                                  n_iter_no_change=None,\n",
       "                                                  presort='deprecated',\n",
       "                                                  random_state=0, subsample=1.0,\n",
       "                                                  tol=0.0001,\n",
       "                                                  validation_fraction=0.1,\n",
       "                                                  verbose=0, warm_start=False),\n",
       "             iid='deprecated', n_jobs=None,\n",
       "             param_grid={'learning_rate': [0.1, 0.25, 0.5, 0.75],\n",
       "                         'max_features': [2, 5, 10],\n",
       "                         'n_estimators': [10, 20, 50]},\n",
       "             pre_dispatch='2*n_jobs', refit=True, return_train_score=False,\n",
       "             scoring=None, verbose=0)"
      ]
     },
     "execution_count": 29,
     "metadata": {},
     "output_type": "execute_result"
    },
    {
     "name": "stdout",
     "output_type": "stream",
     "text": [
      "{'learning_rate': 0.25, 'max_features': 10, 'n_estimators': 10}\n",
      "0.8188444444444445\n"
     ]
    }
   ],
   "source": [
    "from sklearn.ensemble import GradientBoostingClassifier\n",
    "\n",
    "gbrt = GradientBoostingClassifier(random_state=0)\n",
    "\n",
    "param_grid = {'max_features': [2, 5, 10],'n_estimators':[10,20,50],'learning_rate':[0.1,0.25, 0.5,0.75]}\n",
    "\n",
    "grid1 = GridSearchCV(gbrt, param_grid, cv =5)\n",
    "grid1.fit(X_train, y_train)\n",
    "print(grid1.best_params_)\n",
    "print(grid1.best_score_)"
   ]
  },
  {
   "cell_type": "code",
   "execution_count": 30,
   "metadata": {},
   "outputs": [
    {
     "data": {
      "text/plain": [
       "GradientBoostingClassifier(ccp_alpha=0.0, criterion='friedman_mse', init=None,\n",
       "                           learning_rate=0.25, loss='deviance', max_depth=3,\n",
       "                           max_features=10, max_leaf_nodes=None,\n",
       "                           min_impurity_decrease=0.0, min_impurity_split=None,\n",
       "                           min_samples_leaf=1, min_samples_split=2,\n",
       "                           min_weight_fraction_leaf=0.0, n_estimators=10,\n",
       "                           n_iter_no_change=None, presort='deprecated',\n",
       "                           random_state=0, subsample=1.0, tol=0.0001,\n",
       "                           validation_fraction=0.1, verbose=0,\n",
       "                           warm_start=False)"
      ]
     },
     "execution_count": 30,
     "metadata": {},
     "output_type": "execute_result"
    },
    {
     "name": "stdout",
     "output_type": "stream",
     "text": [
      "Accuracy on training set: 0.820\n",
      "Accuracy on test set: 0.824\n"
     ]
    }
   ],
   "source": [
    "gbrt1 = GradientBoostingClassifier(random_state=0,learning_rate=0.25, max_features=10, n_estimators= 10)\n",
    "gbrt1.fit(X_train, y_train)\n",
    "\n",
    "print(\"Accuracy on training set: {:.3f}\".format(gbrt1.score(X_train, y_train)))\n",
    "print(\"Accuracy on test set: {:.3f}\".format(gbrt1.score(X_test, y_test)))"
   ]
  },
  {
   "cell_type": "code",
   "execution_count": null,
   "metadata": {},
   "outputs": [],
   "source": [
    "%matplotlib notebook\n",
    "\n",
    "y_list = gbrt1.feature_importances_\n",
    "y_pos = np.arange(len(y_list))\n",
    "features = df.columns\n",
    "plt.barh(y_pos, y_list, align='center', alpha=0.4)\n",
    "plt.yticks(y_pos, features)\n",
    "plt.ylabel('Feature Names',fontsize=12)"
   ]
  },
  {
   "cell_type": "markdown",
   "metadata": {},
   "source": [
    "<div class=\"alert alert-block alert-warning\">\n",
    "                                                                                    \n",
    "We use the GridSearchCV to run model with Gradient boosting, and we got the best parameters, then use the best parameter to run the model again. The training Score is `0.820`,\n",
    "and the test score is `0.826`. Also we can directly gain the information that `PAY_0`,`PAY_2` and `PAY_3`are the top 3 most significant features. \n",
    "<div>"
   ]
  },
  {
   "cell_type": "markdown",
   "metadata": {},
   "source": [
    " <div class=\"alert alert-block alert-info\">\n",
    "<b><font size=\"5\"> Apply PCA </font></b>\n",
    "</div>\n"
   ]
  },
  {
   "cell_type": "code",
   "execution_count": 32,
   "metadata": {},
   "outputs": [
    {
     "data": {
      "text/plain": [
       "8"
      ]
     },
     "execution_count": 32,
     "metadata": {},
     "output_type": "execute_result"
    }
   ],
   "source": [
    "from sklearn.decomposition import PCA\n",
    "pca = PCA(n_components=0.95)\n",
    "X_train = pca.fit_transform(X_train)\n",
    "X_test = pca.transform(X_test)\n",
    "pca.n_components_"
   ]
  },
  {
   "cell_type": "code",
   "execution_count": 33,
   "metadata": {},
   "outputs": [
    {
     "data": {
      "text/html": [
       "<div>\n",
       "<style scoped>\n",
       "    .dataframe tbody tr th:only-of-type {\n",
       "        vertical-align: middle;\n",
       "    }\n",
       "\n",
       "    .dataframe tbody tr th {\n",
       "        vertical-align: top;\n",
       "    }\n",
       "\n",
       "    .dataframe thead th {\n",
       "        text-align: right;\n",
       "    }\n",
       "</style>\n",
       "<table border=\"1\" class=\"dataframe\">\n",
       "  <thead>\n",
       "    <tr style=\"text-align: right;\">\n",
       "      <th></th>\n",
       "      <th>principal component 1</th>\n",
       "      <th>principal component 2</th>\n",
       "      <th>principal component 3</th>\n",
       "      <th>principal component 4</th>\n",
       "      <th>principal component 5</th>\n",
       "      <th>principal component 6</th>\n",
       "      <th>principal component 7</th>\n",
       "      <th>principal component 8</th>\n",
       "      <th>def_pay</th>\n",
       "    </tr>\n",
       "  </thead>\n",
       "  <tbody>\n",
       "    <tr>\n",
       "      <th>0</th>\n",
       "      <td>-0.387772</td>\n",
       "      <td>0.364718</td>\n",
       "      <td>-0.122991</td>\n",
       "      <td>0.039693</td>\n",
       "      <td>-0.093318</td>\n",
       "      <td>-0.043914</td>\n",
       "      <td>0.048970</td>\n",
       "      <td>0.005931</td>\n",
       "      <td>1</td>\n",
       "    </tr>\n",
       "    <tr>\n",
       "      <th>1</th>\n",
       "      <td>-0.386825</td>\n",
       "      <td>-0.511966</td>\n",
       "      <td>0.199372</td>\n",
       "      <td>-0.034576</td>\n",
       "      <td>-0.042306</td>\n",
       "      <td>0.191584</td>\n",
       "      <td>0.028914</td>\n",
       "      <td>0.097075</td>\n",
       "      <td>1</td>\n",
       "    </tr>\n",
       "    <tr>\n",
       "      <th>2</th>\n",
       "      <td>0.620459</td>\n",
       "      <td>-0.455682</td>\n",
       "      <td>0.279036</td>\n",
       "      <td>0.247231</td>\n",
       "      <td>0.452369</td>\n",
       "      <td>-0.084448</td>\n",
       "      <td>-0.078405</td>\n",
       "      <td>0.052493</td>\n",
       "      <td>0</td>\n",
       "    </tr>\n",
       "    <tr>\n",
       "      <th>3</th>\n",
       "      <td>-0.399361</td>\n",
       "      <td>-0.236924</td>\n",
       "      <td>-0.115806</td>\n",
       "      <td>-0.023862</td>\n",
       "      <td>-0.119238</td>\n",
       "      <td>-0.089046</td>\n",
       "      <td>-0.146129</td>\n",
       "      <td>0.007039</td>\n",
       "      <td>0</td>\n",
       "    </tr>\n",
       "    <tr>\n",
       "      <th>4</th>\n",
       "      <td>-0.381410</td>\n",
       "      <td>-0.393984</td>\n",
       "      <td>-0.207371</td>\n",
       "      <td>-0.206860</td>\n",
       "      <td>0.422707</td>\n",
       "      <td>0.105920</td>\n",
       "      <td>0.136736</td>\n",
       "      <td>-0.029819</td>\n",
       "      <td>0</td>\n",
       "    </tr>\n",
       "  </tbody>\n",
       "</table>\n",
       "</div>"
      ],
      "text/plain": [
       "   principal component 1  principal component 2  principal component 3  \\\n",
       "0              -0.387772               0.364718              -0.122991   \n",
       "1              -0.386825              -0.511966               0.199372   \n",
       "2               0.620459              -0.455682               0.279036   \n",
       "3              -0.399361              -0.236924              -0.115806   \n",
       "4              -0.381410              -0.393984              -0.207371   \n",
       "\n",
       "   principal component 4  principal component 5  principal component 6  \\\n",
       "0               0.039693              -0.093318              -0.043914   \n",
       "1              -0.034576              -0.042306               0.191584   \n",
       "2               0.247231               0.452369              -0.084448   \n",
       "3              -0.023862              -0.119238              -0.089046   \n",
       "4              -0.206860               0.422707               0.105920   \n",
       "\n",
       "   principal component 7  principal component 8  def_pay  \n",
       "0               0.048970               0.005931        1  \n",
       "1               0.028914               0.097075        1  \n",
       "2              -0.078405               0.052493        0  \n",
       "3              -0.146129               0.007039        0  \n",
       "4               0.136736              -0.029819        0  "
      ]
     },
     "execution_count": 33,
     "metadata": {},
     "output_type": "execute_result"
    }
   ],
   "source": [
    "principalDf = pd.DataFrame(data = X_train, columns = ['principal component 1', 'principal component 2','principal component 3','principal component 4','principal component 5',\n",
    "                          'principal component 6','principal component 7','principal component 8'])\n",
    "finalDf = pd.concat([principalDf, df_impute[['def_pay']]], axis = 1, join='inner')\n",
    "finalDf.head()"
   ]
  },
  {
   "cell_type": "markdown",
   "metadata": {},
   "source": [
    "<div class=\"alert alert-block alert-info\">\n",
    "<b><font size=\"4\"> Model Evaluation strategy (Metrics Selection)</font></b>"
   ]
  },
  {
   "cell_type": "code",
   "execution_count": 34,
   "metadata": {},
   "outputs": [],
   "source": [
    "from sklearn.metrics import classification_report, confusion_matrix, accuracy_score, roc_auc_score, roc_curve,precision_recall_curve, auc"
   ]
  },
  {
   "cell_type": "markdown",
   "metadata": {},
   "source": [
    "<div class=\"alert alert-block alert-info\">\n",
    "<b><font size=\"4\">  KNN Classification Apply (PCA)</font></b>"
   ]
  },
  {
   "cell_type": "code",
   "execution_count": 35,
   "metadata": {},
   "outputs": [
    {
     "data": {
      "text/plain": [
       "GridSearchCV(cv=5, error_score=nan,\n",
       "             estimator=KNeighborsClassifier(algorithm='auto', leaf_size=30,\n",
       "                                            metric='minkowski',\n",
       "                                            metric_params=None, n_jobs=None,\n",
       "                                            n_neighbors=5, p=2,\n",
       "                                            weights='uniform'),\n",
       "             iid='deprecated', n_jobs=-1,\n",
       "             param_grid={'n_neighbors': array([ 1,  2,  3,  4,  5,  6,  7,  8,  9, 10, 11, 12, 13, 14, 15, 16, 17,\n",
       "       18, 19, 20, 21, 22, 23, 24])},\n",
       "             pre_dispatch='2*n_jobs', refit=True, return_train_score=True,\n",
       "             scoring=None, verbose=0)"
      ]
     },
     "execution_count": 35,
     "metadata": {},
     "output_type": "execute_result"
    }
   ],
   "source": [
    "param_grid = {'n_neighbors': np.arange(1, 25)}\n",
    "knn_gv = GridSearchCV(KNeighborsClassifier(), param_grid, return_train_score=True, cv=5, n_jobs=-1)\n",
    "knn_gv.fit(X_train, y_train)"
   ]
  },
  {
   "cell_type": "code",
   "execution_count": 36,
   "metadata": {},
   "outputs": [
    {
     "data": {
      "text/plain": [
       "0.8082666666666667"
      ]
     },
     "execution_count": 36,
     "metadata": {},
     "output_type": "execute_result"
    }
   ],
   "source": [
    "knn_gv.score(X_test, y_test)\n",
    "#Accuracy score"
   ]
  },
  {
   "cell_type": "code",
   "execution_count": 37,
   "metadata": {},
   "outputs": [
    {
     "name": "stdout",
     "output_type": "stream",
     "text": [
      "Best parameters: {'n_neighbors': 23}\n",
      "Best cross-validation score: 0.807156\n"
     ]
    }
   ],
   "source": [
    "print(f'Best parameters: {knn_gv.best_params_}')\n",
    "print(f'Best cross-validation score: {knn_gv.best_score_:0.6f}')\n",
    "#Grid Search to find the best scaling parameter and mean testing score"
   ]
  },
  {
   "cell_type": "code",
   "execution_count": 77,
   "metadata": {},
   "outputs": [
    {
     "name": "stdout",
     "output_type": "stream",
     "text": [
      "\n",
      "KNN Classification: \n",
      "\n",
      "\t• Train accuracy score: 0.816756\n",
      "\t• Test accuracy score: 0.808267\n",
      "\n",
      "The Classification Report is plotted below: \n",
      "\n",
      "               precision    recall  f1-score   support\n",
      "\n",
      "           0       0.83      0.95      0.89      5927\n",
      "           1       0.60      0.26      0.36      1573\n",
      "\n",
      "    accuracy                           0.81      7500\n",
      "   macro avg       0.71      0.61      0.62      7500\n",
      "weighted avg       0.78      0.81      0.78      7500\n",
      "\n",
      "\n",
      "The Confusion Matrix is plotted below:\n"
     ]
    },
    {
     "data": {
      "image/png": "[encoded data removed]",
      "text/plain": [
       "<Figure size 432x288 with 2 Axes>"
      ]
     },
     "metadata": {
      "needs_background": "light"
     },
     "output_type": "display_data"
    }
   ],
   "source": [
    "y_pred = knn_gv.predict(X_test)\n",
    "print(\"\\nKNN Classification: \\n\\n\\t• Train accuracy score: {:.6f}\".format(knn_gv.score(X_train, y_train)))\n",
    "print(\"\\t• Test accuracy score: {:.6f}\".format(knn_gv.score(X_test, y_test)))\n",
    "print('\\nThe Classification Report is plotted below: \\n\\n',classification_report(y_test, y_pred))\n",
    "print('\\nThe Confusion Matrix is plotted below:')\n",
    "cm1 = confusion_matrix(y_test, y_pred)\n",
    "sns.heatmap(cm1,annot=True, cmap=\"Blues\", fmt=\"d\", \n",
    "            xticklabels = ['Non-default', 'Default'], \n",
    "            yticklabels = ['Non-default', 'Default'])\n",
    "plt.ylabel('True label')\n",
    "plt.xlabel('Predicted label');\n",
    "plt.title(\"Confusion Matrix - KNN Classification(Apply PCA)\");"
   ]
  },
  {
   "cell_type": "markdown",
   "metadata": {},
   "source": [
    "<div class=\"alert alert-block alert-info\">\n",
    "<b><font size=\"4\">  Decision Tree Classification Apply(PCA)</font></b>"
   ]
  },
  {
   "cell_type": "code",
   "execution_count": 39,
   "metadata": {},
   "outputs": [
    {
     "data": {
      "text/plain": [
       "GridSearchCV(cv=5, error_score=nan,\n",
       "             estimator=DecisionTreeClassifier(ccp_alpha=0.0, class_weight=None,\n",
       "                                              criterion='gini', max_depth=None,\n",
       "                                              max_features=None,\n",
       "                                              max_leaf_nodes=None,\n",
       "                                              min_impurity_decrease=0.0,\n",
       "                                              min_impurity_split=None,\n",
       "                                              min_samples_leaf=1,\n",
       "                                              min_samples_split=2,\n",
       "                                              min_weight_fraction_leaf=0.0,\n",
       "                                              presort='deprecated',\n",
       "                                              random_state=None,\n",
       "                                              splitter='best'),\n",
       "             iid='deprecated', n_jobs=-1,\n",
       "             param_grid={'criterion': ['gini', 'entropy'],\n",
       "                         'max_depth': array([ 1,  2,  3,  4,  5,  6,  7,  8,  9, 10, 11, 12, 13, 14])},\n",
       "             pre_dispatch='2*n_jobs', refit=True, return_train_score=True,\n",
       "             scoring=None, verbose=0)"
      ]
     },
     "execution_count": 39,
     "metadata": {},
     "output_type": "execute_result"
    }
   ],
   "source": [
    "param_grid = {'criterion':['gini','entropy'],'max_depth': np.arange(1, 15)}\n",
    "tree_gscv = GridSearchCV(DecisionTreeClassifier(),param_grid,return_train_score=True, cv=5, n_jobs=-1)\n",
    "tree_gscv.fit(X_train, y_train)"
   ]
  },
  {
   "cell_type": "code",
   "execution_count": 40,
   "metadata": {},
   "outputs": [
    {
     "data": {
      "text/plain": [
       "0.8149333333333333"
      ]
     },
     "execution_count": 40,
     "metadata": {},
     "output_type": "execute_result"
    }
   ],
   "source": [
    "tree_gscv.score(X_test, y_test)\n",
    "#Accuracy score"
   ]
  },
  {
   "cell_type": "code",
   "execution_count": 41,
   "metadata": {},
   "outputs": [
    {
     "name": "stdout",
     "output_type": "stream",
     "text": [
      "Best parameters: {'criterion': 'gini', 'max_depth': 4}\n",
      "Best cross-validation score: 0.807289\n"
     ]
    }
   ],
   "source": [
    "print(f'Best parameters: {tree_gscv.best_params_}')\n",
    "print(f'Best cross-validation score: {tree_gscv.best_score_:0.6f}')\n",
    "#Grid Search to find the best scaling parameter and mean testing score"
   ]
  },
  {
   "cell_type": "code",
   "execution_count": 78,
   "metadata": {},
   "outputs": [
    {
     "name": "stdout",
     "output_type": "stream",
     "text": [
      "\n",
      "Decision Tree Classification: \n",
      "\n",
      "\t• Train accuracy score: 0.813333\n",
      "\t• Test accuracy score: 0.814933\n",
      "\n",
      "The Classification Report is plotted below: \n",
      "\n",
      "               precision    recall  f1-score   support\n",
      "\n",
      "           0       0.84      0.94      0.89      5927\n",
      "           1       0.61      0.33      0.43      1573\n",
      "\n",
      "    accuracy                           0.81      7500\n",
      "   macro avg       0.72      0.64      0.66      7500\n",
      "weighted avg       0.79      0.81      0.79      7500\n",
      "\n",
      "\n",
      "The Confusion Matrix is plotted below:\n"
     ]
    },
    {
     "data": {
      "image/png": "[encoded data removed]",
      "text/plain": [
       "<Figure size 432x288 with 2 Axes>"
      ]
     },
     "metadata": {
      "needs_background": "light"
     },
     "output_type": "display_data"
    }
   ],
   "source": [
    "y_pred =tree_gscv.predict(X_test)\n",
    "print(\"\\nDecision Tree Classification: \\n\\n\\t• Train accuracy score: {:.6f}\".format(tree_gscv.score(X_train, y_train)))\n",
    "print(\"\\t• Test accuracy score: {:.6f}\".format(tree_gscv.score(X_test, y_test)))\n",
    "print('\\nThe Classification Report is plotted below: \\n\\n',classification_report(y_test, y_pred))\n",
    "print('\\nThe Confusion Matrix is plotted below:')\n",
    "cm2 = confusion_matrix(y_test, y_pred)\n",
    "sns.heatmap(cm2,annot=True, cmap=\"Blues\", fmt=\"d\", \n",
    "            xticklabels = ['Non-default', 'Default'], \n",
    "            yticklabels = ['Non-default', 'Default'])\n",
    "plt.ylabel('True label')\n",
    "plt.xlabel('Predicted label');\n",
    "plt.title(\"Confusion Matrix - Decision tree Apply(PCA)\");"
   ]
  },
  {
   "cell_type": "markdown",
   "metadata": {},
   "source": [
    "<div class=\"alert alert-block alert-info\">\n",
    "<b><font size=\"4\"> Logistic Regression Apply(PCA)</font></b>"
   ]
  },
  {
   "cell_type": "code",
   "execution_count": 43,
   "metadata": {},
   "outputs": [
    {
     "data": {
      "text/plain": [
       "GridSearchCV(cv=5, error_score=nan,\n",
       "             estimator=LogisticRegression(C=1.0, class_weight=None, dual=False,\n",
       "                                          fit_intercept=True,\n",
       "                                          intercept_scaling=1, l1_ratio=None,\n",
       "                                          max_iter=100, multi_class='auto',\n",
       "                                          n_jobs=None, penalty='l2',\n",
       "                                          random_state=None, solver='lbfgs',\n",
       "                                          tol=0.0001, verbose=0,\n",
       "                                          warm_start=False),\n",
       "             iid='deprecated', n_jobs=-1,\n",
       "             param_grid={'C': [0.001, 0.01, 0.1, 1, 10]},\n",
       "             pre_dispatch='2*n_jobs', refit=True, return_train_score=True,\n",
       "             scoring=None, verbose=0)"
      ]
     },
     "execution_count": 43,
     "metadata": {},
     "output_type": "execute_result"
    }
   ],
   "source": [
    "param_c = {'C':[0.001, 0.01, 0.1, 1, 10]}\n",
    "lreg_gscv = GridSearchCV(logistic, param_c, return_train_score=True,cv=5, n_jobs=-1)\n",
    "lreg_gscv.fit(X_train, y_train)"
   ]
  },
  {
   "cell_type": "code",
   "execution_count": 44,
   "metadata": {},
   "outputs": [
    {
     "data": {
      "text/plain": [
       "0.8112"
      ]
     },
     "execution_count": 44,
     "metadata": {},
     "output_type": "execute_result"
    }
   ],
   "source": [
    "lreg_gscv.score(X_test, y_test)\n",
    "#Accuracy score"
   ]
  },
  {
   "cell_type": "code",
   "execution_count": 45,
   "metadata": {},
   "outputs": [
    {
     "name": "stdout",
     "output_type": "stream",
     "text": [
      "Best parameters: {'C': 1}\n",
      "Best cross-validation score: 0.807822\n"
     ]
    }
   ],
   "source": [
    "print(f'Best parameters: {lreg_gscv.best_params_}')\n",
    "print(f'Best cross-validation score: {lreg_gscv.best_score_:0.6f}')\n",
    "#Grid Search to find the best scaling parameter and mean testing score"
   ]
  },
  {
   "cell_type": "code",
   "execution_count": 79,
   "metadata": {
    "scrolled": true
   },
   "outputs": [
    {
     "name": "stdout",
     "output_type": "stream",
     "text": [
      "\n",
      "Logistic Regression: \n",
      "\n",
      "\t• Train accuracy score: 0.808578\n",
      "\t• Test accuracy score: 0.811200\n",
      "\n",
      "The Classification Report is plotted below: \n",
      "\n",
      "               precision    recall  f1-score   support\n",
      "\n",
      "           0       0.83      0.97      0.89      5927\n",
      "           1       0.64      0.23      0.34      1573\n",
      "\n",
      "    accuracy                           0.81      7500\n",
      "   macro avg       0.73      0.60      0.61      7500\n",
      "weighted avg       0.79      0.81      0.77      7500\n",
      "\n",
      "\n",
      "The Confusion Matrix is plotted below:\n"
     ]
    },
    {
     "data": {
      "image/png": "[encoded data removed]",
      "text/plain": [
       "<Figure size 432x288 with 2 Axes>"
      ]
     },
     "metadata": {
      "needs_background": "light"
     },
     "output_type": "display_data"
    }
   ],
   "source": [
    "y_pred = lreg_gscv.predict(X_test)\n",
    "print(\"\\nLogistic Regression: \\n\\n\\t• Train accuracy score: {:.6f}\".format(lreg_gscv.score(X_train, y_train)))\n",
    "print(\"\\t• Test accuracy score: {:.6f}\".format(lreg_gscv.score(X_test, y_test)))\n",
    "print('\\nThe Classification Report is plotted below: \\n\\n',classification_report(y_test, y_pred))\n",
    "print('\\nThe Confusion Matrix is plotted below:')\n",
    "cm3 = confusion_matrix(y_test, y_pred)\n",
    "sns.heatmap(cm3,annot=True, cmap=\"Blues\", fmt=\"d\", \n",
    "            xticklabels = ['Non-default', 'Default'], \n",
    "            yticklabels = ['Non-default', 'Default'])\n",
    "plt.ylabel('True label')\n",
    "plt.xlabel('Predicted label');\n",
    "plt.title(\"Confusion Matrix - Logistic Regression Apply(PCA)\");\n"
   ]
  },
  {
   "cell_type": "markdown",
   "metadata": {},
   "source": [
    "<div class=\"alert alert-block alert-info\">\n",
    "<b><font size=\"4\"> Linear Support Vector Machine Apply(PCA)</font></b>"
   ]
  },
  {
   "cell_type": "code",
   "execution_count": 47,
   "metadata": {},
   "outputs": [
    {
     "data": {
      "text/plain": [
       "GridSearchCV(cv=5, error_score=nan,\n",
       "             estimator=LinearSVC(C=1.0, class_weight=None, dual=True,\n",
       "                                 fit_intercept=True, intercept_scaling=1,\n",
       "                                 loss='squared_hinge', max_iter=1000,\n",
       "                                 multi_class='ovr', penalty='l2',\n",
       "                                 random_state=0, tol=0.0001, verbose=0),\n",
       "             iid='deprecated', n_jobs=-1,\n",
       "             param_grid={'C': [0.001, 0.01, 0.1, 1, 10],\n",
       "                         'loss': ['hinge', 'squared_hinge']},\n",
       "             pre_dispatch='2*n_jobs', refit=True, return_train_score=True,\n",
       "             scoring=None, verbose=0)"
      ]
     },
     "execution_count": 47,
     "metadata": {},
     "output_type": "execute_result"
    }
   ],
   "source": [
    "param_grid = {'C': [0.001, 0.01, 0.1, 1, 10],\n",
    "              'loss': ['hinge','squared_hinge']}\n",
    "lsvc_gscv = GridSearchCV(LinearSVC(random_state=0), param_grid, return_train_score=True,cv=5, n_jobs=-1)\n",
    "lsvc_gscv.fit(X_train, y_train)"
   ]
  },
  {
   "cell_type": "code",
   "execution_count": 48,
   "metadata": {},
   "outputs": [
    {
     "data": {
      "text/plain": [
       "0.8105333333333333"
      ]
     },
     "execution_count": 48,
     "metadata": {},
     "output_type": "execute_result"
    }
   ],
   "source": [
    "lsvc_gscv.score(X_test, y_test)\n",
    "#Accuracy score"
   ]
  },
  {
   "cell_type": "code",
   "execution_count": 49,
   "metadata": {},
   "outputs": [
    {
     "name": "stdout",
     "output_type": "stream",
     "text": [
      "Best parameters: {'C': 1, 'loss': 'squared_hinge'}\n",
      "Best cross-validation score: 0.808178\n"
     ]
    }
   ],
   "source": [
    "print(f'Best parameters: {lsvc_gscv.best_params_}')\n",
    "print(f'Best cross-validation score: {lsvc_gscv.best_score_:0.6f}')\n",
    "#Grid Search to find the best scaling parameter and mean testing score"
   ]
  },
  {
   "cell_type": "code",
   "execution_count": 80,
   "metadata": {},
   "outputs": [
    {
     "name": "stdout",
     "output_type": "stream",
     "text": [
      "\n",
      "Linear Support Vector Machine: \n",
      "\n",
      "\t• Train accuracy score: 0.808178\n",
      "\t• Test accuracy score: 0.810533\n",
      "\n",
      "The Classification Report is plotted below: \n",
      "\n",
      "               precision    recall  f1-score   support\n",
      "\n",
      "           0       0.82      0.97      0.89      5927\n",
      "           1       0.64      0.22      0.33      1573\n",
      "\n",
      "    accuracy                           0.81      7500\n",
      "   macro avg       0.73      0.60      0.61      7500\n",
      "weighted avg       0.79      0.81      0.77      7500\n",
      "\n",
      "\n",
      "The Confusion Matrix is plotted below:\n"
     ]
    },
    {
     "data": {
      "image/png": "[encoded data removed]",
      "text/plain": [
       "<Figure size 432x288 with 2 Axes>"
      ]
     },
     "metadata": {
      "needs_background": "light"
     },
     "output_type": "display_data"
    }
   ],
   "source": [
    "y_pred = lsvc_gscv.predict(X_test)\n",
    "print(\"\\nLinear Support Vector Machine: \\n\\n\\t• Train accuracy score: {:.6f}\".format(lsvc_gscv.score(X_train, y_train)))\n",
    "print(\"\\t• Test accuracy score: {:.6f}\".format(lsvc_gscv.score(X_test, y_test)))\n",
    "print('\\nThe Classification Report is plotted below: \\n\\n',classification_report(y_test, y_pred))\n",
    "print('\\nThe Confusion Matrix is plotted below:')\n",
    "cm4 = confusion_matrix(y_test, y_pred)\n",
    "sns.heatmap(cm4,annot=True, cmap=\"Blues\", fmt=\"d\", \n",
    "            xticklabels = ['Non-default', 'Default'], \n",
    "            yticklabels = ['Non-default', 'Default'])\n",
    "plt.ylabel('True label')\n",
    "plt.xlabel('Predicted label');\n",
    "plt.title(\"Confusion Matrix - Linear Support Vector Machine Apply(PCA)\");"
   ]
  },
  {
   "cell_type": "markdown",
   "metadata": {},
   "source": [
    "<div class=\"alert alert-block alert-info\">\n",
    "<b><font size=\"4\"> Kerenilzed Support Vector Machine (rbf)   Apply(PCA)</font></b>"
   ]
  },
  {
   "cell_type": "code",
   "execution_count": 51,
   "metadata": {},
   "outputs": [],
   "source": [
    "from sklearn.svm import SVC"
   ]
  },
  {
   "cell_type": "code",
   "execution_count": 52,
   "metadata": {},
   "outputs": [
    {
     "data": {
      "text/plain": [
       "GridSearchCV(cv=5, error_score=nan,\n",
       "             estimator=SVC(C=1.0, break_ties=False, cache_size=200,\n",
       "                           class_weight=None, coef0=0.0,\n",
       "                           decision_function_shape='ovr', degree=3,\n",
       "                           gamma='scale', kernel='rbf', max_iter=-1,\n",
       "                           probability=False, random_state=None, shrinking=True,\n",
       "                           tol=0.001, verbose=False),\n",
       "             iid='deprecated', n_jobs=-1,\n",
       "             param_grid={'C': [0.001, 0.01, 0.1, 1, 10],\n",
       "                         'gamma': [0.01, 0.1, 1, 10]},\n",
       "             pre_dispatch='2*n_jobs', refit=True, return_train_score=True,\n",
       "             scoring=None, verbose=0)"
      ]
     },
     "execution_count": 52,
     "metadata": {},
     "output_type": "execute_result"
    }
   ],
   "source": [
    "param_grid = {'C': [0.001, 0.01, 0.1, 1, 10],\n",
    "              'gamma': [0.01, 0.1, 1, 10]}\n",
    "rbf_gsvc = GridSearchCV(SVC(kernel='rbf'), param_grid,return_train_score=True, cv=5, n_jobs=-1)\n",
    "rbf_gsvc.fit(X_train, y_train)"
   ]
  },
  {
   "cell_type": "code",
   "execution_count": 53,
   "metadata": {},
   "outputs": [
    {
     "data": {
      "text/plain": [
       "0.81"
      ]
     },
     "execution_count": 53,
     "metadata": {},
     "output_type": "execute_result"
    }
   ],
   "source": [
    "rbf_gsvc.score(X_test, y_test)\n",
    "#Accuracy score"
   ]
  },
  {
   "cell_type": "code",
   "execution_count": 54,
   "metadata": {},
   "outputs": [
    {
     "name": "stdout",
     "output_type": "stream",
     "text": [
      "Best parameters: {'C': 1, 'gamma': 1}\n",
      "Best cross-validation score: 0.806711\n"
     ]
    }
   ],
   "source": [
    "print(f'Best parameters: {rbf_gsvc.best_params_}')\n",
    "print(f'Best cross-validation score: {rbf_gsvc.best_score_:0.6f}')\n",
    "#Grid Search to find the best scaling parameter and mean testing score"
   ]
  },
  {
   "cell_type": "code",
   "execution_count": 81,
   "metadata": {},
   "outputs": [
    {
     "name": "stdout",
     "output_type": "stream",
     "text": [
      "\n",
      "Kerenilzed Support Vector Machine(rbf): \n",
      "\n",
      "\t• Train accuracy score: 0.807511\n",
      "\t• Test accuracy score: 0.810000\n",
      "\n",
      "The Classification Report is plotted below: \n",
      "\n",
      "               precision    recall  f1-score   support\n",
      "\n",
      "           0       0.82      0.97      0.89      5927\n",
      "           1       0.65      0.20      0.31      1573\n",
      "\n",
      "    accuracy                           0.81      7500\n",
      "   macro avg       0.74      0.59      0.60      7500\n",
      "weighted avg       0.79      0.81      0.77      7500\n",
      "\n",
      "\n",
      "The Confusion Matrix is plotted below:\n"
     ]
    },
    {
     "data": {
      "image/png": "[encoded data removed]",
      "text/plain": [
       "<Figure size 432x288 with 2 Axes>"
      ]
     },
     "metadata": {
      "needs_background": "light"
     },
     "output_type": "display_data"
    }
   ],
   "source": [
    "y_pred = rbf_gsvc.predict(X_test)\n",
    "print(\"\\nKerenilzed Support Vector Machine(rbf): \\n\\n\\t• Train accuracy score: {:.6f}\".format(rbf_gsvc.score(X_train, y_train)))\n",
    "print(\"\\t• Test accuracy score: {:.6f}\".format(rbf_gsvc.score(X_test, y_test)))\n",
    "print('\\nThe Classification Report is plotted below: \\n\\n',classification_report(y_test, y_pred))\n",
    "print('\\nThe Confusion Matrix is plotted below:')\n",
    "cm5 = confusion_matrix(y_test, y_pred)\n",
    "sns.heatmap(cm5,annot=True, cmap=\"Blues\", fmt=\"d\", \n",
    "            xticklabels = ['Non-default', 'Default'], \n",
    "            yticklabels = ['Non-default', 'Default'])\n",
    "plt.ylabel('True label')\n",
    "plt.xlabel('Predicted label');\n",
    "plt.title(\"Confusion Matrix - Kerenilzed Support Vector Machine(rbf) Apply(PCA)\");"
   ]
  },
  {
   "cell_type": "markdown",
   "metadata": {},
   "source": [
    "<div class=\"alert alert-block alert-info\">\n",
    "<b><font size=\"4\"> Kerenilzed Support Vector Machine (poly) Allpy(PCA)</font></b>"
   ]
  },
  {
   "cell_type": "code",
   "execution_count": 56,
   "metadata": {},
   "outputs": [
    {
     "data": {
      "text/plain": [
       "GridSearchCV(cv=5, error_score=nan,\n",
       "             estimator=SVC(C=1.0, break_ties=False, cache_size=200,\n",
       "                           class_weight=None, coef0=0.0,\n",
       "                           decision_function_shape='ovr', degree=3,\n",
       "                           gamma='scale', kernel='poly', max_iter=-1,\n",
       "                           probability=False, random_state=None, shrinking=True,\n",
       "                           tol=0.001, verbose=False),\n",
       "             iid='deprecated', n_jobs=None,\n",
       "             param_grid={'C': [1, 10], 'gamma': [0.1, 1]},\n",
       "             pre_dispatch='2*n_jobs', refit=True, return_train_score=False,\n",
       "             scoring=None, verbose=0)"
      ]
     },
     "execution_count": 56,
     "metadata": {},
     "output_type": "execute_result"
    }
   ],
   "source": [
    "param_grid = {'C': [1,10],\n",
    "              'gamma': [0.1,1]}\n",
    "poly_gsvc = GridSearchCV(SVC(kernel='poly'), param_grid ,cv=5)\n",
    "poly_gsvc.fit(X_train, y_train)"
   ]
  },
  {
   "cell_type": "code",
   "execution_count": 57,
   "metadata": {},
   "outputs": [
    {
     "data": {
      "text/plain": [
       "0.8046666666666666"
      ]
     },
     "execution_count": 57,
     "metadata": {},
     "output_type": "execute_result"
    }
   ],
   "source": [
    "poly_gsvc.score(X_test, y_test)\n",
    "#Accuracy score"
   ]
  },
  {
   "cell_type": "code",
   "execution_count": 58,
   "metadata": {},
   "outputs": [
    {
     "name": "stdout",
     "output_type": "stream",
     "text": [
      "Best parameters: {'C': 10, 'gamma': 1}\n",
      "Best cross-validation score: 0.804800\n"
     ]
    }
   ],
   "source": [
    "print(f'Best parameters: {poly_gsvc.best_params_}')\n",
    "print(f'Best cross-validation score: {poly_gsvc.best_score_:0.6f}')\n",
    "#Grid Search to find the best scaling parameter and mean testing score"
   ]
  },
  {
   "cell_type": "code",
   "execution_count": 82,
   "metadata": {},
   "outputs": [
    {
     "name": "stdout",
     "output_type": "stream",
     "text": [
      "\n",
      "Kerenilzed Support Vector Machine(poly): \n",
      "\n",
      "\t• Train accuracy score: 0.806444\n",
      "\t• Test accuracy score: 0.804667\n",
      "\n",
      "The Classification Report is plotted below: \n",
      "\n",
      "               precision    recall  f1-score   support\n",
      "\n",
      "           0       0.81      0.98      0.89      5927\n",
      "           1       0.65      0.15      0.25      1573\n",
      "\n",
      "    accuracy                           0.80      7500\n",
      "   macro avg       0.73      0.57      0.57      7500\n",
      "weighted avg       0.78      0.80      0.75      7500\n",
      "\n",
      "\n",
      "The Confusion Matrix is plotted below:\n"
     ]
    },
    {
     "data": {
      "image/png": "[encoded data removed]",
      "text/plain": [
       "<Figure size 432x288 with 2 Axes>"
      ]
     },
     "metadata": {
      "needs_background": "light"
     },
     "output_type": "display_data"
    }
   ],
   "source": [
    "y_pred = poly_gsvc.predict(X_test)\n",
    "print(\"\\nKerenilzed Support Vector Machine(poly): \\n\\n\\t• Train accuracy score: {:.6f}\".format(poly_gsvc.score(X_train, y_train)))\n",
    "print(\"\\t• Test accuracy score: {:.6f}\".format(poly_gsvc.score(X_test, y_test)))\n",
    "print('\\nThe Classification Report is plotted below: \\n\\n',classification_report(y_test, y_pred))\n",
    "print('\\nThe Confusion Matrix is plotted below:')\n",
    "cm6 = confusion_matrix(y_test, y_pred)\n",
    "sns.heatmap(cm6,annot=True, cmap=\"Blues\", fmt=\"d\", \n",
    "            xticklabels = ['Non-default', 'Default'], \n",
    "            yticklabels = ['Non-default', 'Default'])\n",
    "plt.ylabel('True label')\n",
    "plt.xlabel('Predicted label');\n",
    "plt.title(\"Confusion Matrix - Kerenilzed Support Vector Machine(poly)Apply(PCA)\");"
   ]
  },
  {
   "cell_type": "markdown",
   "metadata": {},
   "source": [
    "<div class=\"alert alert-block alert-info\">\n",
    "<b><font size=\"4\"> Kerenilzed Support Vector Machine (linear) Apply(PCA)</font></b>"
   ]
  },
  {
   "cell_type": "code",
   "execution_count": 60,
   "metadata": {},
   "outputs": [
    {
     "data": {
      "text/plain": [
       "GridSearchCV(cv=5, error_score=nan,\n",
       "             estimator=SVC(C=1.0, break_ties=False, cache_size=200,\n",
       "                           class_weight=None, coef0=0.0,\n",
       "                           decision_function_shape='ovr', degree=3,\n",
       "                           gamma='scale', kernel='linear', max_iter=-1,\n",
       "                           probability=False, random_state=None, shrinking=True,\n",
       "                           tol=0.001, verbose=False),\n",
       "             iid='deprecated', n_jobs=None,\n",
       "             param_grid={'C': [1, 10], 'gamma': [0.001, 0.01]},\n",
       "             pre_dispatch='2*n_jobs', refit=True, return_train_score=False,\n",
       "             scoring=None, verbose=0)"
      ]
     },
     "execution_count": 60,
     "metadata": {},
     "output_type": "execute_result"
    }
   ],
   "source": [
    "param_grid = {'C': [1, 10],\n",
    "              'gamma': [0.001,0.01]}\n",
    "linear_gsvc = GridSearchCV(SVC(kernel='linear'), param_grid,cv=5)\n",
    "linear_gsvc.fit(X_train, y_train)"
   ]
  },
  {
   "cell_type": "code",
   "execution_count": 61,
   "metadata": {},
   "outputs": [
    {
     "data": {
      "text/plain": [
       "0.81"
      ]
     },
     "execution_count": 61,
     "metadata": {},
     "output_type": "execute_result"
    }
   ],
   "source": [
    "linear_gsvc.score(X_test, y_test)\n",
    "#Accuracy score"
   ]
  },
  {
   "cell_type": "code",
   "execution_count": 62,
   "metadata": {},
   "outputs": [
    {
     "name": "stdout",
     "output_type": "stream",
     "text": [
      "Best parameters: {'C': 10, 'gamma': 0.001}\n",
      "Best cross-validation score: 0.805911\n"
     ]
    }
   ],
   "source": [
    "print(f'Best parameters: {linear_gsvc.best_params_}')\n",
    "print(f'Best cross-validation score: {linear_gsvc.best_score_:0.6f}')\n",
    "#Grid Search to find the best scaling parameter and mean testing score"
   ]
  },
  {
   "cell_type": "code",
   "execution_count": 83,
   "metadata": {},
   "outputs": [
    {
     "name": "stdout",
     "output_type": "stream",
     "text": [
      "\n",
      "Kerenilzed Support Vector Machine(linear): \n",
      "\n",
      "\t• Train accuracy score: 0.805689\n",
      "\t• Test accuracy score: 0.810000\n",
      "\n",
      "The Classification Report is plotted below: \n",
      "\n",
      "               precision    recall  f1-score   support\n",
      "\n",
      "           0       0.82      0.97      0.89      5927\n",
      "           1       0.66      0.19      0.30      1573\n",
      "\n",
      "    accuracy                           0.81      7500\n",
      "   macro avg       0.74      0.58      0.59      7500\n",
      "weighted avg       0.79      0.81      0.77      7500\n",
      "\n",
      "\n",
      "The Confusion Matrix is plotted below:\n"
     ]
    },
    {
     "data": {
      "image/png": "[encoded data removed]",
      "text/plain": [
       "<Figure size 432x288 with 2 Axes>"
      ]
     },
     "metadata": {
      "needs_background": "light"
     },
     "output_type": "display_data"
    }
   ],
   "source": [
    "y_pred = linear_gsvc.fit(X_train, y_train).predict(X_test)\n",
    "print(\"\\nKerenilzed Support Vector Machine(linear): \\n\\n\\t• Train accuracy score: {:.6f}\".format(linear_gsvc.score(X_train, y_train)))\n",
    "print(\"\\t• Test accuracy score: {:.6f}\".format(linear_gsvc.score(X_test, y_test)))\n",
    "print('\\nThe Classification Report is plotted below: \\n\\n',classification_report(y_test, y_pred))\n",
    "print('\\nThe Confusion Matrix is plotted below:')\n",
    "cm7 = confusion_matrix(y_test, y_pred)\n",
    "sns.heatmap(cm7,annot=True, cmap=\"Blues\", fmt=\"d\", \n",
    "            xticklabels = ['Non-default', 'Default'], \n",
    "            yticklabels = ['Non-default', 'Default'])\n",
    "plt.ylabel('True label')\n",
    "plt.xlabel('Predicted label');\n",
    "plt.title(\"Confusion Matrix - Kerenilzed Support Vector Machine(linear) Apply(PCA)\");"
   ]
  },
  {
   "cell_type": "markdown",
   "metadata": {},
   "source": [
    "<div class=\"alert alert-block alert-danger\">\n",
    "An accuracy score is a good metric to report. It can be tempting to base the classification models' performance on accuracy if all classes are balanced. In our dataset, we have very imbalanced classes. There are 1561 labeled with 1 and 5939 labeled with 0.   \n",
    "<br>\n",
    "    \n",
    "    \n",
    "About 20% of clients default, therefore if we make a model that assigns 0 to def_pay, we get approximately 80% accuracy. It can be a misleading metric of the quality of our model.\n",
    "<br>\n",
    "    \n",
    "In this case, we look into metrics including precision, recall and F1 score. A better metric for our dataset is the f1-score. It takes into account both false positives and false negatives. Since our class is so imbalances, we should pay more attention to macro avg. \n",
    "<br>\n",
    "    \n",
    "    \n",
    "Also, from our confusion matrix, we noticed that false-negative predictions are worse than false positives, and therefore we should also aim for higher recall.\n",
    "<div>"
   ]
  },
  {
   "cell_type": "markdown",
   "metadata": {},
   "source": [
    "<div class=\"alert alert-block alert-info\">\n",
    "<b><font size=\"4\"> ROC Area Under Curve (AUC) plots for all model(Apply PCA) </font></b>"
   ]
  },
  {
   "cell_type": "code",
   "execution_count": 110,
   "metadata": {},
   "outputs": [
    {
     "data": {
      "text/plain": [
       "<Figure size 1080x720 with 0 Axes>"
      ]
     },
     "execution_count": 110,
     "metadata": {},
     "output_type": "execute_result"
    },
    {
     "data": {
      "text/plain": [
       "[<matplotlib.lines.Line2D at 0x1ea254c79e8>]"
      ]
     },
     "execution_count": 110,
     "metadata": {},
     "output_type": "execute_result"
    },
    {
     "data": {
      "text/plain": [
       "[<matplotlib.lines.Line2D at 0x1ea2547c208>]"
      ]
     },
     "execution_count": 110,
     "metadata": {},
     "output_type": "execute_result"
    },
    {
     "data": {
      "text/plain": [
       "[<matplotlib.lines.Line2D at 0x1ea2547c240>]"
      ]
     },
     "execution_count": 110,
     "metadata": {},
     "output_type": "execute_result"
    },
    {
     "data": {
      "text/plain": [
       "[<matplotlib.lines.Line2D at 0x1ea255c4c88>]"
      ]
     },
     "execution_count": 110,
     "metadata": {},
     "output_type": "execute_result"
    },
    {
     "data": {
      "text/plain": [
       "[<matplotlib.lines.Line2D at 0x1ea254c7f28>]"
      ]
     },
     "execution_count": 110,
     "metadata": {},
     "output_type": "execute_result"
    },
    {
     "data": {
      "text/plain": [
       "[<matplotlib.lines.Line2D at 0x1ea254d4550>]"
      ]
     },
     "execution_count": 110,
     "metadata": {},
     "output_type": "execute_result"
    },
    {
     "data": {
      "text/plain": [
       "[<matplotlib.lines.Line2D at 0x1ea254d4748>]"
      ]
     },
     "execution_count": 110,
     "metadata": {},
     "output_type": "execute_result"
    },
    {
     "data": {
      "text/plain": [
       "[<matplotlib.lines.Line2D at 0x1ea254d4ba8>]"
      ]
     },
     "execution_count": 110,
     "metadata": {},
     "output_type": "execute_result"
    },
    {
     "data": {
      "text/plain": [
       "(0.0, 1.0)"
      ]
     },
     "execution_count": 110,
     "metadata": {},
     "output_type": "execute_result"
    },
    {
     "data": {
      "text/plain": [
       "(0.0, 1.05)"
      ]
     },
     "execution_count": 110,
     "metadata": {},
     "output_type": "execute_result"
    },
    {
     "data": {
      "text/plain": [
       "Text(0.5, 0, 'False Positive Rate')"
      ]
     },
     "execution_count": 110,
     "metadata": {},
     "output_type": "execute_result"
    },
    {
     "data": {
      "text/plain": [
       "Text(0, 0.5, 'True Positive Rate')"
      ]
     },
     "execution_count": 110,
     "metadata": {},
     "output_type": "execute_result"
    },
    {
     "data": {
      "text/plain": [
       "Text(0.5, 1.0, 'Receiver operating characteristic')"
      ]
     },
     "execution_count": 110,
     "metadata": {},
     "output_type": "execute_result"
    },
    {
     "data": {
      "text/plain": [
       "<matplotlib.legend.Legend at 0x1ea254f9400>"
      ]
     },
     "execution_count": 110,
     "metadata": {},
     "output_type": "execute_result"
    },
    {
     "data": {
      "image/png": "[encoded data removed]",
      "text/plain": [
       "<Figure size 1080x720 with 1 Axes>"
      ]
     },
     "metadata": {
      "needs_background": "light"
     },
     "output_type": "display_data"
    }
   ],
   "source": [
    "from sklearn.metrics import roc_curve\n",
    "y_pred_proba_knn = knn_gv.predict_proba(X_test)[::,1]\n",
    "fpr1, tpr1, _ = roc_curve(y_test,  y_pred_proba_knn)\n",
    "roc_auc1 = roc_auc_score(y_test, y_pred_proba_knn)\n",
    "\n",
    "y_pred_proba_dt = tree_gscv.predict_proba(X_test)[::,1]\n",
    "fpr2, tpr2, _ = roc_curve(y_test,  y_pred_proba_dt)\n",
    "roc_auc2 = roc_auc_score(y_test, y_pred_proba_dt)\n",
    "\n",
    "y_pred_proba_lr = lreg_gscv.predict_proba(X_test)[::,1]\n",
    "fpr3, tpr3, _ = roc_curve(y_test,  y_pred_proba_lr)\n",
    "roc_auc3 = roc_auc_score(y_test, y_pred_proba_lr)\n",
    "\n",
    "y_pred_proba_lscv = lsvc_gscv.decision_function(X_test)\n",
    "fpr4, tpr4, _ = roc_curve(y_test,  y_pred_proba_lscv)\n",
    "roc_auc4 = roc_auc_score(y_test, y_pred_proba_lscv)\n",
    "\n",
    "y_pred_proba_rbf = rbf_gsvc.decision_function(X_test)\n",
    "fpr5, tpr5, _ = roc_curve(y_test,  y_pred_proba_rbf)\n",
    "roc_auc5 = roc_auc_score(y_test, y_pred_proba_rbf)\n",
    "\n",
    "y_pred_proba_poly = poly_gsvc.decision_function(X_test)\n",
    "fpr6, tpr6, _ = roc_curve(y_test,  y_pred_proba_poly)\n",
    "roc_auc6 = roc_auc_score(y_test, y_pred_proba_poly)\n",
    "\n",
    "y_pred_proba_linear = linear_gsvc.decision_function(X_test)\n",
    "fpr7, tpr7, _ = roc_curve(y_test,  y_pred_proba_linear)\n",
    "roc_auc7 = roc_auc_score(y_test, y_pred_proba_linear)\n",
    "\n",
    "plt.figure(figsize=(15,10))\n",
    "plt.plot(fpr1, tpr1, label=\"KNN, auc=\"+str(round(roc_auc1,2)),color='green')\n",
    "plt.plot(fpr2,tpr2,label=\"Decision Tree, auc=\"+str(round(roc_auc2,2)),color='blue')\n",
    "plt.plot(fpr3,tpr3,label=\"Logistic, auc=\"+str(round(roc_auc3,2)),color='yellow')\n",
    "plt.plot(fpr4,tpr4,label=\"Linear SVM, auc=\"+str(round(roc_auc4,2)),color='red')\n",
    "plt.plot(fpr5,tpr5,label=\"SVM(rbf), auc=\"+str(round(roc_auc5,2)),color='Orange')\n",
    "plt.plot(fpr6,tpr6,label=\"SVM(poly), auc=\"+str(round(roc_auc6,2)),color='grey')\n",
    "plt.plot(fpr7,tpr7,label=\"SVM(linear), auc=\"+str(round(roc_auc7,2)),color='Black')    \n",
    "                            \n",
    "plt.plot([0, 1], [0, 1],'r--')\n",
    "plt.xlim([0.0, 1.0])\n",
    "plt.ylim([0.0, 1.05])\n",
    "plt.xlabel('False Positive Rate', fontsize=20)\n",
    "plt.ylabel('True Positive Rate', fontsize=20)\n",
    "plt.title('Receiver operating characteristic', fontsize=25)\n",
    "plt.legend(loc=\"lower right\",prop= {'size':19})\n",
    "plt.savefig('ROC.png')\n",
    "plt.show()"
   ]
  },
  {
   "cell_type": "markdown",
   "metadata": {},
   "source": [
    "<div class=\"alert alert-block alert-info\">\n",
    "<b><font size=\"4\"> Precision-Recall Area Under Curve (AUC) plots for all model </font></b>"
   ]
  },
  {
   "cell_type": "code",
   "execution_count": 109,
   "metadata": {},
   "outputs": [
    {
     "data": {
      "text/plain": [
       "<Figure size 1080x720 with 0 Axes>"
      ]
     },
     "execution_count": 109,
     "metadata": {},
     "output_type": "execute_result"
    },
    {
     "data": {
      "text/plain": [
       "[<matplotlib.lines.Line2D at 0x1ea254338d0>]"
      ]
     },
     "execution_count": 109,
     "metadata": {},
     "output_type": "execute_result"
    },
    {
     "data": {
      "text/plain": [
       "[<matplotlib.lines.Line2D at 0x1ea25433c18>]"
      ]
     },
     "execution_count": 109,
     "metadata": {},
     "output_type": "execute_result"
    },
    {
     "data": {
      "text/plain": [
       "[<matplotlib.lines.Line2D at 0x1ea255f0550>]"
      ]
     },
     "execution_count": 109,
     "metadata": {},
     "output_type": "execute_result"
    },
    {
     "data": {
      "text/plain": [
       "[<matplotlib.lines.Line2D at 0x1ea255f0080>]"
      ]
     },
     "execution_count": 109,
     "metadata": {},
     "output_type": "execute_result"
    },
    {
     "data": {
      "text/plain": [
       "[<matplotlib.lines.Line2D at 0x1ea25433cc0>]"
      ]
     },
     "execution_count": 109,
     "metadata": {},
     "output_type": "execute_result"
    },
    {
     "data": {
      "text/plain": [
       "[<matplotlib.lines.Line2D at 0x1ea2543e400>]"
      ]
     },
     "execution_count": 109,
     "metadata": {},
     "output_type": "execute_result"
    },
    {
     "data": {
      "text/plain": [
       "[<matplotlib.lines.Line2D at 0x1ea2543e780>]"
      ]
     },
     "execution_count": 109,
     "metadata": {},
     "output_type": "execute_result"
    },
    {
     "data": {
      "text/plain": [
       "[<matplotlib.lines.Line2D at 0x1ea2543ea90>]"
      ]
     },
     "execution_count": 109,
     "metadata": {},
     "output_type": "execute_result"
    },
    {
     "data": {
      "text/plain": [
       "(0.0, 1.0)"
      ]
     },
     "execution_count": 109,
     "metadata": {},
     "output_type": "execute_result"
    },
    {
     "data": {
      "text/plain": [
       "(0.0, 1.05)"
      ]
     },
     "execution_count": 109,
     "metadata": {},
     "output_type": "execute_result"
    },
    {
     "data": {
      "text/plain": [
       "Text(0.5, 0, 'Recall')"
      ]
     },
     "execution_count": 109,
     "metadata": {},
     "output_type": "execute_result"
    },
    {
     "data": {
      "text/plain": [
       "Text(0, 0.5, 'Precision')"
      ]
     },
     "execution_count": 109,
     "metadata": {},
     "output_type": "execute_result"
    },
    {
     "data": {
      "text/plain": [
       "Text(0.5, 1.0, 'Precision-Recall Area Under Curve (AUC) plots')"
      ]
     },
     "execution_count": 109,
     "metadata": {},
     "output_type": "execute_result"
    },
    {
     "data": {
      "text/plain": [
       "<matplotlib.legend.Legend at 0x1ea25443240>"
      ]
     },
     "execution_count": 109,
     "metadata": {},
     "output_type": "execute_result"
    },
    {
     "data": {
      "image/png": "[encoded data removed]",
      "text/plain": [
       "<Figure size 1080x720 with 1 Axes>"
      ]
     },
     "metadata": {
      "needs_background": "light"
     },
     "output_type": "display_data"
    }
   ],
   "source": [
    "from sklearn.metrics import precision_recall_curve\n",
    "y_pred_proba_knn = knn_gv.predict_proba(X_test)[::,1]\n",
    "precision1, recall1, _ = precision_recall_curve(y_test,  y_pred_proba_knn)\n",
    "auc1 = auc(recall1, precision1)\n",
    "\n",
    "y_pred_proba_dt = tree_gscv.predict_proba(X_test)[::,1]\n",
    "precision2, recall2, _ = precision_recall_curve(y_test,  y_pred_proba_dt)\n",
    "auc2 = auc(recall2, precision2)\n",
    "\n",
    "y_pred_proba_lr = lreg_gscv.predict_proba(X_test)[::,1]\n",
    "precision3, recall3, _ = precision_recall_curve(y_test,  y_pred_proba_lr)\n",
    "auc3 = auc(recall3, precision3)\n",
    "\n",
    "y_pred_proba_lscv = lsvc_gscv.decision_function(X_test)\n",
    "precision4, recall4, _ = precision_recall_curve(y_test,  y_pred_proba_lscv)\n",
    "auc4 = auc(recall4, precision4)\n",
    "\n",
    "y_pred_proba_rbf = rbf_gsvc.decision_function(X_test)\n",
    "precision5, recall5, _ = precision_recall_curve(y_test,  y_pred_proba_rbf)\n",
    "auc5 = auc(recall5, precision5)\n",
    "\n",
    "y_pred_proba_poly = poly_gsvc.decision_function(X_test)\n",
    "precision6, recall6, _ = precision_recall_curve(y_test,  y_pred_proba_poly)\n",
    "auc6 = auc(recall6, precision6)\n",
    "\n",
    "y_pred_proba_linear = linear_gsvc.decision_function(X_test)\n",
    "precision7, recall7, _ = precision_recall_curve(y_test,  y_pred_proba_linear)\n",
    "auc7 = auc(recall7, precision7)\n",
    "\n",
    "plt.figure(figsize=(15,10))  \n",
    "\n",
    "plt.plot(precision1, recall1, label=\"KNN, auc=\"+str(round(auc1,2)),color='green')\n",
    "plt.plot(precision2, recall2,label=\"Decision Tree, auc=\"+str(round(auc2,2)),color='blue')\n",
    "plt.plot(precision3, recall3,label=\"Logistic, auc=\"+str(round(auc3,2)),color='yellow')\n",
    "plt.plot(precision4, recall4,label=\"Linear SVM, auc=\"+str(round(auc4,2)),color='red')\n",
    "plt.plot(precision5, recall5,label=\"SVM(rbf), auc=\"+str(round(auc5,2)),color='Orange')\n",
    "plt.plot(precision6, recall6,label=\"SVM(poly), auc=\"+str(round(auc6,2)),color='grey')\n",
    "plt.plot(precision7, recall7,label=\"SVM(linear), auc=\"+str(round(auc7,2)),color='Black')\n",
    "                         \n",
    "plt.plot([0, 1], [1, 0],'r--')\n",
    "plt.xlim([0.0, 1.0])\n",
    "plt.ylim([0.0, 1.05])\n",
    "plt.xlabel('Recall', fontsize=20)\n",
    "plt.ylabel('Precision', fontsize=20)\n",
    "plt.title('Precision-Recall Area Under Curve (AUC) plots', fontsize=25)\n",
    "plt.legend(loc=\"upper right\",prop= {'size':19})\n",
    "plt.savefig('PR.png')\n",
    "plt.show()"
   ]
  },
  {
   "cell_type": "code",
   "execution_count": 66,
   "metadata": {},
   "outputs": [
    {
     "name": "stdout",
     "output_type": "stream",
     "text": [
      "\n",
      "KNN Classification: \n",
      "\t•ROC-AUC score:  0.7274893917530848\n",
      "\n",
      "Decision Tree Classification: \n",
      "\t•ROC-AUC score:  0.7299394701652473\n",
      "\n",
      "Logistic Regression: \n",
      "\t•ROC-AUC score:  0.7359051442904994\n",
      "\n",
      "Linear Support Vector Machine: \n",
      "\t•ROC-AUC score:  0.7415382062605094\n",
      "\n",
      "Kerenilzed Support Vector Machine(rbf): \n",
      "\t•ROC-AUC score:  0.6912427649348059\n",
      "\n",
      "Kerenilzed Support Vector Machine(poly): \n",
      "\t•ROC-AUC score:  0.7292476454631156\n",
      "\n",
      "Kerenilzed Support Vector Machine(linear): \n",
      "\t•ROC-AUC score:  0.739698596110701\n"
     ]
    }
   ],
   "source": [
    "print('\\nKNN Classification: ')\n",
    "print('\\t•ROC-AUC score: ',roc_auc1)\n",
    "\n",
    "print('\\nDecision Tree Classification: ')\n",
    "print('\\t•ROC-AUC score: ',roc_auc2)\n",
    "\n",
    "print('\\nLogistic Regression: ')\n",
    "print('\\t•ROC-AUC score: ',roc_auc3)\n",
    "\n",
    "print('\\nLinear Support Vector Machine: ')\n",
    "print('\\t•ROC-AUC score: ',roc_auc4)\n",
    "\n",
    "print('\\nKerenilzed Support Vector Machine(rbf): ')\n",
    "print('\\t•ROC-AUC score: ',roc_auc5)\n",
    "\n",
    "print('\\nKerenilzed Support Vector Machine(poly): ')\n",
    "print('\\t•ROC-AUC score: ',roc_auc6)\n",
    "\n",
    "print('\\nKerenilzed Support Vector Machine(linear): ')\n",
    "print('\\t•ROC-AUC score: ',roc_auc7)"
   ]
  },
  {
   "cell_type": "markdown",
   "metadata": {},
   "source": [
    "<div class=\"alert alert-block alert-warning\">\n",
    "    \n",
    "Precsion-recall curve focuses on the minority label while the ROC curve covers both. From the ROC curve, the `Linear Support Vector Machine(PCA)\t` model performs better than the rest of the model area under the curve. However, an algorithm that optimizes the area under the ROC curve is not guaranteed to optimize the area under the PR curve.\n",
    "<br>\n",
    "    \n",
    "We have a highly imbalanced classes with more negative than positive (non default clients than the default people), which indicates that it's more important to focus on the PR curve and maximizing the area under the curve even though it may seems awesome to have good ROC results. \n",
    "<div>"
   ]
  },
  {
   "cell_type": "markdown",
   "metadata": {},
   "source": [
    "<div class=\"alert alert-block alert-info\">\n",
    "<b><font size=\"4\"> Compare the models performance with Project 1(Without appling PCA) </font></b>"
   ]
  },
  {
   "cell_type": "code",
   "execution_count": 112,
   "metadata": {},
   "outputs": [
    {
     "name": "stdout",
     "output_type": "stream",
     "text": [
      "\n",
      "\n",
      " Metrics Summary of all Models From Project One(sorted based on ROC-AUC) :\n"
     ]
    },
    {
     "data": {
      "text/html": [
       "<div>\n",
       "<style scoped>\n",
       "    .dataframe tbody tr th:only-of-type {\n",
       "        vertical-align: middle;\n",
       "    }\n",
       "\n",
       "    .dataframe tbody tr th {\n",
       "        vertical-align: top;\n",
       "    }\n",
       "\n",
       "    .dataframe thead th {\n",
       "        text-align: right;\n",
       "    }\n",
       "</style>\n",
       "<table border=\"1\" class=\"dataframe\">\n",
       "  <thead>\n",
       "    <tr style=\"text-align: right;\">\n",
       "      <th></th>\n",
       "      <th>Accuracy score</th>\n",
       "      <th>ROC - AUC</th>\n",
       "      <th>Optimal Parameter</th>\n",
       "    </tr>\n",
       "  </thead>\n",
       "  <tbody>\n",
       "    <tr>\n",
       "      <th>Linear Support Vector Machine(PCA)</th>\n",
       "      <td>0.8105</td>\n",
       "      <td>0.7415</td>\n",
       "      <td>C: 1, loss: \"squared_hinge\"</td>\n",
       "    </tr>\n",
       "    <tr>\n",
       "      <th>Kerenilzed Support Vector Machine(linear - PCA)</th>\n",
       "      <td>0.8100</td>\n",
       "      <td>0.7397</td>\n",
       "      <td>C: 10, gamma: 0.001</td>\n",
       "    </tr>\n",
       "    <tr>\n",
       "      <th>Logistic Regression(PCA)</th>\n",
       "      <td>0.8112</td>\n",
       "      <td>0.7359</td>\n",
       "      <td>C: 1</td>\n",
       "    </tr>\n",
       "    <tr>\n",
       "      <th>Decision Tree Classification(PCA)</th>\n",
       "      <td>0.8149</td>\n",
       "      <td>0.7299</td>\n",
       "      <td>criterion: \"gini\", max_depth: 4</td>\n",
       "    </tr>\n",
       "    <tr>\n",
       "      <th>Kerenilzed Support Vector Machine(poly - PCA)</th>\n",
       "      <td>0.8047</td>\n",
       "      <td>0.7292</td>\n",
       "      <td>C: 10, gamma: 1</td>\n",
       "    </tr>\n",
       "    <tr>\n",
       "      <th>KNN Classification(PCA)</th>\n",
       "      <td>0.8083</td>\n",
       "      <td>0.7275</td>\n",
       "      <td>n_neighbors: 23</td>\n",
       "    </tr>\n",
       "    <tr>\n",
       "      <th>Kerenilzed Support Vector Machine(rbf - PCA)</th>\n",
       "      <td>0.8100</td>\n",
       "      <td>0.6912</td>\n",
       "      <td>C: 1, gamma: 1</td>\n",
       "    </tr>\n",
       "  </tbody>\n",
       "</table>\n",
       "</div>"
      ],
      "text/plain": [
       "                                                 Accuracy score  ROC - AUC  \\\n",
       "Linear Support Vector Machine(PCA)                       0.8105     0.7415   \n",
       "Kerenilzed Support Vector Machine(linear - PCA)          0.8100     0.7397   \n",
       "Logistic Regression(PCA)                                 0.8112     0.7359   \n",
       "Decision Tree Classification(PCA)                        0.8149     0.7299   \n",
       "Kerenilzed Support Vector Machine(poly - PCA)            0.8047     0.7292   \n",
       "KNN Classification(PCA)                                  0.8083     0.7275   \n",
       "Kerenilzed Support Vector Machine(rbf - PCA)             0.8100     0.6912   \n",
       "\n",
       "                                                               Optimal Parameter  \n",
       "Linear Support Vector Machine(PCA)                   C: 1, loss: \"squared_hinge\"  \n",
       "Kerenilzed Support Vector Machine(linear - PCA)              C: 10, gamma: 0.001  \n",
       "Logistic Regression(PCA)                                                    C: 1  \n",
       "Decision Tree Classification(PCA)                criterion: \"gini\", max_depth: 4  \n",
       "Kerenilzed Support Vector Machine(poly - PCA)                    C: 10, gamma: 1  \n",
       "KNN Classification(PCA)                                          n_neighbors: 23  \n",
       "Kerenilzed Support Vector Machine(rbf - PCA)                      C: 1, gamma: 1  "
      ]
     },
     "metadata": {},
     "output_type": "display_data"
    }
   ],
   "source": [
    "dict={'Accuracy score':[0.806933,0.822133, 0.814933, 0.8164, 0.812666, 0.8116, 0.8188],\n",
    "      'ROC - AUC':[0.736769, 0.736769, 0.745237, 0.746136, 0.685229, 0.698301,0.747408],\n",
    "     'Optimal Parameter':['n_neighbors: 21', 'criterion: \"gini\", max_depth: 4', 'C: 20', 'C: 1, loss: \"hinge\"','C: 100, gamma: 1','C: 10, gamma: 1','C: 10, gamma: 0.001']}\n",
    "model_results_1= pd.DataFrame(dict,index=['KNN Classification', 'Decision Tree Classification', 'Logistic Regression','Linear Support Vector Machine','Kerenilzed Support Vector Machine(rbf)','Kerenilzed Support Vector Machine(poly)','Kerenilzed Support Vector Machine(linear)'])\n",
    "print('\\n\\n Metrics Summary of all Models From Project One(sorted based on ROC-AUC) :')\n",
    "display(model_results.sort_values(by=['ROC - AUC'],ascending=False))"
   ]
  },
  {
   "cell_type": "code",
   "execution_count": 113,
   "metadata": {},
   "outputs": [],
   "source": [
    "model_results_1.to_csv(\"project1_result_table.csv\")"
   ]
  },
  {
   "cell_type": "markdown",
   "metadata": {},
   "source": [
    "<div class=\"alert alert-block alert-danger\">\n",
    "\n",
    "    \n",
    "    \n",
    "This is the results from the project one which are running without appling PCA.\n",
    "<div>"
   ]
  },
  {
   "cell_type": "code",
   "execution_count": 114,
   "metadata": {},
   "outputs": [
    {
     "name": "stdout",
     "output_type": "stream",
     "text": [
      "\n",
      "\n",
      " Metrics Summary of all Models From Project Two(sorted based on ROC-AUC) :\n"
     ]
    },
    {
     "data": {
      "text/html": [
       "<div>\n",
       "<style scoped>\n",
       "    .dataframe tbody tr th:only-of-type {\n",
       "        vertical-align: middle;\n",
       "    }\n",
       "\n",
       "    .dataframe tbody tr th {\n",
       "        vertical-align: top;\n",
       "    }\n",
       "\n",
       "    .dataframe thead th {\n",
       "        text-align: right;\n",
       "    }\n",
       "</style>\n",
       "<table border=\"1\" class=\"dataframe\">\n",
       "  <thead>\n",
       "    <tr style=\"text-align: right;\">\n",
       "      <th></th>\n",
       "      <th>Accuracy score</th>\n",
       "      <th>ROC - AUC</th>\n",
       "      <th>Optimal Parameter</th>\n",
       "    </tr>\n",
       "  </thead>\n",
       "  <tbody>\n",
       "    <tr>\n",
       "      <th>Linear Support Vector Machine(PCA)</th>\n",
       "      <td>0.8105</td>\n",
       "      <td>0.7415</td>\n",
       "      <td>C: 1, loss: \"squared_hinge\"</td>\n",
       "    </tr>\n",
       "    <tr>\n",
       "      <th>Kerenilzed Support Vector Machine(linear - PCA)</th>\n",
       "      <td>0.8100</td>\n",
       "      <td>0.7397</td>\n",
       "      <td>C: 10, gamma: 0.001</td>\n",
       "    </tr>\n",
       "    <tr>\n",
       "      <th>Logistic Regression(PCA)</th>\n",
       "      <td>0.8112</td>\n",
       "      <td>0.7359</td>\n",
       "      <td>C: 1</td>\n",
       "    </tr>\n",
       "    <tr>\n",
       "      <th>Decision Tree Classification(PCA)</th>\n",
       "      <td>0.8149</td>\n",
       "      <td>0.7299</td>\n",
       "      <td>criterion: \"gini\", max_depth: 4</td>\n",
       "    </tr>\n",
       "    <tr>\n",
       "      <th>Kerenilzed Support Vector Machine(poly - PCA)</th>\n",
       "      <td>0.8047</td>\n",
       "      <td>0.7292</td>\n",
       "      <td>C: 10, gamma: 1</td>\n",
       "    </tr>\n",
       "    <tr>\n",
       "      <th>KNN Classification(PCA)</th>\n",
       "      <td>0.8083</td>\n",
       "      <td>0.7275</td>\n",
       "      <td>n_neighbors: 23</td>\n",
       "    </tr>\n",
       "    <tr>\n",
       "      <th>Kerenilzed Support Vector Machine(rbf - PCA)</th>\n",
       "      <td>0.8100</td>\n",
       "      <td>0.6912</td>\n",
       "      <td>C: 1, gamma: 1</td>\n",
       "    </tr>\n",
       "  </tbody>\n",
       "</table>\n",
       "</div>"
      ],
      "text/plain": [
       "                                                 Accuracy score  ROC - AUC  \\\n",
       "Linear Support Vector Machine(PCA)                       0.8105     0.7415   \n",
       "Kerenilzed Support Vector Machine(linear - PCA)          0.8100     0.7397   \n",
       "Logistic Regression(PCA)                                 0.8112     0.7359   \n",
       "Decision Tree Classification(PCA)                        0.8149     0.7299   \n",
       "Kerenilzed Support Vector Machine(poly - PCA)            0.8047     0.7292   \n",
       "KNN Classification(PCA)                                  0.8083     0.7275   \n",
       "Kerenilzed Support Vector Machine(rbf - PCA)             0.8100     0.6912   \n",
       "\n",
       "                                                               Optimal Parameter  \n",
       "Linear Support Vector Machine(PCA)                   C: 1, loss: \"squared_hinge\"  \n",
       "Kerenilzed Support Vector Machine(linear - PCA)              C: 10, gamma: 0.001  \n",
       "Logistic Regression(PCA)                                                    C: 1  \n",
       "Decision Tree Classification(PCA)                criterion: \"gini\", max_depth: 4  \n",
       "Kerenilzed Support Vector Machine(poly - PCA)                    C: 10, gamma: 1  \n",
       "KNN Classification(PCA)                                          n_neighbors: 23  \n",
       "Kerenilzed Support Vector Machine(rbf - PCA)                      C: 1, gamma: 1  "
      ]
     },
     "metadata": {},
     "output_type": "display_data"
    }
   ],
   "source": [
    "dict={'Accuracy score':[0.8083,0.8149, 0.8112, 0.8105, 0.81, 0.8047, 0.81],\n",
    "      'ROC - AUC':[0.7275, 0.7299, 0.7359, 0.7415, 0.6912, 0.7292,0.7397],\n",
    "     'Optimal Parameter':['n_neighbors: 23', 'criterion: \"gini\", max_depth: 4', 'C: 1', 'C: 1, loss: \"squared_hinge\"','C: 1, gamma: 1','C: 10, gamma: 1','C: 10, gamma: 0.001']}\n",
    "model_results_2= pd.DataFrame(dict,index=['KNN Classification(PCA)', 'Decision Tree Classification(PCA)', 'Logistic Regression(PCA)','Linear Support Vector Machine(PCA)','Kerenilzed Support Vector Machine(rbf - PCA)','Kerenilzed Support Vector Machine(poly - PCA)','Kerenilzed Support Vector Machine(linear - PCA)'])\n",
    "print('\\n\\n Metrics Summary of all Models From Project Two(sorted based on ROC-AUC) :')\n",
    "display(model_results.sort_values(by=['ROC - AUC'],ascending=False))"
   ]
  },
  {
   "cell_type": "code",
   "execution_count": 115,
   "metadata": {},
   "outputs": [],
   "source": [
    "model_results_2.to_csv(\"project2_result_table.csv\")"
   ]
  },
  {
   "cell_type": "markdown",
   "metadata": {},
   "source": [
    "<div class=\"alert alert-block alert-success\">\n",
    "Comparing to results of project 1, all models of project 2 which are applied with PCA show decrease of accuracy score and auc score in general. \n",
    "    So PCA doesn't help much for this case.\n",
    "<div>\n",
    "    "
   ]
  },
  {
   "cell_type": "markdown",
   "metadata": {},
   "source": [
    "<div class=\"alert alert-block alert-info\">\n",
    "<b><font size=\"4\"> Deep learning models </font></b>"
   ]
  },
  {
   "cell_type": "code",
   "execution_count": 89,
   "metadata": {},
   "outputs": [],
   "source": [
    "from keras.models import Sequential\n",
    "from keras.layers import Dense\n",
    "from keras.wrappers.scikit_learn import KerasClassifier"
   ]
  },
  {
   "cell_type": "code",
   "execution_count": 90,
   "metadata": {},
   "outputs": [],
   "source": [
    "def create_model():\n",
    "    #create model\n",
    "    model = Sequential()\n",
    "    model.add(Dense(12, input_dim=8, activation='relu'))\n",
    "    model.add(Dense(8, activation='relu'))\n",
    "    model.add(Dense(1, activation='sigmoid'))\n",
    "    #compile model\n",
    "    model.compile(loss='binary_crossentropy', optimizer='adam', metrics=['accuracy'])\n",
    "    return model"
   ]
  },
  {
   "cell_type": "code",
   "execution_count": 91,
   "metadata": {},
   "outputs": [],
   "source": [
    "seed = 10\n",
    "np.random.seed(10)"
   ]
  },
  {
   "cell_type": "code",
   "execution_count": 92,
   "metadata": {},
   "outputs": [],
   "source": [
    "model = KerasClassifier(build_fn = create_model, verbose = 0)\n",
    "\n",
    "param_grid = {'batch_size':[10,20,30,40] , 'epochs':[10, 50, 100]}\n",
    "grid_search = GridSearchCV(estimator= model, param_grid = param_grid, cv = 5)"
   ]
  },
  {
   "cell_type": "code",
   "execution_count": 93,
   "metadata": {},
   "outputs": [
    {
     "data": {
      "text/plain": [
       "0.8095999956130981"
      ]
     },
     "execution_count": 93,
     "metadata": {},
     "output_type": "execute_result"
    },
    {
     "name": "stdout",
     "output_type": "stream",
     "text": [
      "Best parameters: {'batch_size': 40, 'epochs': 100}\n",
      "Best cross-validation score: 0.808844\n"
     ]
    }
   ],
   "source": [
    "grid_search_result = grid_search.fit(X_train, y_train)\n",
    "grid_search.score(X_test, y_test)\n",
    "print(f'Best parameters: {grid_search.best_params_}')\n",
    "print(f'Best cross-validation score: {grid_search.best_score_:0.6f}')"
   ]
  },
  {
   "cell_type": "markdown",
   "metadata": {},
   "source": [
    "<div class=\"alert alert-block alert-danger\">\n",
    "\n",
    "From the GridSearchCV, we get the best parameters `'batch_size': 40`,` 'epochs': 100`.Then we use this parameter to run the model again to get the accuracy score.\n",
    "<div>"
   ]
  },
  {
   "cell_type": "code",
   "execution_count": 97,
   "metadata": {},
   "outputs": [
    {
     "name": "stdout",
     "output_type": "stream",
     "text": [
      "Epoch 1/100\n",
      "22500/22500 [==============================] - 1s 28us/step - loss: 0.4909 - accuracy: 0.7856\n",
      "Epoch 2/100\n",
      "22500/22500 [==============================] - 1s 24us/step - loss: 0.4537 - accuracy: 0.7928\n",
      "Epoch 3/100\n",
      "22500/22500 [==============================] - 0s 21us/step - loss: 0.4500 - accuracy: 0.8047\n",
      "Epoch 4/100\n",
      "22500/22500 [==============================] - 0s 22us/step - loss: 0.4485 - accuracy: 0.8033 0s - loss: 0.4489 - accuracy: \n",
      "Epoch 5/100\n",
      "22500/22500 [==============================] - 1s 24us/step - loss: 0.4476 - accuracy: 0.8044\n",
      "Epoch 6/100\n",
      "22500/22500 [==============================] - 1s 23us/step - loss: 0.4465 - accuracy: 0.8052 0s - loss: 0.4426 - accura\n",
      "Epoch 7/100\n",
      "22500/22500 [==============================] - 1s 22us/step - loss: 0.4456 - accuracy: 0.8071\n",
      "Epoch 8/100\n",
      "22500/22500 [==============================] - 1s 22us/step - loss: 0.4450 - accuracy: 0.8083\n",
      "Epoch 9/100\n",
      "22500/22500 [==============================] - 0s 22us/step - loss: 0.4446 - accuracy: 0.8092 0s - loss: 0.4521 \n",
      "Epoch 10/100\n",
      "22500/22500 [==============================] - 1s 23us/step - loss: 0.4440 - accuracy: 0.8095\n",
      "Epoch 11/100\n",
      "22500/22500 [==============================] - 1s 28us/step - loss: 0.4435 - accuracy: 0.8096\n",
      "Epoch 12/100\n",
      "22500/22500 [==============================] - 1s 24us/step - loss: 0.4431 - accuracy: 0.8087\n",
      "Epoch 13/100\n",
      "22500/22500 [==============================] - 1s 26us/step - loss: 0.4428 - accuracy: 0.8097\n",
      "Epoch 14/100\n",
      "22500/22500 [==============================] - 1s 24us/step - loss: 0.4421 - accuracy: 0.8103 0s - loss: 0.4413 - accuracy: 0.81\n",
      "Epoch 15/100\n",
      "22500/22500 [==============================] - 1s 26us/step - loss: 0.4420 - accuracy: 0.8097\n",
      "Epoch 16/100\n",
      "22500/22500 [==============================] - 1s 27us/step - loss: 0.4418 - accuracy: 0.8093\n",
      "Epoch 17/100\n",
      "22500/22500 [==============================] - 1s 23us/step - loss: 0.4414 - accuracy: 0.8100\n",
      "Epoch 18/100\n",
      "22500/22500 [==============================] - 1s 26us/step - loss: 0.4414 - accuracy: 0.8097\n",
      "Epoch 19/100\n",
      "22500/22500 [==============================] - 1s 24us/step - loss: 0.4410 - accuracy: 0.8100\n",
      "Epoch 20/100\n",
      "22500/22500 [==============================] - 1s 26us/step - loss: 0.4411 - accuracy: 0.8101\n",
      "Epoch 21/100\n",
      "22500/22500 [==============================] - 1s 27us/step - loss: 0.4408 - accuracy: 0.8108\n",
      "Epoch 22/100\n",
      "22500/22500 [==============================] - 1s 30us/step - loss: 0.4407 - accuracy: 0.8103\n",
      "Epoch 23/100\n",
      "22500/22500 [==============================] - 1s 30us/step - loss: 0.4404 - accuracy: 0.8099\n",
      "Epoch 24/100\n",
      "22500/22500 [==============================] - 1s 30us/step - loss: 0.4402 - accuracy: 0.8095\n",
      "Epoch 25/100\n",
      "22500/22500 [==============================] - 1s 29us/step - loss: 0.4400 - accuracy: 0.8097\n",
      "Epoch 26/100\n",
      "22500/22500 [==============================] - 1s 31us/step - loss: 0.4401 - accuracy: 0.8104\n",
      "Epoch 27/100\n",
      "22500/22500 [==============================] - 1s 30us/step - loss: 0.4398 - accuracy: 0.8096\n",
      "Epoch 28/100\n",
      "22500/22500 [==============================] - 1s 29us/step - loss: 0.4398 - accuracy: 0.8100\n",
      "Epoch 29/100\n",
      "22500/22500 [==============================] - 1s 29us/step - loss: 0.4395 - accuracy: 0.8105\n",
      "Epoch 30/100\n",
      "22500/22500 [==============================] - 1s 28us/step - loss: 0.4396 - accuracy: 0.8109\n",
      "Epoch 31/100\n",
      "22500/22500 [==============================] - 1s 32us/step - loss: 0.4394 - accuracy: 0.8103\n",
      "Epoch 32/100\n",
      "22500/22500 [==============================] - 1s 31us/step - loss: 0.4393 - accuracy: 0.8100\n",
      "Epoch 33/100\n",
      "22500/22500 [==============================] - 1s 30us/step - loss: 0.4393 - accuracy: 0.8102\n",
      "Epoch 34/100\n",
      "22500/22500 [==============================] - 1s 31us/step - loss: 0.4393 - accuracy: 0.8101\n",
      "Epoch 35/100\n",
      "22500/22500 [==============================] - 1s 30us/step - loss: 0.4391 - accuracy: 0.8110\n",
      "Epoch 36/100\n",
      "22500/22500 [==============================] - 1s 28us/step - loss: 0.4391 - accuracy: 0.8107\n",
      "Epoch 37/100\n",
      "22500/22500 [==============================] - 1s 28us/step - loss: 0.4389 - accuracy: 0.8099\n",
      "Epoch 38/100\n",
      "22500/22500 [==============================] - 1s 28us/step - loss: 0.4390 - accuracy: 0.8108\n",
      "Epoch 39/100\n",
      "22500/22500 [==============================] - 1s 31us/step - loss: 0.4389 - accuracy: 0.8099\n",
      "Epoch 40/100\n",
      "22500/22500 [==============================] - 1s 29us/step - loss: 0.4386 - accuracy: 0.8098\n",
      "Epoch 41/100\n",
      "22500/22500 [==============================] - 1s 30us/step - loss: 0.4388 - accuracy: 0.8102\n",
      "Epoch 42/100\n",
      "22500/22500 [==============================] - 1s 27us/step - loss: 0.4387 - accuracy: 0.8106\n",
      "Epoch 43/100\n",
      "22500/22500 [==============================] - 1s 27us/step - loss: 0.4387 - accuracy: 0.8103\n",
      "Epoch 44/100\n",
      "22500/22500 [==============================] - 1s 27us/step - loss: 0.4387 - accuracy: 0.8107\n",
      "Epoch 45/100\n",
      "22500/22500 [==============================] - 1s 27us/step - loss: 0.4383 - accuracy: 0.8107\n",
      "Epoch 46/100\n",
      "22500/22500 [==============================] - 1s 30us/step - loss: 0.4388 - accuracy: 0.8103\n",
      "Epoch 47/100\n",
      "22500/22500 [==============================] - 1s 26us/step - loss: 0.4384 - accuracy: 0.8102\n",
      "Epoch 48/100\n",
      "22500/22500 [==============================] - 1s 27us/step - loss: 0.4385 - accuracy: 0.8105\n",
      "Epoch 49/100\n",
      "22500/22500 [==============================] - 1s 26us/step - loss: 0.4381 - accuracy: 0.8102\n",
      "Epoch 50/100\n",
      "22500/22500 [==============================] - 1s 27us/step - loss: 0.4385 - accuracy: 0.8107\n",
      "Epoch 51/100\n",
      "22500/22500 [==============================] - 1s 28us/step - loss: 0.4381 - accuracy: 0.8109\n",
      "Epoch 52/100\n",
      "22500/22500 [==============================] - 1s 27us/step - loss: 0.4382 - accuracy: 0.8104\n",
      "Epoch 53/100\n",
      "22500/22500 [==============================] - 1s 26us/step - loss: 0.4382 - accuracy: 0.8114\n",
      "Epoch 54/100\n",
      "22500/22500 [==============================] - 1s 28us/step - loss: 0.4383 - accuracy: 0.8111\n",
      "Epoch 55/100\n",
      "22500/22500 [==============================] - 1s 28us/step - loss: 0.4382 - accuracy: 0.8111\n",
      "Epoch 56/100\n",
      "22500/22500 [==============================] - 1s 28us/step - loss: 0.4383 - accuracy: 0.8105\n",
      "Epoch 57/100\n",
      "22500/22500 [==============================] - 1s 27us/step - loss: 0.4379 - accuracy: 0.8113\n",
      "Epoch 58/100\n",
      "22500/22500 [==============================] - 1s 27us/step - loss: 0.4380 - accuracy: 0.8112\n",
      "Epoch 59/100\n",
      "22500/22500 [==============================] - 1s 28us/step - loss: 0.4382 - accuracy: 0.8111\n",
      "Epoch 60/100\n",
      "22500/22500 [==============================] - 1s 30us/step - loss: 0.4380 - accuracy: 0.8108\n",
      "Epoch 61/100\n",
      "22500/22500 [==============================] - 1s 29us/step - loss: 0.4378 - accuracy: 0.8104\n",
      "Epoch 62/100\n",
      "22500/22500 [==============================] - 1s 28us/step - loss: 0.4379 - accuracy: 0.8117\n",
      "Epoch 63/100\n",
      "22500/22500 [==============================] - 1s 27us/step - loss: 0.4380 - accuracy: 0.8111\n",
      "Epoch 64/100\n",
      "22500/22500 [==============================] - 1s 27us/step - loss: 0.4378 - accuracy: 0.8104\n",
      "Epoch 65/100\n",
      "22500/22500 [==============================] - 1s 28us/step - loss: 0.4379 - accuracy: 0.8111\n",
      "Epoch 66/100\n",
      "22500/22500 [==============================] - 1s 29us/step - loss: 0.4377 - accuracy: 0.8109\n",
      "Epoch 67/100\n",
      "22500/22500 [==============================] - 1s 30us/step - loss: 0.4378 - accuracy: 0.8111\n",
      "Epoch 68/100\n",
      "22500/22500 [==============================] - 1s 29us/step - loss: 0.4377 - accuracy: 0.8111\n",
      "Epoch 69/100\n",
      "22500/22500 [==============================] - 1s 31us/step - loss: 0.4378 - accuracy: 0.8105\n",
      "Epoch 70/100\n",
      "22500/22500 [==============================] - 1s 29us/step - loss: 0.4375 - accuracy: 0.8107\n",
      "Epoch 71/100\n",
      "22500/22500 [==============================] - 1s 27us/step - loss: 0.4374 - accuracy: 0.8113\n",
      "Epoch 72/100\n",
      "22500/22500 [==============================] - 1s 31us/step - loss: 0.4375 - accuracy: 0.8109\n",
      "Epoch 73/100\n",
      "22500/22500 [==============================] - 1s 27us/step - loss: 0.4374 - accuracy: 0.8112\n",
      "Epoch 74/100\n",
      "22500/22500 [==============================] - 1s 29us/step - loss: 0.4376 - accuracy: 0.8110\n",
      "Epoch 75/100\n",
      "22500/22500 [==============================] - 1s 28us/step - loss: 0.4374 - accuracy: 0.8112\n",
      "Epoch 76/100\n",
      "22500/22500 [==============================] - 1s 28us/step - loss: 0.4374 - accuracy: 0.8114\n",
      "Epoch 77/100\n",
      "22500/22500 [==============================] - 1s 26us/step - loss: 0.4374 - accuracy: 0.8103\n",
      "Epoch 78/100\n",
      "22500/22500 [==============================] - 1s 28us/step - loss: 0.4374 - accuracy: 0.8103\n",
      "Epoch 79/100\n",
      "22500/22500 [==============================] - 1s 28us/step - loss: 0.4373 - accuracy: 0.8104\n",
      "Epoch 80/100\n",
      "22500/22500 [==============================] - 1s 27us/step - loss: 0.4373 - accuracy: 0.8112\n",
      "Epoch 81/100\n",
      "22500/22500 [==============================] - 1s 29us/step - loss: 0.4372 - accuracy: 0.8109\n",
      "Epoch 82/100\n",
      "22500/22500 [==============================] - 1s 25us/step - loss: 0.4372 - accuracy: 0.8104\n",
      "Epoch 83/100\n",
      "22500/22500 [==============================] - 1s 24us/step - loss: 0.4371 - accuracy: 0.8109\n",
      "Epoch 84/100\n",
      "22500/22500 [==============================] - 1s 25us/step - loss: 0.4374 - accuracy: 0.8102\n",
      "Epoch 85/100\n",
      "22500/22500 [==============================] - 1s 26us/step - loss: 0.4370 - accuracy: 0.8104\n",
      "Epoch 86/100\n",
      "22500/22500 [==============================] - 1s 28us/step - loss: 0.4370 - accuracy: 0.8108\n",
      "Epoch 87/100\n",
      "22500/22500 [==============================] - 1s 25us/step - loss: 0.4370 - accuracy: 0.8112\n",
      "Epoch 88/100\n",
      "22500/22500 [==============================] - 1s 26us/step - loss: 0.4369 - accuracy: 0.8114\n",
      "Epoch 89/100\n",
      "22500/22500 [==============================] - 1s 28us/step - loss: 0.4369 - accuracy: 0.8100\n",
      "Epoch 90/100\n",
      "22500/22500 [==============================] - 1s 26us/step - loss: 0.4370 - accuracy: 0.8112\n",
      "Epoch 91/100\n",
      "22500/22500 [==============================] - 1s 27us/step - loss: 0.4369 - accuracy: 0.8109\n",
      "Epoch 92/100\n",
      "22500/22500 [==============================] - 1s 29us/step - loss: 0.4369 - accuracy: 0.8116\n",
      "Epoch 93/100\n",
      "22500/22500 [==============================] - 1s 26us/step - loss: 0.4370 - accuracy: 0.8110\n",
      "Epoch 94/100\n",
      "22500/22500 [==============================] - 1s 29us/step - loss: 0.4368 - accuracy: 0.8118\n",
      "Epoch 95/100\n",
      "22500/22500 [==============================] - 1s 29us/step - loss: 0.4369 - accuracy: 0.8106\n",
      "Epoch 96/100\n",
      "22500/22500 [==============================] - 1s 29us/step - loss: 0.4367 - accuracy: 0.8112\n",
      "Epoch 97/100\n",
      "22500/22500 [==============================] - 1s 27us/step - loss: 0.4369 - accuracy: 0.8104\n",
      "Epoch 98/100\n",
      "22500/22500 [==============================] - 1s 30us/step - loss: 0.4368 - accuracy: 0.8109\n",
      "Epoch 99/100\n",
      "22500/22500 [==============================] - 1s 28us/step - loss: 0.4366 - accuracy: 0.8116\n",
      "Epoch 100/100\n",
      "22500/22500 [==============================] - 1s 29us/step - loss: 0.4368 - accuracy: 0.8108\n"
     ]
    },
    {
     "data": {
      "text/plain": [
       "<keras.callbacks.callbacks.History at 0x1ea23c813c8>"
      ]
     },
     "execution_count": 97,
     "metadata": {},
     "output_type": "execute_result"
    },
    {
     "name": "stdout",
     "output_type": "stream",
     "text": [
      "7500/7500 [==============================] - 0s 16us/step\n",
      "\n",
      "accuracy: 81.04%\n"
     ]
    }
   ],
   "source": [
    "mdl = Sequential()\n",
    "mdl.add(Dense(12, input_dim=8, activation='relu'))\n",
    "mdl.add(Dense(8, activation='relu'))\n",
    "mdl.add(Dense(1, activation='sigmoid'))\n",
    "\n",
    "mdl.compile(loss='binary_crossentropy', optimizer='adam', metrics=['accuracy'])\n",
    "\n",
    "mdl.fit(X_train, y_train, epochs=100, batch_size=40)\n",
    "\n",
    "# evaluate the model\n",
    "scores = mdl.evaluate(X_test, y_test)\n",
    "print(\"\\n%s: %.2f%%\" % (mdl.metrics_names[1], scores[1]*100))"
   ]
  },
  {
   "cell_type": "code",
   "execution_count": 108,
   "metadata": {},
   "outputs": [
    {
     "data": {
      "text/plain": [
       "<Figure size 720x576 with 0 Axes>"
      ]
     },
     "execution_count": 108,
     "metadata": {},
     "output_type": "execute_result"
    },
    {
     "data": {
      "text/plain": [
       "[<matplotlib.lines.Line2D at 0x1ea250e9e10>]"
      ]
     },
     "execution_count": 108,
     "metadata": {},
     "output_type": "execute_result"
    },
    {
     "data": {
      "text/plain": [
       "[<matplotlib.lines.Line2D at 0x1ea250f6390>]"
      ]
     },
     "execution_count": 108,
     "metadata": {},
     "output_type": "execute_result"
    },
    {
     "data": {
      "text/plain": [
       "(0.0, 1.0)"
      ]
     },
     "execution_count": 108,
     "metadata": {},
     "output_type": "execute_result"
    },
    {
     "data": {
      "text/plain": [
       "(0.0, 1.05)"
      ]
     },
     "execution_count": 108,
     "metadata": {},
     "output_type": "execute_result"
    },
    {
     "data": {
      "text/plain": [
       "Text(0.5, 0, 'False Positive Rate')"
      ]
     },
     "execution_count": 108,
     "metadata": {},
     "output_type": "execute_result"
    },
    {
     "data": {
      "text/plain": [
       "Text(0, 0.5, 'True Positive Rate')"
      ]
     },
     "execution_count": 108,
     "metadata": {},
     "output_type": "execute_result"
    },
    {
     "data": {
      "text/plain": [
       "Text(0.5, 1.0, 'Receiver operating characteristic')"
      ]
     },
     "execution_count": 108,
     "metadata": {},
     "output_type": "execute_result"
    },
    {
     "data": {
      "text/plain": [
       "<matplotlib.legend.Legend at 0x1ea250beda0>"
      ]
     },
     "execution_count": 108,
     "metadata": {},
     "output_type": "execute_result"
    },
    {
     "data": {
      "image/png": "[encoded data removed]",
      "text/plain": [
       "<Figure size 720x576 with 1 Axes>"
      ]
     },
     "metadata": {
      "needs_background": "light"
     },
     "output_type": "display_data"
    }
   ],
   "source": [
    "\n",
    "y_cat_prob=mdl.predict_proba(X_test)\n",
    "fpr9 , tpr9 , thresholds = roc_curve ( y_test , y_cat_prob)\n",
    "\n",
    "roc_auc9 = roc_auc_score(y_test, y_cat_prob)\n",
    "\n",
    "plt.figure(figsize=(10,8))\n",
    "plt.plot(fpr7,tpr7,label=\"KerasClassifier, auc=\"+str(round(roc_auc9,2)),color='Black')    \n",
    "                            \n",
    "plt.plot([0, 1], [0, 1],'r--')\n",
    "plt.xlim([0.0, 1.0])\n",
    "plt.ylim([0.0, 1.05])\n",
    "plt.xlabel('False Positive Rate', fontsize=20)\n",
    "plt.ylabel('True Positive Rate', fontsize=20)\n",
    "plt.title('Receiver operating characteristic', fontsize=25)\n",
    "plt.legend(loc=\"lower right\",prop= {'size':19})\n",
    "plt.savefig('ROC.png')\n",
    "plt.show()"
   ]
  },
  {
   "cell_type": "markdown",
   "metadata": {},
   "source": [
    "<div class=\"alert alert-block alert-danger\">\n",
    "\n",
    "We run the model again, and find the accuracy of this model with the best parameter is `81.04%` and the `AUC score` is`0.77` .\n",
    "<div>"
   ]
  }
 ],
 "metadata": {
  "kernelspec": {
   "display_name": "Python 3",
   "language": "python",
   "name": "python3"
  },
  "language_info": {
   "codemirror_mode": {
    "name": "ipython",
    "version": 3
   },
   "file_extension": ".py",
   "mimetype": "text/x-python",
   "name": "python",
   "nbconvert_exporter": "python",
   "pygments_lexer": "ipython3",
   "version": "3.7.2rc1"
  }
 },
 "nbformat": 4,
 "nbformat_minor": 2
}
